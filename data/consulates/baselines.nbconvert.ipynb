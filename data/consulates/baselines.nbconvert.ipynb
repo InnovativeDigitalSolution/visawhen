{
 "cells": [
  {
   "cell_type": "code",
   "execution_count": 1,
   "metadata": {
    "execution": {
     "iopub.execute_input": "2021-11-29T01:25:56.938891Z",
     "iopub.status.busy": "2021-11-29T01:25:56.938405Z",
     "iopub.status.idle": "2021-11-29T01:25:57.175944Z",
     "shell.execute_reply": "2021-11-29T01:25:57.175482Z"
    }
   },
   "outputs": [],
   "source": [
    "import pandas as pd\n",
    "import numpy as np\n",
    "import sqlite3\n",
    "\n",
    "conn = sqlite3.connect(\"consulates.sqlite\")"
   ]
  },
  {
   "cell_type": "code",
   "execution_count": null,
   "metadata": {},
   "outputs": [],
   "source": []
  },
  {
   "cell_type": "code",
   "execution_count": 2,
   "metadata": {
    "execution": {
     "iopub.execute_input": "2021-11-29T01:25:57.180408Z",
     "iopub.status.busy": "2021-11-29T01:25:57.179959Z",
     "iopub.status.idle": "2021-11-29T01:25:57.252723Z",
     "shell.execute_reply": "2021-11-29T01:25:57.253085Z"
    }
   },
   "outputs": [
    {
     "data": {
      "text/plain": [
       "(DatetimeIndex(['2017-03-01', '2017-04-01', '2017-05-01', '2017-06-01',\n",
       "                '2017-07-01', '2017-08-01', '2017-09-01', '2017-10-01',\n",
       "                '2017-11-01', '2017-12-01', '2018-01-01', '2018-02-01',\n",
       "                '2018-03-01', '2018-04-01', '2018-05-01', '2018-06-01',\n",
       "                '2018-07-01', '2018-08-01', '2018-09-01', '2018-10-01',\n",
       "                '2018-11-01', '2018-12-01', '2019-01-01', '2019-02-01',\n",
       "                '2019-03-01', '2019-04-01', '2019-05-01', '2019-06-01',\n",
       "                '2019-07-01', '2019-08-01', '2019-09-01', '2019-10-01',\n",
       "                '2019-11-01', '2019-12-01', '2020-01-01', '2020-02-01'],\n",
       "               dtype='datetime64[ns]', name='Month', freq='MS'),\n",
       " DatetimeIndex(['2020-03-01', '2020-04-01', '2020-05-01', '2020-06-01',\n",
       "                '2020-07-01', '2020-08-01', '2020-09-01', '2020-10-01',\n",
       "                '2020-11-01', '2020-12-01', '2021-01-01', '2021-02-01',\n",
       "                '2021-03-01', '2021-04-01', '2021-05-01', '2021-06-01',\n",
       "                '2021-07-01', '2021-08-01', '2021-09-01'],\n",
       "               dtype='datetime64[ns]', name='Month', freq='MS'))"
      ]
     },
     "execution_count": 2,
     "metadata": {},
     "output_type": "execute_result"
    }
   ],
   "source": [
    "df = pd.read_pickle(\"all_months.pkl\")\n",
    "DATA_START_DATE = df[\"Month\"].min()\n",
    "DATA_END_DATE = df[\"Month\"].max()\n",
    "COVID_START_DATE = pd.Timestamp(\"20200301\")\n",
    "NORMAL_MONTHS = pd.date_range(\n",
    "    start=DATA_START_DATE, end=COVID_START_DATE, freq=\"MS\", name=\"Month\", closed=\"left\"\n",
    ")\n",
    "COVID_MONTHS = pd.date_range(\n",
    "    start=COVID_START_DATE, end=DATA_END_DATE, freq=\"MS\", name=\"Month\"\n",
    ")\n",
    "NORMAL_MONTHS, COVID_MONTHS"
   ]
  },
  {
   "cell_type": "code",
   "execution_count": 3,
   "metadata": {
    "execution": {
     "iopub.execute_input": "2021-11-29T01:25:57.272188Z",
     "iopub.status.busy": "2021-11-29T01:25:57.271723Z",
     "iopub.status.idle": "2021-11-29T01:25:58.854250Z",
     "shell.execute_reply": "2021-11-29T01:25:58.855055Z"
    }
   },
   "outputs": [
    {
     "data": {
      "text/html": [
       "<div>\n",
       "<style scoped>\n",
       "    .dataframe tbody tr th:only-of-type {\n",
       "        vertical-align: middle;\n",
       "    }\n",
       "\n",
       "    .dataframe tbody tr th {\n",
       "        vertical-align: top;\n",
       "    }\n",
       "\n",
       "    .dataframe thead th {\n",
       "        text-align: right;\n",
       "    }\n",
       "</style>\n",
       "<table border=\"1\" class=\"dataframe\">\n",
       "  <thead>\n",
       "    <tr style=\"text-align: right;\">\n",
       "      <th></th>\n",
       "      <th>Post</th>\n",
       "      <th>Visa Class</th>\n",
       "      <th>Month</th>\n",
       "      <th>Issuances</th>\n",
       "    </tr>\n",
       "  </thead>\n",
       "  <tbody>\n",
       "    <tr>\n",
       "      <th>0</th>\n",
       "      <td>Vilnius</td>\n",
       "      <td>G2</td>\n",
       "      <td>2017-03-01</td>\n",
       "      <td>2</td>\n",
       "    </tr>\n",
       "    <tr>\n",
       "      <th>1</th>\n",
       "      <td>Cotonou</td>\n",
       "      <td>F1</td>\n",
       "      <td>2017-03-01</td>\n",
       "      <td>12</td>\n",
       "    </tr>\n",
       "    <tr>\n",
       "      <th>2</th>\n",
       "      <td>Cotonou</td>\n",
       "      <td>B1/B2</td>\n",
       "      <td>2017-03-01</td>\n",
       "      <td>115</td>\n",
       "    </tr>\n",
       "    <tr>\n",
       "      <th>3</th>\n",
       "      <td>Cotonou</td>\n",
       "      <td>A2</td>\n",
       "      <td>2017-03-01</td>\n",
       "      <td>4</td>\n",
       "    </tr>\n",
       "    <tr>\n",
       "      <th>4</th>\n",
       "      <td>Cotonou</td>\n",
       "      <td>A1</td>\n",
       "      <td>2017-03-01</td>\n",
       "      <td>1</td>\n",
       "    </tr>\n",
       "    <tr>\n",
       "      <th>...</th>\n",
       "      <td>...</td>\n",
       "      <td>...</td>\n",
       "      <td>...</td>\n",
       "      <td>...</td>\n",
       "    </tr>\n",
       "    <tr>\n",
       "      <th>266868</th>\n",
       "      <td>Ulaanbaatar</td>\n",
       "      <td>CR2/IR2</td>\n",
       "      <td>2021-09-01</td>\n",
       "      <td>1</td>\n",
       "    </tr>\n",
       "    <tr>\n",
       "      <th>266869</th>\n",
       "      <td>Ulaanbaatar</td>\n",
       "      <td>IR5</td>\n",
       "      <td>2021-09-01</td>\n",
       "      <td>4</td>\n",
       "    </tr>\n",
       "    <tr>\n",
       "      <th>266870</th>\n",
       "      <td>Ulaanbaatar</td>\n",
       "      <td>SB1</td>\n",
       "      <td>2021-09-01</td>\n",
       "      <td>1</td>\n",
       "    </tr>\n",
       "    <tr>\n",
       "      <th>266871</th>\n",
       "      <td>Tunis</td>\n",
       "      <td>CR2/IR2</td>\n",
       "      <td>2021-09-01</td>\n",
       "      <td>9</td>\n",
       "    </tr>\n",
       "    <tr>\n",
       "      <th>266872</th>\n",
       "      <td>Zagreb</td>\n",
       "      <td>O1</td>\n",
       "      <td>2021-09-01</td>\n",
       "      <td>1</td>\n",
       "    </tr>\n",
       "  </tbody>\n",
       "</table>\n",
       "<p>266873 rows × 4 columns</p>\n",
       "</div>"
      ],
      "text/plain": [
       "               Post Visa Class      Month  Issuances\n",
       "0           Vilnius         G2 2017-03-01          2\n",
       "1           Cotonou         F1 2017-03-01         12\n",
       "2           Cotonou      B1/B2 2017-03-01        115\n",
       "3           Cotonou         A2 2017-03-01          4\n",
       "4           Cotonou         A1 2017-03-01          1\n",
       "...             ...        ...        ...        ...\n",
       "266868  Ulaanbaatar    CR2/IR2 2021-09-01          1\n",
       "266869  Ulaanbaatar        IR5 2021-09-01          4\n",
       "266870  Ulaanbaatar        SB1 2021-09-01          1\n",
       "266871        Tunis    CR2/IR2 2021-09-01          9\n",
       "266872       Zagreb         O1 2021-09-01          1\n",
       "\n",
       "[266873 rows x 4 columns]"
      ]
     },
     "execution_count": 3,
     "metadata": {},
     "output_type": "execute_result"
    }
   ],
   "source": [
    "# fmt:off\n",
    "df[\"Visa Class\"] = df[\"Visa Class\"].replace(\n",
    "    to_replace={\n",
    "        \"B1\": \"B1/B2\",\n",
    "        \"B2\": \"B1/B2\",\n",
    "\n",
    "        \"BBBCC\": \"BBBCC/BBBCV\",\n",
    "        \"BBBCV\": \"BBBCC/BBBCV\",\n",
    "\n",
    "        # conditionals based on https://travel.state.gov/content/dam/visas/Statistics/Immigrant-Statistics/MonthlyIVIssuances/Immigrant%20Visa%20Symbols.pdf\n",
    "        \"CR1\": \"CR1/IR1\",\n",
    "        \"CR2\": \"CR2/IR2\",\n",
    "        \"IR1\": \"CR1/IR1\",\n",
    "        \"IR2\": \"CR2/IR2\",\n",
    "\n",
    "        \"CX1\": \"CX1/FX1\",\n",
    "        \"CX2\": \"CX2/FX2\",\n",
    "        \"CX3\": \"CX3/FX3\",\n",
    "        \"FX1\": \"CX1/FX1\",\n",
    "        \"FX2\": \"CX2/FX2\",\n",
    "        \"FX3\": \"CX3/FX3\",\n",
    "        \"FX1\": \"CX1/FX1\",\n",
    "\n",
    "        \"C21\": \"C21/F21\",\n",
    "        \"C22\": \"C22/F22\",\n",
    "        \"C23\": \"C23/F23\",\n",
    "        \"C24\": \"C24/F24\",\n",
    "        \"C25\": \"C25/F25\",\n",
    "        \"F21\": \"C21/F21\",\n",
    "        \"F22\": \"C22/F22\",\n",
    "        \"F23\": \"C23/F23\",\n",
    "        \"F24\": \"C24/F24\",\n",
    "        \"F25\": \"C25/F25\",\n",
    "\n",
    "        \"C31\": \"C31/F31\",\n",
    "        \"C32\": \"C32/F32\",\n",
    "        \"C33\": \"C33/F33\",\n",
    "        \"F31\": \"C31/F31\",\n",
    "        \"F32\": \"C32/F32\",\n",
    "        \"F33\": \"C33/F33\",\n",
    "\n",
    "        \"CW1\": \"CW1/IW1\",\n",
    "        \"CW2\": \"CW2/IW2\",\n",
    "        \"IW1\": \"CW1/IW1\",\n",
    "        \"IW2\": \"CW2/IW2\",\n",
    "\n",
    "        \"E21\": \"E2\",\n",
    "        \"E22\": \"E2\",\n",
    "        \"E23\": \"E2\",\n",
    "        \"E2C\": \"E2\",\n",
    "\n",
    "        \"E31\": \"E3\",\n",
    "        \"E32\": \"E3\",\n",
    "        \"E33\": \"E3\",\n",
    "        \"E34\": \"E3\",\n",
    "        \"E35\": \"E3\",\n",
    "        \"E3D\": \"E3\",\n",
    "        \"E3P\": \"E3\",\n",
    "\n",
    "        \"AM\": \"AM1\",\n",
    "        \"BX\": \"BX1\",\n",
    "        \"C2A\": \"C2\",\n",
    "        \"CX\": \"C21/F21\",\n",
    "        \"DV\": \"DV1\",\n",
    "        \"E4\": \"SE1\",\n",
    "        \"EW\": \"EW3\",\n",
    "        \"F2A\": \"C21/F21\",\n",
    "        \"F2B\": \"C24/F24\",\n",
    "        \"F3\": \"C31/F31\",\n",
    "        \"F4\": \"F41\",\n",
    "        \"FX\": \"C21/F21\",\n",
    "        \"I5\": \"I51\",\n",
    "        \"IW\": \"CW1/IW1\",\n",
    "        \"SD\": \"SD1\",\n",
    "        \"SE\": \"SE1\",\n",
    "        \"SI\": \"SI1\",\n",
    "        \"SM\": \"SM1\",\n",
    "        \"SQ\": \"SQ1\",\n",
    "        \"SR\": \"SR1\",\n",
    "        \"SU\": \"U1\",\n",
    "    }\n",
    ")\n",
    "# fmt:on\n",
    "\n",
    "df[\"Post\"] = df[\"Post\"].replace(\n",
    "    to_replace={\n",
    "        \"AIT Taipei\": \"Taipei\",\n",
    "        \"Dar Es Salaam\": \"Dar es Salaam\",\n",
    "        \"Mumbai (Bombay)\": \"Mumbai\",\n",
    "        \"Guatemala\": \"Guatemala City\",\n",
    "        \"Panama\": \"Panama City\",\n",
    "        \"Kuwait\": \"Kuwait City\",\n",
    "        \"Port Au Prince\": \"Port-au-Prince\",\n",
    "        \"Port Of Spain\": \"Port of Spain\",\n",
    "        \"Rio De Janeiro\": \"Rio de Janeiro\",\n",
    "        \"Tijuana Tpf\": \"Tijuana\",\n",
    "        \"Chennai ( Madras)\": \"Chennai\",\n",
    "        \"Chennai (Madras)\": \"Chennai\",\n",
    "    }\n",
    ")\n",
    "df = df.groupby([\"Post\", \"Visa Class\", \"Month\"], as_index=False, sort=False)[\n",
    "    \"Issuances\"\n",
    "].sum()\n",
    "df"
   ]
  },
  {
   "cell_type": "code",
   "execution_count": 4,
   "metadata": {
    "execution": {
     "iopub.execute_input": "2021-11-29T01:25:58.861395Z",
     "iopub.status.busy": "2021-11-29T01:25:58.857340Z",
     "iopub.status.idle": "2021-11-29T01:26:01.048098Z",
     "shell.execute_reply": "2021-11-29T01:26:01.047680Z"
    }
   },
   "outputs": [
    {
     "name": "stderr",
     "output_type": "stream",
     "text": [
      "/home/runner/.cache/pypoetry/virtualenvs/consulates-YiFvjhQe-py3.10/lib/python3.10/site-packages/pandas/core/generic.py:2872: UserWarning: The spaces in these column names will not be changed. In pandas versions < 0.14, spaces were converted to underscores.\n",
      "  sql.to_sql(\n"
     ]
    }
   ],
   "source": [
    "import re\n",
    "\n",
    "\n",
    "def slugify(text: str) -> str:\n",
    "    text = text.strip().lower()\n",
    "    text = re.sub(r\"[\\s_]\", \"-\", text)\n",
    "    text = re.sub(r\"[^\\w-]\", \"\", text)\n",
    "    return text\n",
    "\n",
    "\n",
    "df[\"Post Slug\"] = df[\"Post\"].apply(slugify)\n",
    "df[\"Visa Class Slug\"] = df[\"Visa Class\"].apply(slugify)\n",
    "\n",
    "post_slugs = pd.DataFrame(\n",
    "    df[[\"Post Slug\", \"Post\"]].drop_duplicates().set_index(\"Post Slug\")\n",
    ")\n",
    "post_slugs.to_sql(\"post_slugs\", conn, if_exists=\"replace\")\n",
    "\n",
    "visa_slugs = pd.DataFrame(\n",
    "    df[[\"Visa Class Slug\", \"Visa Class\"]].drop_duplicates().set_index(\"Visa Class Slug\")\n",
    ")\n",
    "\n",
    "visa_descriptions_sheet_url = \"https://docs.google.com/spreadsheets/d/1GLtqb3PVXFriG7lanunfYJrpUE7_e0_L-PEN2spBQbY/export?format=csv\"\n",
    "\n",
    "visa_descriptions = pd.read_csv(visa_descriptions_sheet_url).set_index(\n",
    "    \"Visa Class Slug\"\n",
    ")\n",
    "\n",
    "visa_slugs = visa_slugs.join(visa_descriptions, on=\"Visa Class Slug\")\n",
    "visa_slugs.to_sql(\"visa_slugs\", conn, if_exists=\"replace\")"
   ]
  },
  {
   "cell_type": "code",
   "execution_count": 5,
   "metadata": {
    "execution": {
     "iopub.execute_input": "2021-11-29T01:26:01.056150Z",
     "iopub.status.busy": "2021-11-29T01:26:01.050180Z",
     "iopub.status.idle": "2021-11-29T01:26:22.360632Z",
     "shell.execute_reply": "2021-11-29T01:26:22.360979Z"
    },
    "tags": []
   },
   "outputs": [
    {
     "data": {
      "text/html": [
       "<div>\n",
       "<style scoped>\n",
       "    .dataframe tbody tr th:only-of-type {\n",
       "        vertical-align: middle;\n",
       "    }\n",
       "\n",
       "    .dataframe tbody tr th {\n",
       "        vertical-align: top;\n",
       "    }\n",
       "\n",
       "    .dataframe thead th {\n",
       "        text-align: right;\n",
       "    }\n",
       "</style>\n",
       "<table border=\"1\" class=\"dataframe\">\n",
       "  <thead>\n",
       "    <tr style=\"text-align: right;\">\n",
       "      <th></th>\n",
       "      <th></th>\n",
       "      <th>Issuances</th>\n",
       "    </tr>\n",
       "    <tr>\n",
       "      <th>Post Slug</th>\n",
       "      <th>Visa Class Slug</th>\n",
       "      <th></th>\n",
       "    </tr>\n",
       "  </thead>\n",
       "  <tbody>\n",
       "    <tr>\n",
       "      <th>vilnius</th>\n",
       "      <th>g2</th>\n",
       "      <td>2.055556</td>\n",
       "    </tr>\n",
       "    <tr>\n",
       "      <th rowspan=\"4\" valign=\"top\">cotonou</th>\n",
       "      <th>f1</th>\n",
       "      <td>8.861111</td>\n",
       "    </tr>\n",
       "    <tr>\n",
       "      <th>b1b2</th>\n",
       "      <td>96.777778</td>\n",
       "    </tr>\n",
       "    <tr>\n",
       "      <th>a2</th>\n",
       "      <td>5.972222</td>\n",
       "    </tr>\n",
       "    <tr>\n",
       "      <th>a1</th>\n",
       "      <td>1.305556</td>\n",
       "    </tr>\n",
       "    <tr>\n",
       "      <th>...</th>\n",
       "      <th>...</th>\n",
       "      <td>...</td>\n",
       "    </tr>\n",
       "    <tr>\n",
       "      <th>seoul</th>\n",
       "      <th>t5</th>\n",
       "      <td>0.000000</td>\n",
       "    </tr>\n",
       "    <tr>\n",
       "      <th>sofia</th>\n",
       "      <th>se1</th>\n",
       "      <td>0.000000</td>\n",
       "    </tr>\n",
       "    <tr>\n",
       "      <th>sarajevo</th>\n",
       "      <th>ew3</th>\n",
       "      <td>0.000000</td>\n",
       "    </tr>\n",
       "    <tr>\n",
       "      <th>tegucigalpa</th>\n",
       "      <th>ih3</th>\n",
       "      <td>0.000000</td>\n",
       "    </tr>\n",
       "    <tr>\n",
       "      <th>vienna</th>\n",
       "      <th>ew3</th>\n",
       "      <td>0.000000</td>\n",
       "    </tr>\n",
       "  </tbody>\n",
       "</table>\n",
       "<p>13385 rows × 1 columns</p>\n",
       "</div>"
      ],
      "text/plain": [
       "                             Issuances\n",
       "Post Slug   Visa Class Slug           \n",
       "vilnius     g2                2.055556\n",
       "cotonou     f1                8.861111\n",
       "            b1b2             96.777778\n",
       "            a2                5.972222\n",
       "            a1                1.305556\n",
       "...                                ...\n",
       "seoul       t5                0.000000\n",
       "sofia       se1               0.000000\n",
       "sarajevo    ew3               0.000000\n",
       "tegucigalpa ih3               0.000000\n",
       "vienna      ew3               0.000000\n",
       "\n",
       "[13385 rows x 1 columns]"
      ]
     },
     "execution_count": 5,
     "metadata": {},
     "output_type": "execute_result"
    }
   ],
   "source": [
    "def get_baseline(df: pd.DataFrame) -> pd.DataFrame:\n",
    "    df = df.set_index(\"Month\")\n",
    "    return df[[\"Issuances\"]].reindex(index=NORMAL_MONTHS, fill_value=0).mean()\n",
    "\n",
    "\n",
    "baselines = df.groupby([\"Post Slug\", \"Visa Class Slug\"], sort=False).apply(get_baseline)\n",
    "baselines"
   ]
  },
  {
   "cell_type": "code",
   "execution_count": 6,
   "metadata": {
    "execution": {
     "iopub.execute_input": "2021-11-29T01:26:22.379083Z",
     "iopub.status.busy": "2021-11-29T01:26:22.378645Z",
     "iopub.status.idle": "2021-11-29T01:26:22.400519Z",
     "shell.execute_reply": "2021-11-29T01:26:22.400891Z"
    }
   },
   "outputs": [
    {
     "data": {
      "text/html": [
       "<div>\n",
       "<style scoped>\n",
       "    .dataframe tbody tr th:only-of-type {\n",
       "        vertical-align: middle;\n",
       "    }\n",
       "\n",
       "    .dataframe tbody tr th {\n",
       "        vertical-align: top;\n",
       "    }\n",
       "\n",
       "    .dataframe thead th {\n",
       "        text-align: right;\n",
       "    }\n",
       "</style>\n",
       "<table border=\"1\" class=\"dataframe\">\n",
       "  <thead>\n",
       "    <tr style=\"text-align: right;\">\n",
       "      <th></th>\n",
       "      <th>Post</th>\n",
       "      <th>Visa Class</th>\n",
       "      <th>Month</th>\n",
       "      <th>Issuances</th>\n",
       "      <th>Post Slug</th>\n",
       "      <th>Visa Class Slug</th>\n",
       "    </tr>\n",
       "  </thead>\n",
       "  <tbody>\n",
       "  </tbody>\n",
       "</table>\n",
       "</div>"
      ],
      "text/plain": [
       "Empty DataFrame\n",
       "Columns: [Post, Visa Class, Month, Issuances, Post Slug, Visa Class Slug]\n",
       "Index: []"
      ]
     },
     "execution_count": 6,
     "metadata": {},
     "output_type": "execute_result"
    }
   ],
   "source": [
    "df.loc[df[\"Post Slug\"] == \"guayaquil\"].loc[df[\"Visa Class Slug\"] == \"f3\"]"
   ]
  },
  {
   "cell_type": "code",
   "execution_count": 7,
   "metadata": {
    "execution": {
     "iopub.execute_input": "2021-11-29T01:26:22.404489Z",
     "iopub.status.busy": "2021-11-29T01:26:22.404042Z",
     "iopub.status.idle": "2021-11-29T01:26:22.407950Z",
     "shell.execute_reply": "2021-11-29T01:26:22.408308Z"
    }
   },
   "outputs": [
    {
     "data": {
      "text/plain": [
       "Issuances    2.916667\n",
       "Name: (budapest, cr1ir1), dtype: float64"
      ]
     },
     "execution_count": 7,
     "metadata": {},
     "output_type": "execute_result"
    }
   ],
   "source": [
    "baselines.loc[(\"budapest\", \"cr1ir1\")]"
   ]
  },
  {
   "cell_type": "code",
   "execution_count": 8,
   "metadata": {
    "execution": {
     "iopub.execute_input": "2021-11-29T01:26:22.411698Z",
     "iopub.status.busy": "2021-11-29T01:26:22.411262Z",
     "iopub.status.idle": "2021-11-29T01:26:22.461064Z",
     "shell.execute_reply": "2021-11-29T01:26:22.461419Z"
    }
   },
   "outputs": [
    {
     "name": "stderr",
     "output_type": "stream",
     "text": [
      "/home/runner/.cache/pypoetry/virtualenvs/consulates-YiFvjhQe-py3.10/lib/python3.10/site-packages/pandas/core/generic.py:2872: UserWarning: The spaces in these column names will not be changed. In pandas versions < 0.14, spaces were converted to underscores.\n",
      "  sql.to_sql(\n"
     ]
    }
   ],
   "source": [
    "baselines.to_pickle(\"baselines.pkl\")\n",
    "baselines.to_sql(\"baselines\", conn, if_exists=\"replace\")"
   ]
  },
  {
   "cell_type": "code",
   "execution_count": 9,
   "metadata": {
    "execution": {
     "iopub.execute_input": "2021-11-29T01:26:22.471953Z",
     "iopub.status.busy": "2021-11-29T01:26:22.471489Z",
     "iopub.status.idle": "2021-11-29T01:27:50.569418Z",
     "shell.execute_reply": "2021-11-29T01:27:50.568998Z"
    },
    "tags": []
   },
   "outputs": [],
   "source": [
    "def get_backlog(df: pd.DataFrame) -> pd.DataFrame:\n",
    "    df = df.reset_index()\n",
    "    key = tuple(df.loc[0, [\"Post Slug\", \"Visa Class Slug\"]])\n",
    "    baseline = baselines.loc[key][0]\n",
    "\n",
    "    df = df.set_index(\"Month\")\n",
    "\n",
    "    normal_months = df[[\"Issuances\"]].reindex(index=NORMAL_MONTHS, fill_value=0)\n",
    "\n",
    "    covid_months = df[[\"Issuances\"]].reindex(index=COVID_MONTHS, fill_value=0)\n",
    "    covid_months[\"Actual Progress\"] = covid_months[\"Issuances\"].cumsum()\n",
    "    covid_months[\"Expected Progress\"] = np.linspace(\n",
    "        baseline, baseline * len(covid_months), num=len(covid_months)\n",
    "    )\n",
    "    covid_months[\"Backlog\"] = (\n",
    "        covid_months[\"Actual Progress\"] - covid_months[\"Expected Progress\"]\n",
    "    )\n",
    "    covid_months[\"Months Ahead\"] = covid_months[\"Backlog\"] / baseline\n",
    "    covid_months = covid_months.drop(columns=[\"Actual Progress\", \"Expected Progress\"])\n",
    "\n",
    "    return pd.concat([normal_months, covid_months])[\n",
    "        [\"Issuances\", \"Backlog\", \"Months Ahead\"]\n",
    "    ]\n",
    "\n",
    "\n",
    "backlogs = df.groupby([\"Post Slug\", \"Visa Class Slug\"], sort=False).apply(get_backlog)"
   ]
  },
  {
   "cell_type": "code",
   "execution_count": 10,
   "metadata": {
    "execution": {
     "iopub.execute_input": "2021-11-29T01:27:50.583331Z",
     "iopub.status.busy": "2021-11-29T01:27:50.582885Z",
     "iopub.status.idle": "2021-11-29T01:27:50.599074Z",
     "shell.execute_reply": "2021-11-29T01:27:50.598572Z"
    }
   },
   "outputs": [],
   "source": [
    "backlogs.to_pickle(\"backlogs.pkl\")"
   ]
  },
  {
   "cell_type": "code",
   "execution_count": 11,
   "metadata": {
    "execution": {
     "iopub.execute_input": "2021-11-29T01:27:50.602263Z",
     "iopub.status.busy": "2021-11-29T01:27:50.601848Z",
     "iopub.status.idle": "2021-11-29T01:27:56.397133Z",
     "shell.execute_reply": "2021-11-29T01:27:56.396739Z"
    }
   },
   "outputs": [],
   "source": [
    "backlogs.to_sql(\"backlogs\", conn, if_exists=\"replace\")"
   ]
  },
  {
   "cell_type": "code",
   "execution_count": null,
   "metadata": {},
   "outputs": [],
   "source": []
  },
  {
   "cell_type": "code",
   "execution_count": null,
   "metadata": {},
   "outputs": [],
   "source": []
  }
 ],
 "metadata": {
  "interpreter": {
   "hash": "eafa1fee82ed09f6a9110518f76de6de71462f56178c4d5fe4b35b7a9241d2b7"
  },
  "kernelspec": {
   "display_name": "Python 3.9.4 64-bit ('.venv': poetry)",
   "name": "python3"
  },
  "language_info": {
   "codemirror_mode": {
    "name": "ipython",
    "version": 3
   },
   "file_extension": ".py",
   "mimetype": "text/x-python",
   "name": "python",
   "nbconvert_exporter": "python",
   "pygments_lexer": "ipython3",
   "version": "3.10.0"
  }
 },
 "nbformat": 4,
 "nbformat_minor": 2
}
