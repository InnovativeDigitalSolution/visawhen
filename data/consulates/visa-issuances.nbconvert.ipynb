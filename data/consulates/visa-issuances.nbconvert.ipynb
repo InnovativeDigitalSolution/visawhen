{
 "cells": [
  {
   "cell_type": "code",
   "execution_count": 1,
   "metadata": {
    "execution": {
     "iopub.execute_input": "2021-11-28T23:28:45.770548Z",
     "iopub.status.busy": "2021-11-28T23:28:45.770054Z",
     "iopub.status.idle": "2021-11-28T23:28:46.884143Z",
     "shell.execute_reply": "2021-11-28T23:28:46.883246Z"
    }
   },
   "outputs": [],
   "source": [
    "import requests\n",
    "from requests_html import HTMLSession\n",
    "import arrow\n",
    "from pathlib import Path\n",
    "from dask.distributed import Client, LocalCluster\n",
    "import dns.resolver\n",
    "import os\n",
    "\n",
    "CI = True\n",
    "\n",
    "cluster = LocalCluster(\n",
    "    n_workers=1 if CI else 16, threads_per_worker=1, processes=not CI\n",
    ")\n",
    "client = Client(cluster)  # start local workers as processes\n",
    "\n",
    "session = HTMLSession()\n",
    "CWD = Path.cwd()\n",
    "PDFS_DIR = CWD / \"pdfs\"\n",
    "PDFS_DIR.mkdir(exist_ok=True)"
   ]
  },
  {
   "cell_type": "code",
   "execution_count": 2,
   "metadata": {
    "execution": {
     "iopub.execute_input": "2021-11-28T23:28:46.890667Z",
     "iopub.status.busy": "2021-11-28T23:28:46.889271Z",
     "iopub.status.idle": "2021-11-28T23:28:47.262058Z",
     "shell.execute_reply": "2021-11-28T23:28:47.262418Z"
    }
   },
   "outputs": [
    {
     "name": "stderr",
     "output_type": "stream",
     "text": [
      "/home/runner/.cache/pypoetry/virtualenvs/consulates-YiFvjhQe-py3.10/lib/python3.10/site-packages/urllib3/connectionpool.py:1013: InsecureRequestWarning: Unverified HTTPS request is being made to host '18.216.81.98'. Adding certificate verification is strongly advised. See: https://urllib3.readthedocs.io/en/1.26.x/advanced-usage.html#ssl-warnings\n",
      "  warnings.warn(\n",
      "/home/runner/.cache/pypoetry/virtualenvs/consulates-YiFvjhQe-py3.10/lib/python3.10/site-packages/urllib3/connectionpool.py:1013: InsecureRequestWarning: Unverified HTTPS request is being made to host '18.216.81.98'. Adding certificate verification is strongly advised. See: https://urllib3.readthedocs.io/en/1.26.x/advanced-usage.html#ssl-warnings\n",
      "  warnings.warn(\n"
     ]
    }
   ],
   "source": [
    "# manually resolving domain name cause of https://github.community/t/cannot-resolve-travel-state-gov-hostname-in-github-actions-with-default-dns-server/180625\n",
    "resolver = dns.resolver.Resolver()\n",
    "resolver.nameservers = [\"1.1.1.1\", \"8.8.8.8\"]\n",
    "ip_address = resolver.resolve(\"travel.state.gov\", \"A\")[0].to_text()\n",
    "\n",
    "pdf_list_r = session.get(\n",
    "    f\"https://{ip_address}/content/travel/en/legal/visa-law0/visa-statistics/immigrant-visa-statistics/monthly-immigrant-visa-issuances.html\",\n",
    "    headers={\"Host\": \"travel.state.gov\"},\n",
    "    verify=False,\n",
    ")\n",
    "pdf_list_content = pdf_list_r.html.find(\".contentbody\", first=True)\n",
    "pdf_links = [\n",
    "    link for link in pdf_list_content.find(\"a\") if link.attrs[\"href\"].endswith(\".pdf\")\n",
    "]\n",
    "niv_pdf_list_r = session.get(\n",
    "    f\"https://{ip_address}/content/travel/en/legal/visa-law0/visa-statistics/nonimmigrant-visa-statistics/monthly-nonimmigrant-visa-issuances.html\",\n",
    "    headers={\"Host\": \"travel.state.gov\"},\n",
    "    verify=False,\n",
    ")\n",
    "niv_pdf_list_content = niv_pdf_list_r.html.find(\".contentbody\", first=True)\n",
    "niv_pdf_links = [\n",
    "    link\n",
    "    for link in niv_pdf_list_content.find(\"a\")\n",
    "    if link.attrs[\"href\"].endswith(\".pdf\")\n",
    "]"
   ]
  },
  {
   "cell_type": "code",
   "execution_count": 3,
   "metadata": {
    "execution": {
     "iopub.execute_input": "2021-11-28T23:28:47.270183Z",
     "iopub.status.busy": "2021-11-28T23:28:47.267378Z",
     "iopub.status.idle": "2021-11-28T23:28:47.402002Z",
     "shell.execute_reply": "2021-11-28T23:28:47.402367Z"
    }
   },
   "outputs": [],
   "source": [
    "urls_by_month = {}\n",
    "for link in [*pdf_links, *niv_pdf_links]:\n",
    "    link_text = link.text.replace(\" - \", \" - \").replace(\" – \", \" - \")\n",
    "\n",
    "    month, _, category = link_text.partition(\" - \")\n",
    "    category = category.replace(\"Visa Cass\", \"Visa Class\")  # lol\n",
    "\n",
    "    if \"NIV Issuances by Post and Visa Class\" in category:\n",
    "        urls_by_month[\"NIV-\" + arrow.get(month, \"MMMM YYYY\").format(\"YYYY-MM\")] = list(\n",
    "            link.absolute_links\n",
    "        )[0]\n",
    "    elif \"IV Issuances by Post and Visa Class\" in category:\n",
    "        urls_by_month[\"IV-\" + arrow.get(month, \"MMMM YYYY\").format(\"YYYY-MM\")] = list(\n",
    "            link.absolute_links\n",
    "        )[0]"
   ]
  },
  {
   "cell_type": "code",
   "execution_count": 4,
   "metadata": {
    "execution": {
     "iopub.execute_input": "2021-11-28T23:28:47.412933Z",
     "iopub.status.busy": "2021-11-28T23:28:47.410084Z",
     "iopub.status.idle": "2021-11-28T23:29:02.648841Z",
     "shell.execute_reply": "2021-11-28T23:29:02.648475Z"
    }
   },
   "outputs": [
    {
     "name": "stdout",
     "output_type": "stream",
     "text": [
      "doin /home/runner/work/visawhen/visawhen/data/consulates/pdfs/NIV-2017-03.pdf\n",
      "doin /home/runner/work/visawhen/visawhen/data/consulates/pdfs/NIV-2017-04.pdf\n"
     ]
    },
    {
     "name": "stderr",
     "output_type": "stream",
     "text": [
      "/home/runner/.cache/pypoetry/virtualenvs/consulates-YiFvjhQe-py3.10/lib/python3.10/site-packages/urllib3/connectionpool.py:1013: InsecureRequestWarning: Unverified HTTPS request is being made to host '18.216.81.98'. Adding certificate verification is strongly advised. See: https://urllib3.readthedocs.io/en/1.26.x/advanced-usage.html#ssl-warnings\n",
      "  warnings.warn(\n",
      "/home/runner/.cache/pypoetry/virtualenvs/consulates-YiFvjhQe-py3.10/lib/python3.10/site-packages/urllib3/connectionpool.py:1013: InsecureRequestWarning: Unverified HTTPS request is being made to host '18.216.81.98'. Adding certificate verification is strongly advised. See: https://urllib3.readthedocs.io/en/1.26.x/advanced-usage.html#ssl-warnings\n",
      "  warnings.warn(\n"
     ]
    },
    {
     "name": "stdout",
     "output_type": "stream",
     "text": [
      "doin /home/runner/work/visawhen/visawhen/data/consulates/pdfs/NIV-2017-05.pdf\n",
      "doin /home/runner/work/visawhen/visawhen/data/consulates/pdfs/NIV-2017-06.pdf\n"
     ]
    },
    {
     "name": "stderr",
     "output_type": "stream",
     "text": [
      "/home/runner/.cache/pypoetry/virtualenvs/consulates-YiFvjhQe-py3.10/lib/python3.10/site-packages/urllib3/connectionpool.py:1013: InsecureRequestWarning: Unverified HTTPS request is being made to host '18.216.81.98'. Adding certificate verification is strongly advised. See: https://urllib3.readthedocs.io/en/1.26.x/advanced-usage.html#ssl-warnings\n",
      "  warnings.warn(\n",
      "/home/runner/.cache/pypoetry/virtualenvs/consulates-YiFvjhQe-py3.10/lib/python3.10/site-packages/urllib3/connectionpool.py:1013: InsecureRequestWarning: Unverified HTTPS request is being made to host '18.216.81.98'. Adding certificate verification is strongly advised. See: https://urllib3.readthedocs.io/en/1.26.x/advanced-usage.html#ssl-warnings\n",
      "  warnings.warn(\n"
     ]
    },
    {
     "name": "stdout",
     "output_type": "stream",
     "text": [
      "doin /home/runner/work/visawhen/visawhen/data/consulates/pdfs/NIV-2017-07.pdf\n",
      "doin /home/runner/work/visawhen/visawhen/data/consulates/pdfs/NIV-2017-08.pdf\n"
     ]
    },
    {
     "name": "stderr",
     "output_type": "stream",
     "text": [
      "/home/runner/.cache/pypoetry/virtualenvs/consulates-YiFvjhQe-py3.10/lib/python3.10/site-packages/urllib3/connectionpool.py:1013: InsecureRequestWarning: Unverified HTTPS request is being made to host '18.216.81.98'. Adding certificate verification is strongly advised. See: https://urllib3.readthedocs.io/en/1.26.x/advanced-usage.html#ssl-warnings\n",
      "  warnings.warn(\n",
      "/home/runner/.cache/pypoetry/virtualenvs/consulates-YiFvjhQe-py3.10/lib/python3.10/site-packages/urllib3/connectionpool.py:1013: InsecureRequestWarning: Unverified HTTPS request is being made to host '18.216.81.98'. Adding certificate verification is strongly advised. See: https://urllib3.readthedocs.io/en/1.26.x/advanced-usage.html#ssl-warnings\n",
      "  warnings.warn(\n"
     ]
    },
    {
     "name": "stdout",
     "output_type": "stream",
     "text": [
      "doin /home/runner/work/visawhen/visawhen/data/consulates/pdfs/NIV-2017-09.pdf\n",
      "doin /home/runner/work/visawhen/visawhen/data/consulates/pdfs/NIV-2017-10.pdf\n"
     ]
    },
    {
     "name": "stderr",
     "output_type": "stream",
     "text": [
      "/home/runner/.cache/pypoetry/virtualenvs/consulates-YiFvjhQe-py3.10/lib/python3.10/site-packages/urllib3/connectionpool.py:1013: InsecureRequestWarning: Unverified HTTPS request is being made to host '18.216.81.98'. Adding certificate verification is strongly advised. See: https://urllib3.readthedocs.io/en/1.26.x/advanced-usage.html#ssl-warnings\n",
      "  warnings.warn(\n",
      "/home/runner/.cache/pypoetry/virtualenvs/consulates-YiFvjhQe-py3.10/lib/python3.10/site-packages/urllib3/connectionpool.py:1013: InsecureRequestWarning: Unverified HTTPS request is being made to host '18.216.81.98'. Adding certificate verification is strongly advised. See: https://urllib3.readthedocs.io/en/1.26.x/advanced-usage.html#ssl-warnings\n",
      "  warnings.warn(\n"
     ]
    },
    {
     "name": "stdout",
     "output_type": "stream",
     "text": [
      "doin /home/runner/work/visawhen/visawhen/data/consulates/pdfs/NIV-2017-11.pdf\n",
      "doin /home/runner/work/visawhen/visawhen/data/consulates/pdfs/NIV-2017-12.pdf\n"
     ]
    },
    {
     "name": "stderr",
     "output_type": "stream",
     "text": [
      "/home/runner/.cache/pypoetry/virtualenvs/consulates-YiFvjhQe-py3.10/lib/python3.10/site-packages/urllib3/connectionpool.py:1013: InsecureRequestWarning: Unverified HTTPS request is being made to host '18.216.81.98'. Adding certificate verification is strongly advised. See: https://urllib3.readthedocs.io/en/1.26.x/advanced-usage.html#ssl-warnings\n",
      "  warnings.warn(\n",
      "/home/runner/.cache/pypoetry/virtualenvs/consulates-YiFvjhQe-py3.10/lib/python3.10/site-packages/urllib3/connectionpool.py:1013: InsecureRequestWarning: Unverified HTTPS request is being made to host '18.216.81.98'. Adding certificate verification is strongly advised. See: https://urllib3.readthedocs.io/en/1.26.x/advanced-usage.html#ssl-warnings\n",
      "  warnings.warn(\n"
     ]
    },
    {
     "name": "stdout",
     "output_type": "stream",
     "text": [
      "doin /home/runner/work/visawhen/visawhen/data/consulates/pdfs/NIV-2018-01.pdf\n",
      "doin /home/runner/work/visawhen/visawhen/data/consulates/pdfs/NIV-2018-02.pdf\n"
     ]
    },
    {
     "name": "stderr",
     "output_type": "stream",
     "text": [
      "/home/runner/.cache/pypoetry/virtualenvs/consulates-YiFvjhQe-py3.10/lib/python3.10/site-packages/urllib3/connectionpool.py:1013: InsecureRequestWarning: Unverified HTTPS request is being made to host '18.216.81.98'. Adding certificate verification is strongly advised. See: https://urllib3.readthedocs.io/en/1.26.x/advanced-usage.html#ssl-warnings\n",
      "  warnings.warn(\n",
      "/home/runner/.cache/pypoetry/virtualenvs/consulates-YiFvjhQe-py3.10/lib/python3.10/site-packages/urllib3/connectionpool.py:1013: InsecureRequestWarning: Unverified HTTPS request is being made to host '18.216.81.98'. Adding certificate verification is strongly advised. See: https://urllib3.readthedocs.io/en/1.26.x/advanced-usage.html#ssl-warnings\n",
      "  warnings.warn(\n"
     ]
    },
    {
     "name": "stdout",
     "output_type": "stream",
     "text": [
      "doin /home/runner/work/visawhen/visawhen/data/consulates/pdfs/NIV-2018-03.pdf\n",
      "doin /home/runner/work/visawhen/visawhen/data/consulates/pdfs/NIV-2018-04.pdf\n"
     ]
    },
    {
     "name": "stderr",
     "output_type": "stream",
     "text": [
      "/home/runner/.cache/pypoetry/virtualenvs/consulates-YiFvjhQe-py3.10/lib/python3.10/site-packages/urllib3/connectionpool.py:1013: InsecureRequestWarning: Unverified HTTPS request is being made to host '18.216.81.98'. Adding certificate verification is strongly advised. See: https://urllib3.readthedocs.io/en/1.26.x/advanced-usage.html#ssl-warnings\n",
      "  warnings.warn(\n",
      "/home/runner/.cache/pypoetry/virtualenvs/consulates-YiFvjhQe-py3.10/lib/python3.10/site-packages/urllib3/connectionpool.py:1013: InsecureRequestWarning: Unverified HTTPS request is being made to host '18.216.81.98'. Adding certificate verification is strongly advised. See: https://urllib3.readthedocs.io/en/1.26.x/advanced-usage.html#ssl-warnings\n",
      "  warnings.warn(\n"
     ]
    },
    {
     "name": "stdout",
     "output_type": "stream",
     "text": [
      "doin /home/runner/work/visawhen/visawhen/data/consulates/pdfs/NIV-2018-05.pdf\n",
      "doin /home/runner/work/visawhen/visawhen/data/consulates/pdfs/NIV-2018-06.pdf\n"
     ]
    },
    {
     "name": "stderr",
     "output_type": "stream",
     "text": [
      "/home/runner/.cache/pypoetry/virtualenvs/consulates-YiFvjhQe-py3.10/lib/python3.10/site-packages/urllib3/connectionpool.py:1013: InsecureRequestWarning: Unverified HTTPS request is being made to host '18.216.81.98'. Adding certificate verification is strongly advised. See: https://urllib3.readthedocs.io/en/1.26.x/advanced-usage.html#ssl-warnings\n",
      "  warnings.warn(\n",
      "/home/runner/.cache/pypoetry/virtualenvs/consulates-YiFvjhQe-py3.10/lib/python3.10/site-packages/urllib3/connectionpool.py:1013: InsecureRequestWarning: Unverified HTTPS request is being made to host '18.216.81.98'. Adding certificate verification is strongly advised. See: https://urllib3.readthedocs.io/en/1.26.x/advanced-usage.html#ssl-warnings\n",
      "  warnings.warn(\n"
     ]
    },
    {
     "name": "stdout",
     "output_type": "stream",
     "text": [
      "doin /home/runner/work/visawhen/visawhen/data/consulates/pdfs/NIV-2018-07.pdf\n",
      "doin /home/runner/work/visawhen/visawhen/data/consulates/pdfs/NIV-2018-08.pdf\n"
     ]
    },
    {
     "name": "stderr",
     "output_type": "stream",
     "text": [
      "/home/runner/.cache/pypoetry/virtualenvs/consulates-YiFvjhQe-py3.10/lib/python3.10/site-packages/urllib3/connectionpool.py:1013: InsecureRequestWarning: Unverified HTTPS request is being made to host '18.216.81.98'. Adding certificate verification is strongly advised. See: https://urllib3.readthedocs.io/en/1.26.x/advanced-usage.html#ssl-warnings\n",
      "  warnings.warn(\n",
      "/home/runner/.cache/pypoetry/virtualenvs/consulates-YiFvjhQe-py3.10/lib/python3.10/site-packages/urllib3/connectionpool.py:1013: InsecureRequestWarning: Unverified HTTPS request is being made to host '18.216.81.98'. Adding certificate verification is strongly advised. See: https://urllib3.readthedocs.io/en/1.26.x/advanced-usage.html#ssl-warnings\n",
      "  warnings.warn(\n"
     ]
    },
    {
     "name": "stdout",
     "output_type": "stream",
     "text": [
      "doin /home/runner/work/visawhen/visawhen/data/consulates/pdfs/NIV-2018-09.pdf\n",
      "doin /home/runner/work/visawhen/visawhen/data/consulates/pdfs/NIV-2018-10.pdf\n"
     ]
    },
    {
     "name": "stderr",
     "output_type": "stream",
     "text": [
      "/home/runner/.cache/pypoetry/virtualenvs/consulates-YiFvjhQe-py3.10/lib/python3.10/site-packages/urllib3/connectionpool.py:1013: InsecureRequestWarning: Unverified HTTPS request is being made to host '18.216.81.98'. Adding certificate verification is strongly advised. See: https://urllib3.readthedocs.io/en/1.26.x/advanced-usage.html#ssl-warnings\n",
      "  warnings.warn(\n",
      "/home/runner/.cache/pypoetry/virtualenvs/consulates-YiFvjhQe-py3.10/lib/python3.10/site-packages/urllib3/connectionpool.py:1013: InsecureRequestWarning: Unverified HTTPS request is being made to host '18.216.81.98'. Adding certificate verification is strongly advised. See: https://urllib3.readthedocs.io/en/1.26.x/advanced-usage.html#ssl-warnings\n",
      "  warnings.warn(\n"
     ]
    },
    {
     "name": "stdout",
     "output_type": "stream",
     "text": [
      "doin /home/runner/work/visawhen/visawhen/data/consulates/pdfs/NIV-2018-11.pdf\n",
      "doin /home/runner/work/visawhen/visawhen/data/consulates/pdfs/NIV-2018-12.pdf\n"
     ]
    },
    {
     "name": "stderr",
     "output_type": "stream",
     "text": [
      "/home/runner/.cache/pypoetry/virtualenvs/consulates-YiFvjhQe-py3.10/lib/python3.10/site-packages/urllib3/connectionpool.py:1013: InsecureRequestWarning: Unverified HTTPS request is being made to host '18.216.81.98'. Adding certificate verification is strongly advised. See: https://urllib3.readthedocs.io/en/1.26.x/advanced-usage.html#ssl-warnings\n",
      "  warnings.warn(\n",
      "/home/runner/.cache/pypoetry/virtualenvs/consulates-YiFvjhQe-py3.10/lib/python3.10/site-packages/urllib3/connectionpool.py:1013: InsecureRequestWarning: Unverified HTTPS request is being made to host '18.216.81.98'. Adding certificate verification is strongly advised. See: https://urllib3.readthedocs.io/en/1.26.x/advanced-usage.html#ssl-warnings\n",
      "  warnings.warn(\n"
     ]
    },
    {
     "name": "stdout",
     "output_type": "stream",
     "text": [
      "doin /home/runner/work/visawhen/visawhen/data/consulates/pdfs/NIV-2019-01.pdf\n",
      "doin /home/runner/work/visawhen/visawhen/data/consulates/pdfs/NIV-2019-02.pdf\n"
     ]
    },
    {
     "name": "stderr",
     "output_type": "stream",
     "text": [
      "/home/runner/.cache/pypoetry/virtualenvs/consulates-YiFvjhQe-py3.10/lib/python3.10/site-packages/urllib3/connectionpool.py:1013: InsecureRequestWarning: Unverified HTTPS request is being made to host '18.216.81.98'. Adding certificate verification is strongly advised. See: https://urllib3.readthedocs.io/en/1.26.x/advanced-usage.html#ssl-warnings\n",
      "  warnings.warn(\n",
      "/home/runner/.cache/pypoetry/virtualenvs/consulates-YiFvjhQe-py3.10/lib/python3.10/site-packages/urllib3/connectionpool.py:1013: InsecureRequestWarning: Unverified HTTPS request is being made to host '18.216.81.98'. Adding certificate verification is strongly advised. See: https://urllib3.readthedocs.io/en/1.26.x/advanced-usage.html#ssl-warnings\n",
      "  warnings.warn(\n"
     ]
    },
    {
     "name": "stdout",
     "output_type": "stream",
     "text": [
      "doin /home/runner/work/visawhen/visawhen/data/consulates/pdfs/NIV-2019-03.pdf\n",
      "doin /home/runner/work/visawhen/visawhen/data/consulates/pdfs/NIV-2019-04.pdf\n"
     ]
    },
    {
     "name": "stderr",
     "output_type": "stream",
     "text": [
      "/home/runner/.cache/pypoetry/virtualenvs/consulates-YiFvjhQe-py3.10/lib/python3.10/site-packages/urllib3/connectionpool.py:1013: InsecureRequestWarning: Unverified HTTPS request is being made to host '18.216.81.98'. Adding certificate verification is strongly advised. See: https://urllib3.readthedocs.io/en/1.26.x/advanced-usage.html#ssl-warnings\n",
      "  warnings.warn(\n",
      "/home/runner/.cache/pypoetry/virtualenvs/consulates-YiFvjhQe-py3.10/lib/python3.10/site-packages/urllib3/connectionpool.py:1013: InsecureRequestWarning: Unverified HTTPS request is being made to host '18.216.81.98'. Adding certificate verification is strongly advised. See: https://urllib3.readthedocs.io/en/1.26.x/advanced-usage.html#ssl-warnings\n",
      "  warnings.warn(\n"
     ]
    },
    {
     "name": "stdout",
     "output_type": "stream",
     "text": [
      "doin /home/runner/work/visawhen/visawhen/data/consulates/pdfs/NIV-2019-05.pdf\n",
      "doin /home/runner/work/visawhen/visawhen/data/consulates/pdfs/NIV-2019-06.pdf\n"
     ]
    },
    {
     "name": "stderr",
     "output_type": "stream",
     "text": [
      "/home/runner/.cache/pypoetry/virtualenvs/consulates-YiFvjhQe-py3.10/lib/python3.10/site-packages/urllib3/connectionpool.py:1013: InsecureRequestWarning: Unverified HTTPS request is being made to host '18.216.81.98'. Adding certificate verification is strongly advised. See: https://urllib3.readthedocs.io/en/1.26.x/advanced-usage.html#ssl-warnings\n",
      "  warnings.warn(\n",
      "/home/runner/.cache/pypoetry/virtualenvs/consulates-YiFvjhQe-py3.10/lib/python3.10/site-packages/urllib3/connectionpool.py:1013: InsecureRequestWarning: Unverified HTTPS request is being made to host '18.216.81.98'. Adding certificate verification is strongly advised. See: https://urllib3.readthedocs.io/en/1.26.x/advanced-usage.html#ssl-warnings\n",
      "  warnings.warn(\n"
     ]
    },
    {
     "name": "stdout",
     "output_type": "stream",
     "text": [
      "doin /home/runner/work/visawhen/visawhen/data/consulates/pdfs/NIV-2019-07.pdf\n",
      "doin /home/runner/work/visawhen/visawhen/data/consulates/pdfs/NIV-2019-08.pdf\n"
     ]
    },
    {
     "name": "stderr",
     "output_type": "stream",
     "text": [
      "/home/runner/.cache/pypoetry/virtualenvs/consulates-YiFvjhQe-py3.10/lib/python3.10/site-packages/urllib3/connectionpool.py:1013: InsecureRequestWarning: Unverified HTTPS request is being made to host '18.216.81.98'. Adding certificate verification is strongly advised. See: https://urllib3.readthedocs.io/en/1.26.x/advanced-usage.html#ssl-warnings\n",
      "  warnings.warn(\n",
      "/home/runner/.cache/pypoetry/virtualenvs/consulates-YiFvjhQe-py3.10/lib/python3.10/site-packages/urllib3/connectionpool.py:1013: InsecureRequestWarning: Unverified HTTPS request is being made to host '18.216.81.98'. Adding certificate verification is strongly advised. See: https://urllib3.readthedocs.io/en/1.26.x/advanced-usage.html#ssl-warnings\n",
      "  warnings.warn(\n"
     ]
    },
    {
     "name": "stdout",
     "output_type": "stream",
     "text": [
      "doin /home/runner/work/visawhen/visawhen/data/consulates/pdfs/NIV-2019-09.pdf\n",
      "doin /home/runner/work/visawhen/visawhen/data/consulates/pdfs/NIV-2019-10.pdf\n"
     ]
    },
    {
     "name": "stderr",
     "output_type": "stream",
     "text": [
      "/home/runner/.cache/pypoetry/virtualenvs/consulates-YiFvjhQe-py3.10/lib/python3.10/site-packages/urllib3/connectionpool.py:1013: InsecureRequestWarning: Unverified HTTPS request is being made to host '18.216.81.98'. Adding certificate verification is strongly advised. See: https://urllib3.readthedocs.io/en/1.26.x/advanced-usage.html#ssl-warnings\n",
      "  warnings.warn(\n",
      "/home/runner/.cache/pypoetry/virtualenvs/consulates-YiFvjhQe-py3.10/lib/python3.10/site-packages/urllib3/connectionpool.py:1013: InsecureRequestWarning: Unverified HTTPS request is being made to host '18.216.81.98'. Adding certificate verification is strongly advised. See: https://urllib3.readthedocs.io/en/1.26.x/advanced-usage.html#ssl-warnings\n",
      "  warnings.warn(\n"
     ]
    },
    {
     "name": "stdout",
     "output_type": "stream",
     "text": [
      "doin /home/runner/work/visawhen/visawhen/data/consulates/pdfs/NIV-2019-11.pdf\n",
      "doin /home/runner/work/visawhen/visawhen/data/consulates/pdfs/NIV-2019-12.pdf\n"
     ]
    },
    {
     "name": "stderr",
     "output_type": "stream",
     "text": [
      "/home/runner/.cache/pypoetry/virtualenvs/consulates-YiFvjhQe-py3.10/lib/python3.10/site-packages/urllib3/connectionpool.py:1013: InsecureRequestWarning: Unverified HTTPS request is being made to host '18.216.81.98'. Adding certificate verification is strongly advised. See: https://urllib3.readthedocs.io/en/1.26.x/advanced-usage.html#ssl-warnings\n",
      "  warnings.warn(\n",
      "/home/runner/.cache/pypoetry/virtualenvs/consulates-YiFvjhQe-py3.10/lib/python3.10/site-packages/urllib3/connectionpool.py:1013: InsecureRequestWarning: Unverified HTTPS request is being made to host '18.216.81.98'. Adding certificate verification is strongly advised. See: https://urllib3.readthedocs.io/en/1.26.x/advanced-usage.html#ssl-warnings\n",
      "  warnings.warn(\n"
     ]
    },
    {
     "name": "stdout",
     "output_type": "stream",
     "text": [
      "doin /home/runner/work/visawhen/visawhen/data/consulates/pdfs/NIV-2020-01.pdf\n"
     ]
    },
    {
     "name": "stderr",
     "output_type": "stream",
     "text": [
      "/home/runner/.cache/pypoetry/virtualenvs/consulates-YiFvjhQe-py3.10/lib/python3.10/site-packages/urllib3/connectionpool.py:1013: InsecureRequestWarning: Unverified HTTPS request is being made to host '18.216.81.98'. Adding certificate verification is strongly advised. See: https://urllib3.readthedocs.io/en/1.26.x/advanced-usage.html#ssl-warnings\n",
      "  warnings.warn(\n"
     ]
    },
    {
     "name": "stdout",
     "output_type": "stream",
     "text": [
      "doin /home/runner/work/visawhen/visawhen/data/consulates/pdfs/NIV-2020-02.pdf\n",
      "doin /home/runner/work/visawhen/visawhen/data/consulates/pdfs/NIV-2020-03.pdf\n"
     ]
    },
    {
     "name": "stderr",
     "output_type": "stream",
     "text": [
      "/home/runner/.cache/pypoetry/virtualenvs/consulates-YiFvjhQe-py3.10/lib/python3.10/site-packages/urllib3/connectionpool.py:1013: InsecureRequestWarning: Unverified HTTPS request is being made to host '18.216.81.98'. Adding certificate verification is strongly advised. See: https://urllib3.readthedocs.io/en/1.26.x/advanced-usage.html#ssl-warnings\n",
      "  warnings.warn(\n",
      "/home/runner/.cache/pypoetry/virtualenvs/consulates-YiFvjhQe-py3.10/lib/python3.10/site-packages/urllib3/connectionpool.py:1013: InsecureRequestWarning: Unverified HTTPS request is being made to host '18.216.81.98'. Adding certificate verification is strongly advised. See: https://urllib3.readthedocs.io/en/1.26.x/advanced-usage.html#ssl-warnings\n",
      "  warnings.warn(\n"
     ]
    },
    {
     "name": "stdout",
     "output_type": "stream",
     "text": [
      "doin /home/runner/work/visawhen/visawhen/data/consulates/pdfs/NIV-2020-04.pdf\n",
      "doin /home/runner/work/visawhen/visawhen/data/consulates/pdfs/NIV-2020-05.pdf\n"
     ]
    },
    {
     "name": "stderr",
     "output_type": "stream",
     "text": [
      "/home/runner/.cache/pypoetry/virtualenvs/consulates-YiFvjhQe-py3.10/lib/python3.10/site-packages/urllib3/connectionpool.py:1013: InsecureRequestWarning: Unverified HTTPS request is being made to host '18.216.81.98'. Adding certificate verification is strongly advised. See: https://urllib3.readthedocs.io/en/1.26.x/advanced-usage.html#ssl-warnings\n",
      "  warnings.warn(\n",
      "/home/runner/.cache/pypoetry/virtualenvs/consulates-YiFvjhQe-py3.10/lib/python3.10/site-packages/urllib3/connectionpool.py:1013: InsecureRequestWarning: Unverified HTTPS request is being made to host '18.216.81.98'. Adding certificate verification is strongly advised. See: https://urllib3.readthedocs.io/en/1.26.x/advanced-usage.html#ssl-warnings\n",
      "  warnings.warn(\n"
     ]
    },
    {
     "name": "stdout",
     "output_type": "stream",
     "text": [
      "doin /home/runner/work/visawhen/visawhen/data/consulates/pdfs/NIV-2020-06.pdf\n",
      "doin /home/runner/work/visawhen/visawhen/data/consulates/pdfs/NIV-2020-07.pdf\n"
     ]
    },
    {
     "name": "stderr",
     "output_type": "stream",
     "text": [
      "/home/runner/.cache/pypoetry/virtualenvs/consulates-YiFvjhQe-py3.10/lib/python3.10/site-packages/urllib3/connectionpool.py:1013: InsecureRequestWarning: Unverified HTTPS request is being made to host '18.216.81.98'. Adding certificate verification is strongly advised. See: https://urllib3.readthedocs.io/en/1.26.x/advanced-usage.html#ssl-warnings\n",
      "  warnings.warn(\n",
      "/home/runner/.cache/pypoetry/virtualenvs/consulates-YiFvjhQe-py3.10/lib/python3.10/site-packages/urllib3/connectionpool.py:1013: InsecureRequestWarning: Unverified HTTPS request is being made to host '18.216.81.98'. Adding certificate verification is strongly advised. See: https://urllib3.readthedocs.io/en/1.26.x/advanced-usage.html#ssl-warnings\n",
      "  warnings.warn(\n"
     ]
    },
    {
     "name": "stdout",
     "output_type": "stream",
     "text": [
      "doin /home/runner/work/visawhen/visawhen/data/consulates/pdfs/NIV-2020-08.pdf\n",
      "doin /home/runner/work/visawhen/visawhen/data/consulates/pdfs/NIV-2020-09.pdf\n"
     ]
    },
    {
     "name": "stderr",
     "output_type": "stream",
     "text": [
      "/home/runner/.cache/pypoetry/virtualenvs/consulates-YiFvjhQe-py3.10/lib/python3.10/site-packages/urllib3/connectionpool.py:1013: InsecureRequestWarning: Unverified HTTPS request is being made to host '18.216.81.98'. Adding certificate verification is strongly advised. See: https://urllib3.readthedocs.io/en/1.26.x/advanced-usage.html#ssl-warnings\n",
      "  warnings.warn(\n",
      "/home/runner/.cache/pypoetry/virtualenvs/consulates-YiFvjhQe-py3.10/lib/python3.10/site-packages/urllib3/connectionpool.py:1013: InsecureRequestWarning: Unverified HTTPS request is being made to host '18.216.81.98'. Adding certificate verification is strongly advised. See: https://urllib3.readthedocs.io/en/1.26.x/advanced-usage.html#ssl-warnings\n",
      "  warnings.warn(\n"
     ]
    },
    {
     "name": "stdout",
     "output_type": "stream",
     "text": [
      "doin /home/runner/work/visawhen/visawhen/data/consulates/pdfs/NIV-2020-10.pdf\n",
      "doin /home/runner/work/visawhen/visawhen/data/consulates/pdfs/NIV-2020-11.pdf\n"
     ]
    },
    {
     "name": "stderr",
     "output_type": "stream",
     "text": [
      "/home/runner/.cache/pypoetry/virtualenvs/consulates-YiFvjhQe-py3.10/lib/python3.10/site-packages/urllib3/connectionpool.py:1013: InsecureRequestWarning: Unverified HTTPS request is being made to host '18.216.81.98'. Adding certificate verification is strongly advised. See: https://urllib3.readthedocs.io/en/1.26.x/advanced-usage.html#ssl-warnings\n",
      "  warnings.warn(\n",
      "/home/runner/.cache/pypoetry/virtualenvs/consulates-YiFvjhQe-py3.10/lib/python3.10/site-packages/urllib3/connectionpool.py:1013: InsecureRequestWarning: Unverified HTTPS request is being made to host '18.216.81.98'. Adding certificate verification is strongly advised. See: https://urllib3.readthedocs.io/en/1.26.x/advanced-usage.html#ssl-warnings\n",
      "  warnings.warn(\n"
     ]
    },
    {
     "name": "stdout",
     "output_type": "stream",
     "text": [
      "doin /home/runner/work/visawhen/visawhen/data/consulates/pdfs/NIV-2020-12.pdf\n",
      "doin /home/runner/work/visawhen/visawhen/data/consulates/pdfs/NIV-2021-01.pdf\n"
     ]
    },
    {
     "name": "stderr",
     "output_type": "stream",
     "text": [
      "/home/runner/.cache/pypoetry/virtualenvs/consulates-YiFvjhQe-py3.10/lib/python3.10/site-packages/urllib3/connectionpool.py:1013: InsecureRequestWarning: Unverified HTTPS request is being made to host '18.216.81.98'. Adding certificate verification is strongly advised. See: https://urllib3.readthedocs.io/en/1.26.x/advanced-usage.html#ssl-warnings\n",
      "  warnings.warn(\n",
      "/home/runner/.cache/pypoetry/virtualenvs/consulates-YiFvjhQe-py3.10/lib/python3.10/site-packages/urllib3/connectionpool.py:1013: InsecureRequestWarning: Unverified HTTPS request is being made to host '18.216.81.98'. Adding certificate verification is strongly advised. See: https://urllib3.readthedocs.io/en/1.26.x/advanced-usage.html#ssl-warnings\n",
      "  warnings.warn(\n"
     ]
    },
    {
     "name": "stdout",
     "output_type": "stream",
     "text": [
      "doin /home/runner/work/visawhen/visawhen/data/consulates/pdfs/NIV-2021-02.pdf\n",
      "doin /home/runner/work/visawhen/visawhen/data/consulates/pdfs/NIV-2021-03.pdf\n"
     ]
    },
    {
     "name": "stderr",
     "output_type": "stream",
     "text": [
      "/home/runner/.cache/pypoetry/virtualenvs/consulates-YiFvjhQe-py3.10/lib/python3.10/site-packages/urllib3/connectionpool.py:1013: InsecureRequestWarning: Unverified HTTPS request is being made to host '18.216.81.98'. Adding certificate verification is strongly advised. See: https://urllib3.readthedocs.io/en/1.26.x/advanced-usage.html#ssl-warnings\n",
      "  warnings.warn(\n",
      "/home/runner/.cache/pypoetry/virtualenvs/consulates-YiFvjhQe-py3.10/lib/python3.10/site-packages/urllib3/connectionpool.py:1013: InsecureRequestWarning: Unverified HTTPS request is being made to host '18.216.81.98'. Adding certificate verification is strongly advised. See: https://urllib3.readthedocs.io/en/1.26.x/advanced-usage.html#ssl-warnings\n",
      "  warnings.warn(\n"
     ]
    },
    {
     "name": "stdout",
     "output_type": "stream",
     "text": [
      "doin /home/runner/work/visawhen/visawhen/data/consulates/pdfs/NIV-2021-04.pdf\n",
      "doin /home/runner/work/visawhen/visawhen/data/consulates/pdfs/NIV-2021-05.pdf\n"
     ]
    },
    {
     "name": "stderr",
     "output_type": "stream",
     "text": [
      "/home/runner/.cache/pypoetry/virtualenvs/consulates-YiFvjhQe-py3.10/lib/python3.10/site-packages/urllib3/connectionpool.py:1013: InsecureRequestWarning: Unverified HTTPS request is being made to host '18.216.81.98'. Adding certificate verification is strongly advised. See: https://urllib3.readthedocs.io/en/1.26.x/advanced-usage.html#ssl-warnings\n",
      "  warnings.warn(\n",
      "/home/runner/.cache/pypoetry/virtualenvs/consulates-YiFvjhQe-py3.10/lib/python3.10/site-packages/urllib3/connectionpool.py:1013: InsecureRequestWarning: Unverified HTTPS request is being made to host '18.216.81.98'. Adding certificate verification is strongly advised. See: https://urllib3.readthedocs.io/en/1.26.x/advanced-usage.html#ssl-warnings\n",
      "  warnings.warn(\n"
     ]
    },
    {
     "name": "stdout",
     "output_type": "stream",
     "text": [
      "doin /home/runner/work/visawhen/visawhen/data/consulates/pdfs/NIV-2021-06.pdf\n",
      "doin /home/runner/work/visawhen/visawhen/data/consulates/pdfs/NIV-2021-07.pdf\n"
     ]
    },
    {
     "name": "stderr",
     "output_type": "stream",
     "text": [
      "/home/runner/.cache/pypoetry/virtualenvs/consulates-YiFvjhQe-py3.10/lib/python3.10/site-packages/urllib3/connectionpool.py:1013: InsecureRequestWarning: Unverified HTTPS request is being made to host '18.216.81.98'. Adding certificate verification is strongly advised. See: https://urllib3.readthedocs.io/en/1.26.x/advanced-usage.html#ssl-warnings\n",
      "  warnings.warn(\n",
      "/home/runner/.cache/pypoetry/virtualenvs/consulates-YiFvjhQe-py3.10/lib/python3.10/site-packages/urllib3/connectionpool.py:1013: InsecureRequestWarning: Unverified HTTPS request is being made to host '18.216.81.98'. Adding certificate verification is strongly advised. See: https://urllib3.readthedocs.io/en/1.26.x/advanced-usage.html#ssl-warnings\n",
      "  warnings.warn(\n"
     ]
    },
    {
     "name": "stdout",
     "output_type": "stream",
     "text": [
      "doin /home/runner/work/visawhen/visawhen/data/consulates/pdfs/NIV-2021-08.pdf\n",
      "doin /home/runner/work/visawhen/visawhen/data/consulates/pdfs/NIV-2021-09.pdf\n"
     ]
    },
    {
     "name": "stderr",
     "output_type": "stream",
     "text": [
      "/home/runner/.cache/pypoetry/virtualenvs/consulates-YiFvjhQe-py3.10/lib/python3.10/site-packages/urllib3/connectionpool.py:1013: InsecureRequestWarning: Unverified HTTPS request is being made to host '18.216.81.98'. Adding certificate verification is strongly advised. See: https://urllib3.readthedocs.io/en/1.26.x/advanced-usage.html#ssl-warnings\n",
      "  warnings.warn(\n",
      "/home/runner/.cache/pypoetry/virtualenvs/consulates-YiFvjhQe-py3.10/lib/python3.10/site-packages/urllib3/connectionpool.py:1013: InsecureRequestWarning: Unverified HTTPS request is being made to host '18.216.81.98'. Adding certificate verification is strongly advised. See: https://urllib3.readthedocs.io/en/1.26.x/advanced-usage.html#ssl-warnings\n",
      "  warnings.warn(\n"
     ]
    },
    {
     "name": "stdout",
     "output_type": "stream",
     "text": [
      "doin /home/runner/work/visawhen/visawhen/data/consulates/pdfs/NIV-2021-10.pdf\n",
      "but no /home/runner/work/visawhen/visawhen/data/consulates/pdfs/NIV-2021-10.pdf!\n",
      "doin /home/runner/work/visawhen/visawhen/data/consulates/pdfs/NIV-2021-11.pdf\n",
      "but no /home/runner/work/visawhen/visawhen/data/consulates/pdfs/NIV-2021-11.pdf!\n",
      "doin /home/runner/work/visawhen/visawhen/data/consulates/pdfs/IV-2017-03.pdf\n",
      "doin /home/runner/work/visawhen/visawhen/data/consulates/pdfs/IV-2017-04.pdf\n"
     ]
    },
    {
     "name": "stderr",
     "output_type": "stream",
     "text": [
      "/home/runner/.cache/pypoetry/virtualenvs/consulates-YiFvjhQe-py3.10/lib/python3.10/site-packages/urllib3/connectionpool.py:1013: InsecureRequestWarning: Unverified HTTPS request is being made to host '18.216.81.98'. Adding certificate verification is strongly advised. See: https://urllib3.readthedocs.io/en/1.26.x/advanced-usage.html#ssl-warnings\n",
      "  warnings.warn(\n",
      "/home/runner/.cache/pypoetry/virtualenvs/consulates-YiFvjhQe-py3.10/lib/python3.10/site-packages/urllib3/connectionpool.py:1013: InsecureRequestWarning: Unverified HTTPS request is being made to host '18.216.81.98'. Adding certificate verification is strongly advised. See: https://urllib3.readthedocs.io/en/1.26.x/advanced-usage.html#ssl-warnings\n",
      "  warnings.warn(\n"
     ]
    },
    {
     "name": "stdout",
     "output_type": "stream",
     "text": [
      "doin /home/runner/work/visawhen/visawhen/data/consulates/pdfs/IV-2017-05.pdf\n",
      "doin /home/runner/work/visawhen/visawhen/data/consulates/pdfs/IV-2017-06.pdf\n"
     ]
    },
    {
     "name": "stderr",
     "output_type": "stream",
     "text": [
      "/home/runner/.cache/pypoetry/virtualenvs/consulates-YiFvjhQe-py3.10/lib/python3.10/site-packages/urllib3/connectionpool.py:1013: InsecureRequestWarning: Unverified HTTPS request is being made to host '18.216.81.98'. Adding certificate verification is strongly advised. See: https://urllib3.readthedocs.io/en/1.26.x/advanced-usage.html#ssl-warnings\n",
      "  warnings.warn(\n",
      "/home/runner/.cache/pypoetry/virtualenvs/consulates-YiFvjhQe-py3.10/lib/python3.10/site-packages/urllib3/connectionpool.py:1013: InsecureRequestWarning: Unverified HTTPS request is being made to host '18.216.81.98'. Adding certificate verification is strongly advised. See: https://urllib3.readthedocs.io/en/1.26.x/advanced-usage.html#ssl-warnings\n",
      "  warnings.warn(\n"
     ]
    },
    {
     "name": "stdout",
     "output_type": "stream",
     "text": [
      "doin /home/runner/work/visawhen/visawhen/data/consulates/pdfs/IV-2017-07.pdf\n",
      "doin /home/runner/work/visawhen/visawhen/data/consulates/pdfs/IV-2017-08.pdf\n"
     ]
    },
    {
     "name": "stderr",
     "output_type": "stream",
     "text": [
      "/home/runner/.cache/pypoetry/virtualenvs/consulates-YiFvjhQe-py3.10/lib/python3.10/site-packages/urllib3/connectionpool.py:1013: InsecureRequestWarning: Unverified HTTPS request is being made to host '18.216.81.98'. Adding certificate verification is strongly advised. See: https://urllib3.readthedocs.io/en/1.26.x/advanced-usage.html#ssl-warnings\n",
      "  warnings.warn(\n",
      "/home/runner/.cache/pypoetry/virtualenvs/consulates-YiFvjhQe-py3.10/lib/python3.10/site-packages/urllib3/connectionpool.py:1013: InsecureRequestWarning: Unverified HTTPS request is being made to host '18.216.81.98'. Adding certificate verification is strongly advised. See: https://urllib3.readthedocs.io/en/1.26.x/advanced-usage.html#ssl-warnings\n",
      "  warnings.warn(\n"
     ]
    },
    {
     "name": "stdout",
     "output_type": "stream",
     "text": [
      "doin /home/runner/work/visawhen/visawhen/data/consulates/pdfs/IV-2017-09.pdf\n",
      "doin /home/runner/work/visawhen/visawhen/data/consulates/pdfs/IV-2017-10.pdf\n"
     ]
    },
    {
     "name": "stderr",
     "output_type": "stream",
     "text": [
      "/home/runner/.cache/pypoetry/virtualenvs/consulates-YiFvjhQe-py3.10/lib/python3.10/site-packages/urllib3/connectionpool.py:1013: InsecureRequestWarning: Unverified HTTPS request is being made to host '18.216.81.98'. Adding certificate verification is strongly advised. See: https://urllib3.readthedocs.io/en/1.26.x/advanced-usage.html#ssl-warnings\n",
      "  warnings.warn(\n",
      "/home/runner/.cache/pypoetry/virtualenvs/consulates-YiFvjhQe-py3.10/lib/python3.10/site-packages/urllib3/connectionpool.py:1013: InsecureRequestWarning: Unverified HTTPS request is being made to host '18.216.81.98'. Adding certificate verification is strongly advised. See: https://urllib3.readthedocs.io/en/1.26.x/advanced-usage.html#ssl-warnings\n",
      "  warnings.warn(\n"
     ]
    },
    {
     "name": "stdout",
     "output_type": "stream",
     "text": [
      "doin /home/runner/work/visawhen/visawhen/data/consulates/pdfs/IV-2017-11.pdf\n",
      "doin /home/runner/work/visawhen/visawhen/data/consulates/pdfs/IV-2017-12.pdf\n"
     ]
    },
    {
     "name": "stderr",
     "output_type": "stream",
     "text": [
      "/home/runner/.cache/pypoetry/virtualenvs/consulates-YiFvjhQe-py3.10/lib/python3.10/site-packages/urllib3/connectionpool.py:1013: InsecureRequestWarning: Unverified HTTPS request is being made to host '18.216.81.98'. Adding certificate verification is strongly advised. See: https://urllib3.readthedocs.io/en/1.26.x/advanced-usage.html#ssl-warnings\n",
      "  warnings.warn(\n",
      "/home/runner/.cache/pypoetry/virtualenvs/consulates-YiFvjhQe-py3.10/lib/python3.10/site-packages/urllib3/connectionpool.py:1013: InsecureRequestWarning: Unverified HTTPS request is being made to host '18.216.81.98'. Adding certificate verification is strongly advised. See: https://urllib3.readthedocs.io/en/1.26.x/advanced-usage.html#ssl-warnings\n",
      "  warnings.warn(\n"
     ]
    },
    {
     "name": "stdout",
     "output_type": "stream",
     "text": [
      "doin /home/runner/work/visawhen/visawhen/data/consulates/pdfs/IV-2018-01.pdf\n",
      "doin /home/runner/work/visawhen/visawhen/data/consulates/pdfs/IV-2018-02.pdf\n"
     ]
    },
    {
     "name": "stderr",
     "output_type": "stream",
     "text": [
      "/home/runner/.cache/pypoetry/virtualenvs/consulates-YiFvjhQe-py3.10/lib/python3.10/site-packages/urllib3/connectionpool.py:1013: InsecureRequestWarning: Unverified HTTPS request is being made to host '18.216.81.98'. Adding certificate verification is strongly advised. See: https://urllib3.readthedocs.io/en/1.26.x/advanced-usage.html#ssl-warnings\n",
      "  warnings.warn(\n",
      "/home/runner/.cache/pypoetry/virtualenvs/consulates-YiFvjhQe-py3.10/lib/python3.10/site-packages/urllib3/connectionpool.py:1013: InsecureRequestWarning: Unverified HTTPS request is being made to host '18.216.81.98'. Adding certificate verification is strongly advised. See: https://urllib3.readthedocs.io/en/1.26.x/advanced-usage.html#ssl-warnings\n",
      "  warnings.warn(\n"
     ]
    },
    {
     "name": "stdout",
     "output_type": "stream",
     "text": [
      "doin /home/runner/work/visawhen/visawhen/data/consulates/pdfs/IV-2018-03.pdf\n",
      "doin /home/runner/work/visawhen/visawhen/data/consulates/pdfs/IV-2018-04.pdf\n"
     ]
    },
    {
     "name": "stderr",
     "output_type": "stream",
     "text": [
      "/home/runner/.cache/pypoetry/virtualenvs/consulates-YiFvjhQe-py3.10/lib/python3.10/site-packages/urllib3/connectionpool.py:1013: InsecureRequestWarning: Unverified HTTPS request is being made to host '18.216.81.98'. Adding certificate verification is strongly advised. See: https://urllib3.readthedocs.io/en/1.26.x/advanced-usage.html#ssl-warnings\n",
      "  warnings.warn(\n",
      "/home/runner/.cache/pypoetry/virtualenvs/consulates-YiFvjhQe-py3.10/lib/python3.10/site-packages/urllib3/connectionpool.py:1013: InsecureRequestWarning: Unverified HTTPS request is being made to host '18.216.81.98'. Adding certificate verification is strongly advised. See: https://urllib3.readthedocs.io/en/1.26.x/advanced-usage.html#ssl-warnings\n",
      "  warnings.warn(\n"
     ]
    },
    {
     "name": "stdout",
     "output_type": "stream",
     "text": [
      "doin /home/runner/work/visawhen/visawhen/data/consulates/pdfs/IV-2018-05.pdf\n",
      "doin /home/runner/work/visawhen/visawhen/data/consulates/pdfs/IV-2018-06.pdf\n"
     ]
    },
    {
     "name": "stderr",
     "output_type": "stream",
     "text": [
      "/home/runner/.cache/pypoetry/virtualenvs/consulates-YiFvjhQe-py3.10/lib/python3.10/site-packages/urllib3/connectionpool.py:1013: InsecureRequestWarning: Unverified HTTPS request is being made to host '18.216.81.98'. Adding certificate verification is strongly advised. See: https://urllib3.readthedocs.io/en/1.26.x/advanced-usage.html#ssl-warnings\n",
      "  warnings.warn(\n",
      "/home/runner/.cache/pypoetry/virtualenvs/consulates-YiFvjhQe-py3.10/lib/python3.10/site-packages/urllib3/connectionpool.py:1013: InsecureRequestWarning: Unverified HTTPS request is being made to host '18.216.81.98'. Adding certificate verification is strongly advised. See: https://urllib3.readthedocs.io/en/1.26.x/advanced-usage.html#ssl-warnings\n",
      "  warnings.warn(\n"
     ]
    },
    {
     "name": "stdout",
     "output_type": "stream",
     "text": [
      "doin /home/runner/work/visawhen/visawhen/data/consulates/pdfs/IV-2018-07.pdf\n",
      "doin /home/runner/work/visawhen/visawhen/data/consulates/pdfs/IV-2018-08.pdf\n"
     ]
    },
    {
     "name": "stderr",
     "output_type": "stream",
     "text": [
      "/home/runner/.cache/pypoetry/virtualenvs/consulates-YiFvjhQe-py3.10/lib/python3.10/site-packages/urllib3/connectionpool.py:1013: InsecureRequestWarning: Unverified HTTPS request is being made to host '18.216.81.98'. Adding certificate verification is strongly advised. See: https://urllib3.readthedocs.io/en/1.26.x/advanced-usage.html#ssl-warnings\n",
      "  warnings.warn(\n",
      "/home/runner/.cache/pypoetry/virtualenvs/consulates-YiFvjhQe-py3.10/lib/python3.10/site-packages/urllib3/connectionpool.py:1013: InsecureRequestWarning: Unverified HTTPS request is being made to host '18.216.81.98'. Adding certificate verification is strongly advised. See: https://urllib3.readthedocs.io/en/1.26.x/advanced-usage.html#ssl-warnings\n",
      "  warnings.warn(\n"
     ]
    },
    {
     "name": "stdout",
     "output_type": "stream",
     "text": [
      "doin /home/runner/work/visawhen/visawhen/data/consulates/pdfs/IV-2018-09.pdf\n",
      "doin /home/runner/work/visawhen/visawhen/data/consulates/pdfs/IV-2018-10.pdf\n"
     ]
    },
    {
     "name": "stderr",
     "output_type": "stream",
     "text": [
      "/home/runner/.cache/pypoetry/virtualenvs/consulates-YiFvjhQe-py3.10/lib/python3.10/site-packages/urllib3/connectionpool.py:1013: InsecureRequestWarning: Unverified HTTPS request is being made to host '18.216.81.98'. Adding certificate verification is strongly advised. See: https://urllib3.readthedocs.io/en/1.26.x/advanced-usage.html#ssl-warnings\n",
      "  warnings.warn(\n",
      "/home/runner/.cache/pypoetry/virtualenvs/consulates-YiFvjhQe-py3.10/lib/python3.10/site-packages/urllib3/connectionpool.py:1013: InsecureRequestWarning: Unverified HTTPS request is being made to host '18.216.81.98'. Adding certificate verification is strongly advised. See: https://urllib3.readthedocs.io/en/1.26.x/advanced-usage.html#ssl-warnings\n",
      "  warnings.warn(\n"
     ]
    },
    {
     "name": "stdout",
     "output_type": "stream",
     "text": [
      "doin /home/runner/work/visawhen/visawhen/data/consulates/pdfs/IV-2018-11.pdf\n",
      "doin /home/runner/work/visawhen/visawhen/data/consulates/pdfs/IV-2018-12.pdf\n"
     ]
    },
    {
     "name": "stderr",
     "output_type": "stream",
     "text": [
      "/home/runner/.cache/pypoetry/virtualenvs/consulates-YiFvjhQe-py3.10/lib/python3.10/site-packages/urllib3/connectionpool.py:1013: InsecureRequestWarning: Unverified HTTPS request is being made to host '18.216.81.98'. Adding certificate verification is strongly advised. See: https://urllib3.readthedocs.io/en/1.26.x/advanced-usage.html#ssl-warnings\n",
      "  warnings.warn(\n",
      "/home/runner/.cache/pypoetry/virtualenvs/consulates-YiFvjhQe-py3.10/lib/python3.10/site-packages/urllib3/connectionpool.py:1013: InsecureRequestWarning: Unverified HTTPS request is being made to host '18.216.81.98'. Adding certificate verification is strongly advised. See: https://urllib3.readthedocs.io/en/1.26.x/advanced-usage.html#ssl-warnings\n",
      "  warnings.warn(\n"
     ]
    },
    {
     "name": "stdout",
     "output_type": "stream",
     "text": [
      "doin /home/runner/work/visawhen/visawhen/data/consulates/pdfs/IV-2019-01.pdf\n",
      "doin /home/runner/work/visawhen/visawhen/data/consulates/pdfs/IV-2019-02.pdf\n"
     ]
    },
    {
     "name": "stderr",
     "output_type": "stream",
     "text": [
      "/home/runner/.cache/pypoetry/virtualenvs/consulates-YiFvjhQe-py3.10/lib/python3.10/site-packages/urllib3/connectionpool.py:1013: InsecureRequestWarning: Unverified HTTPS request is being made to host '18.216.81.98'. Adding certificate verification is strongly advised. See: https://urllib3.readthedocs.io/en/1.26.x/advanced-usage.html#ssl-warnings\n",
      "  warnings.warn(\n",
      "/home/runner/.cache/pypoetry/virtualenvs/consulates-YiFvjhQe-py3.10/lib/python3.10/site-packages/urllib3/connectionpool.py:1013: InsecureRequestWarning: Unverified HTTPS request is being made to host '18.216.81.98'. Adding certificate verification is strongly advised. See: https://urllib3.readthedocs.io/en/1.26.x/advanced-usage.html#ssl-warnings\n",
      "  warnings.warn(\n"
     ]
    },
    {
     "name": "stdout",
     "output_type": "stream",
     "text": [
      "doin /home/runner/work/visawhen/visawhen/data/consulates/pdfs/IV-2019-03.pdf\n",
      "but no /home/runner/work/visawhen/visawhen/data/consulates/pdfs/IV-2019-03.pdf!\n",
      "doin /home/runner/work/visawhen/visawhen/data/consulates/pdfs/IV-2019-04.pdf\n",
      "but no /home/runner/work/visawhen/visawhen/data/consulates/pdfs/IV-2019-04.pdf!\n",
      "doin /home/runner/work/visawhen/visawhen/data/consulates/pdfs/IV-2019-05.pdf\n",
      "but no /home/runner/work/visawhen/visawhen/data/consulates/pdfs/IV-2019-05.pdf!\n",
      "doin /home/runner/work/visawhen/visawhen/data/consulates/pdfs/IV-2019-06.pdf\n",
      "but no /home/runner/work/visawhen/visawhen/data/consulates/pdfs/IV-2019-06.pdf!\n",
      "doin /home/runner/work/visawhen/visawhen/data/consulates/pdfs/IV-2019-07.pdf\n",
      "but no /home/runner/work/visawhen/visawhen/data/consulates/pdfs/IV-2019-07.pdf!\n",
      "doin /home/runner/work/visawhen/visawhen/data/consulates/pdfs/IV-2019-08.pdf\n",
      "but no /home/runner/work/visawhen/visawhen/data/consulates/pdfs/IV-2019-08.pdf!\n",
      "doin /home/runner/work/visawhen/visawhen/data/consulates/pdfs/IV-2019-09.pdf\n",
      "but no /home/runner/work/visawhen/visawhen/data/consulates/pdfs/IV-2019-09.pdf!\n",
      "doin /home/runner/work/visawhen/visawhen/data/consulates/pdfs/IV-2019-10.pdf\n",
      "doin /home/runner/work/visawhen/visawhen/data/consulates/pdfs/IV-2019-11.pdf\n"
     ]
    },
    {
     "name": "stderr",
     "output_type": "stream",
     "text": [
      "/home/runner/.cache/pypoetry/virtualenvs/consulates-YiFvjhQe-py3.10/lib/python3.10/site-packages/urllib3/connectionpool.py:1013: InsecureRequestWarning: Unverified HTTPS request is being made to host '18.216.81.98'. Adding certificate verification is strongly advised. See: https://urllib3.readthedocs.io/en/1.26.x/advanced-usage.html#ssl-warnings\n",
      "  warnings.warn(\n",
      "/home/runner/.cache/pypoetry/virtualenvs/consulates-YiFvjhQe-py3.10/lib/python3.10/site-packages/urllib3/connectionpool.py:1013: InsecureRequestWarning: Unverified HTTPS request is being made to host '18.216.81.98'. Adding certificate verification is strongly advised. See: https://urllib3.readthedocs.io/en/1.26.x/advanced-usage.html#ssl-warnings\n",
      "  warnings.warn(\n"
     ]
    },
    {
     "name": "stdout",
     "output_type": "stream",
     "text": [
      "doin /home/runner/work/visawhen/visawhen/data/consulates/pdfs/IV-2019-12.pdf\n",
      "doin /home/runner/work/visawhen/visawhen/data/consulates/pdfs/IV-2020-01.pdf\n"
     ]
    },
    {
     "name": "stderr",
     "output_type": "stream",
     "text": [
      "/home/runner/.cache/pypoetry/virtualenvs/consulates-YiFvjhQe-py3.10/lib/python3.10/site-packages/urllib3/connectionpool.py:1013: InsecureRequestWarning: Unverified HTTPS request is being made to host '18.216.81.98'. Adding certificate verification is strongly advised. See: https://urllib3.readthedocs.io/en/1.26.x/advanced-usage.html#ssl-warnings\n",
      "  warnings.warn(\n",
      "/home/runner/.cache/pypoetry/virtualenvs/consulates-YiFvjhQe-py3.10/lib/python3.10/site-packages/urllib3/connectionpool.py:1013: InsecureRequestWarning: Unverified HTTPS request is being made to host '18.216.81.98'. Adding certificate verification is strongly advised. See: https://urllib3.readthedocs.io/en/1.26.x/advanced-usage.html#ssl-warnings\n",
      "  warnings.warn(\n"
     ]
    },
    {
     "name": "stdout",
     "output_type": "stream",
     "text": [
      "doin /home/runner/work/visawhen/visawhen/data/consulates/pdfs/IV-2020-02.pdf\n",
      "doin /home/runner/work/visawhen/visawhen/data/consulates/pdfs/IV-2020-03.pdf\n"
     ]
    },
    {
     "name": "stderr",
     "output_type": "stream",
     "text": [
      "/home/runner/.cache/pypoetry/virtualenvs/consulates-YiFvjhQe-py3.10/lib/python3.10/site-packages/urllib3/connectionpool.py:1013: InsecureRequestWarning: Unverified HTTPS request is being made to host '18.216.81.98'. Adding certificate verification is strongly advised. See: https://urllib3.readthedocs.io/en/1.26.x/advanced-usage.html#ssl-warnings\n",
      "  warnings.warn(\n",
      "/home/runner/.cache/pypoetry/virtualenvs/consulates-YiFvjhQe-py3.10/lib/python3.10/site-packages/urllib3/connectionpool.py:1013: InsecureRequestWarning: Unverified HTTPS request is being made to host '18.216.81.98'. Adding certificate verification is strongly advised. See: https://urllib3.readthedocs.io/en/1.26.x/advanced-usage.html#ssl-warnings\n",
      "  warnings.warn(\n"
     ]
    },
    {
     "name": "stdout",
     "output_type": "stream",
     "text": [
      "doin /home/runner/work/visawhen/visawhen/data/consulates/pdfs/IV-2020-04.pdf\n",
      "doin /home/runner/work/visawhen/visawhen/data/consulates/pdfs/IV-2020-05.pdf\n"
     ]
    },
    {
     "name": "stderr",
     "output_type": "stream",
     "text": [
      "/home/runner/.cache/pypoetry/virtualenvs/consulates-YiFvjhQe-py3.10/lib/python3.10/site-packages/urllib3/connectionpool.py:1013: InsecureRequestWarning: Unverified HTTPS request is being made to host '18.216.81.98'. Adding certificate verification is strongly advised. See: https://urllib3.readthedocs.io/en/1.26.x/advanced-usage.html#ssl-warnings\n",
      "  warnings.warn(\n",
      "/home/runner/.cache/pypoetry/virtualenvs/consulates-YiFvjhQe-py3.10/lib/python3.10/site-packages/urllib3/connectionpool.py:1013: InsecureRequestWarning: Unverified HTTPS request is being made to host '18.216.81.98'. Adding certificate verification is strongly advised. See: https://urllib3.readthedocs.io/en/1.26.x/advanced-usage.html#ssl-warnings\n",
      "  warnings.warn(\n"
     ]
    },
    {
     "name": "stdout",
     "output_type": "stream",
     "text": [
      "doin /home/runner/work/visawhen/visawhen/data/consulates/pdfs/IV-2020-06.pdf\n",
      "doin /home/runner/work/visawhen/visawhen/data/consulates/pdfs/IV-2020-07.pdf\n"
     ]
    },
    {
     "name": "stderr",
     "output_type": "stream",
     "text": [
      "/home/runner/.cache/pypoetry/virtualenvs/consulates-YiFvjhQe-py3.10/lib/python3.10/site-packages/urllib3/connectionpool.py:1013: InsecureRequestWarning: Unverified HTTPS request is being made to host '18.216.81.98'. Adding certificate verification is strongly advised. See: https://urllib3.readthedocs.io/en/1.26.x/advanced-usage.html#ssl-warnings\n",
      "  warnings.warn(\n",
      "/home/runner/.cache/pypoetry/virtualenvs/consulates-YiFvjhQe-py3.10/lib/python3.10/site-packages/urllib3/connectionpool.py:1013: InsecureRequestWarning: Unverified HTTPS request is being made to host '18.216.81.98'. Adding certificate verification is strongly advised. See: https://urllib3.readthedocs.io/en/1.26.x/advanced-usage.html#ssl-warnings\n",
      "  warnings.warn(\n"
     ]
    },
    {
     "name": "stdout",
     "output_type": "stream",
     "text": [
      "doin /home/runner/work/visawhen/visawhen/data/consulates/pdfs/IV-2020-08.pdf\n",
      "doin /home/runner/work/visawhen/visawhen/data/consulates/pdfs/IV-2020-09.pdf\n"
     ]
    },
    {
     "name": "stderr",
     "output_type": "stream",
     "text": [
      "/home/runner/.cache/pypoetry/virtualenvs/consulates-YiFvjhQe-py3.10/lib/python3.10/site-packages/urllib3/connectionpool.py:1013: InsecureRequestWarning: Unverified HTTPS request is being made to host '18.216.81.98'. Adding certificate verification is strongly advised. See: https://urllib3.readthedocs.io/en/1.26.x/advanced-usage.html#ssl-warnings\n",
      "  warnings.warn(\n",
      "/home/runner/.cache/pypoetry/virtualenvs/consulates-YiFvjhQe-py3.10/lib/python3.10/site-packages/urllib3/connectionpool.py:1013: InsecureRequestWarning: Unverified HTTPS request is being made to host '18.216.81.98'. Adding certificate verification is strongly advised. See: https://urllib3.readthedocs.io/en/1.26.x/advanced-usage.html#ssl-warnings\n",
      "  warnings.warn(\n"
     ]
    },
    {
     "name": "stdout",
     "output_type": "stream",
     "text": [
      "doin /home/runner/work/visawhen/visawhen/data/consulates/pdfs/IV-2020-10.pdf\n",
      "doin /home/runner/work/visawhen/visawhen/data/consulates/pdfs/IV-2020-11.pdf\n"
     ]
    },
    {
     "name": "stderr",
     "output_type": "stream",
     "text": [
      "/home/runner/.cache/pypoetry/virtualenvs/consulates-YiFvjhQe-py3.10/lib/python3.10/site-packages/urllib3/connectionpool.py:1013: InsecureRequestWarning: Unverified HTTPS request is being made to host '18.216.81.98'. Adding certificate verification is strongly advised. See: https://urllib3.readthedocs.io/en/1.26.x/advanced-usage.html#ssl-warnings\n",
      "  warnings.warn(\n",
      "/home/runner/.cache/pypoetry/virtualenvs/consulates-YiFvjhQe-py3.10/lib/python3.10/site-packages/urllib3/connectionpool.py:1013: InsecureRequestWarning: Unverified HTTPS request is being made to host '18.216.81.98'. Adding certificate verification is strongly advised. See: https://urllib3.readthedocs.io/en/1.26.x/advanced-usage.html#ssl-warnings\n",
      "  warnings.warn(\n"
     ]
    },
    {
     "name": "stdout",
     "output_type": "stream",
     "text": [
      "doin /home/runner/work/visawhen/visawhen/data/consulates/pdfs/IV-2020-12.pdf\n",
      "doin /home/runner/work/visawhen/visawhen/data/consulates/pdfs/IV-2021-01.pdf\n"
     ]
    },
    {
     "name": "stderr",
     "output_type": "stream",
     "text": [
      "/home/runner/.cache/pypoetry/virtualenvs/consulates-YiFvjhQe-py3.10/lib/python3.10/site-packages/urllib3/connectionpool.py:1013: InsecureRequestWarning: Unverified HTTPS request is being made to host '18.216.81.98'. Adding certificate verification is strongly advised. See: https://urllib3.readthedocs.io/en/1.26.x/advanced-usage.html#ssl-warnings\n",
      "  warnings.warn(\n",
      "/home/runner/.cache/pypoetry/virtualenvs/consulates-YiFvjhQe-py3.10/lib/python3.10/site-packages/urllib3/connectionpool.py:1013: InsecureRequestWarning: Unverified HTTPS request is being made to host '18.216.81.98'. Adding certificate verification is strongly advised. See: https://urllib3.readthedocs.io/en/1.26.x/advanced-usage.html#ssl-warnings\n",
      "  warnings.warn(\n"
     ]
    },
    {
     "name": "stdout",
     "output_type": "stream",
     "text": [
      "doin /home/runner/work/visawhen/visawhen/data/consulates/pdfs/IV-2021-02.pdf\n",
      "doin /home/runner/work/visawhen/visawhen/data/consulates/pdfs/IV-2021-03.pdf\n"
     ]
    },
    {
     "name": "stderr",
     "output_type": "stream",
     "text": [
      "/home/runner/.cache/pypoetry/virtualenvs/consulates-YiFvjhQe-py3.10/lib/python3.10/site-packages/urllib3/connectionpool.py:1013: InsecureRequestWarning: Unverified HTTPS request is being made to host '18.216.81.98'. Adding certificate verification is strongly advised. See: https://urllib3.readthedocs.io/en/1.26.x/advanced-usage.html#ssl-warnings\n",
      "  warnings.warn(\n",
      "/home/runner/.cache/pypoetry/virtualenvs/consulates-YiFvjhQe-py3.10/lib/python3.10/site-packages/urllib3/connectionpool.py:1013: InsecureRequestWarning: Unverified HTTPS request is being made to host '18.216.81.98'. Adding certificate verification is strongly advised. See: https://urllib3.readthedocs.io/en/1.26.x/advanced-usage.html#ssl-warnings\n",
      "  warnings.warn(\n"
     ]
    },
    {
     "name": "stdout",
     "output_type": "stream",
     "text": [
      "doin /home/runner/work/visawhen/visawhen/data/consulates/pdfs/IV-2021-04.pdf\n",
      "doin /home/runner/work/visawhen/visawhen/data/consulates/pdfs/IV-2021-05.pdf\n"
     ]
    },
    {
     "name": "stderr",
     "output_type": "stream",
     "text": [
      "/home/runner/.cache/pypoetry/virtualenvs/consulates-YiFvjhQe-py3.10/lib/python3.10/site-packages/urllib3/connectionpool.py:1013: InsecureRequestWarning: Unverified HTTPS request is being made to host '18.216.81.98'. Adding certificate verification is strongly advised. See: https://urllib3.readthedocs.io/en/1.26.x/advanced-usage.html#ssl-warnings\n",
      "  warnings.warn(\n",
      "/home/runner/.cache/pypoetry/virtualenvs/consulates-YiFvjhQe-py3.10/lib/python3.10/site-packages/urllib3/connectionpool.py:1013: InsecureRequestWarning: Unverified HTTPS request is being made to host '18.216.81.98'. Adding certificate verification is strongly advised. See: https://urllib3.readthedocs.io/en/1.26.x/advanced-usage.html#ssl-warnings\n",
      "  warnings.warn(\n"
     ]
    },
    {
     "name": "stdout",
     "output_type": "stream",
     "text": [
      "doin /home/runner/work/visawhen/visawhen/data/consulates/pdfs/IV-2021-06.pdf\n",
      "doin /home/runner/work/visawhen/visawhen/data/consulates/pdfs/IV-2021-07.pdf\n"
     ]
    },
    {
     "name": "stderr",
     "output_type": "stream",
     "text": [
      "/home/runner/.cache/pypoetry/virtualenvs/consulates-YiFvjhQe-py3.10/lib/python3.10/site-packages/urllib3/connectionpool.py:1013: InsecureRequestWarning: Unverified HTTPS request is being made to host '18.216.81.98'. Adding certificate verification is strongly advised. See: https://urllib3.readthedocs.io/en/1.26.x/advanced-usage.html#ssl-warnings\n",
      "  warnings.warn(\n",
      "/home/runner/.cache/pypoetry/virtualenvs/consulates-YiFvjhQe-py3.10/lib/python3.10/site-packages/urllib3/connectionpool.py:1013: InsecureRequestWarning: Unverified HTTPS request is being made to host '18.216.81.98'. Adding certificate verification is strongly advised. See: https://urllib3.readthedocs.io/en/1.26.x/advanced-usage.html#ssl-warnings\n",
      "  warnings.warn(\n"
     ]
    },
    {
     "name": "stdout",
     "output_type": "stream",
     "text": [
      "doin /home/runner/work/visawhen/visawhen/data/consulates/pdfs/IV-2021-08.pdf\n",
      "doin /home/runner/work/visawhen/visawhen/data/consulates/pdfs/IV-2021-09.pdf\n"
     ]
    },
    {
     "name": "stderr",
     "output_type": "stream",
     "text": [
      "/home/runner/.cache/pypoetry/virtualenvs/consulates-YiFvjhQe-py3.10/lib/python3.10/site-packages/urllib3/connectionpool.py:1013: InsecureRequestWarning: Unverified HTTPS request is being made to host '18.216.81.98'. Adding certificate verification is strongly advised. See: https://urllib3.readthedocs.io/en/1.26.x/advanced-usage.html#ssl-warnings\n",
      "  warnings.warn(\n",
      "/home/runner/.cache/pypoetry/virtualenvs/consulates-YiFvjhQe-py3.10/lib/python3.10/site-packages/urllib3/connectionpool.py:1013: InsecureRequestWarning: Unverified HTTPS request is being made to host '18.216.81.98'. Adding certificate verification is strongly advised. See: https://urllib3.readthedocs.io/en/1.26.x/advanced-usage.html#ssl-warnings\n",
      "  warnings.warn(\n"
     ]
    },
    {
     "name": "stdout",
     "output_type": "stream",
     "text": [
      "doin /home/runner/work/visawhen/visawhen/data/consulates/pdfs/IV-2021-10.pdf\n",
      "but no /home/runner/work/visawhen/visawhen/data/consulates/pdfs/IV-2021-10.pdf!\n",
      "doin /home/runner/work/visawhen/visawhen/data/consulates/pdfs/IV-2021-11.pdf\n",
      "but no /home/runner/work/visawhen/visawhen/data/consulates/pdfs/IV-2021-11.pdf!\n"
     ]
    }
   ],
   "source": [
    "from itertools import product\n",
    "\n",
    "for kind, month in product(\n",
    "    [\"NIV\", \"IV\"], arrow.Arrow.range(\"month\", arrow.get(\"2017-03-01\"), arrow.get())\n",
    "):\n",
    "    outfile = PDFS_DIR / f\"{kind}-{month.format('YYYY-MM')}.pdf\"\n",
    "    if outfile.exists():\n",
    "        print(f\"skippy {outfile}\")\n",
    "        continue\n",
    "    print(f\"doin {outfile}\")\n",
    "    try:\n",
    "        url = urls_by_month[f\"{kind}-{month.format('YYYY-MM')}\"]\n",
    "    except KeyError:\n",
    "        print(f\"but no {outfile}!\")\n",
    "        continue\n",
    "    r = requests.get(\n",
    "        url.replace(\"travel.state.gov\", ip_address),\n",
    "        headers={\"Host\": \"travel.state.gov\"},\n",
    "        verify=False,\n",
    "    )\n",
    "    outfile.write_bytes(r.content)"
   ]
  },
  {
   "cell_type": "code",
   "execution_count": 5,
   "metadata": {
    "execution": {
     "iopub.execute_input": "2021-11-28T23:29:02.656922Z",
     "iopub.status.busy": "2021-11-28T23:29:02.656081Z",
     "iopub.status.idle": "2021-11-29T01:25:50.851540Z",
     "shell.execute_reply": "2021-11-29T01:25:50.851901Z"
    },
    "tags": []
   },
   "outputs": [
    {
     "name": "stderr",
     "output_type": "stream",
     "text": [
      "PdfReadWarning: Xref table not zero-indexed. ID numbers for objects will be corrected. [pdf.py:1736]\n",
      "PdfReadWarning: Xref table not zero-indexed. ID numbers for objects will be corrected. [pdf.py:1736]\n",
      "PdfReadWarning: Xref table not zero-indexed. ID numbers for objects will be corrected. [pdf.py:1736]\n",
      "PdfReadWarning: Superfluous whitespace found in object header b'1' b'0' [pdf.py:1665]\n",
      "PdfReadWarning: Superfluous whitespace found in object header b'2' b'0' [pdf.py:1665]\n",
      "PdfReadWarning: Superfluous whitespace found in object header b'3' b'0' [pdf.py:1665]\n",
      "PdfReadWarning: Superfluous whitespace found in object header b'30' b'0' [pdf.py:1665]\n",
      "PdfReadWarning: Superfluous whitespace found in object header b'33' b'0' [pdf.py:1665]\n",
      "PdfReadWarning: Superfluous whitespace found in object header b'36' b'0' [pdf.py:1665]\n",
      "PdfReadWarning: Superfluous whitespace found in object header b'39' b'0' [pdf.py:1665]\n",
      "PdfReadWarning: Superfluous whitespace found in object header b'42' b'0' [pdf.py:1665]\n",
      "PdfReadWarning: Superfluous whitespace found in object header b'45' b'0' [pdf.py:1665]\n",
      "PdfReadWarning: Superfluous whitespace found in object header b'48' b'0' [pdf.py:1665]\n",
      "PdfReadWarning: Superfluous whitespace found in object header b'51' b'0' [pdf.py:1665]\n",
      "PdfReadWarning: Superfluous whitespace found in object header b'54' b'0' [pdf.py:1665]\n",
      "PdfReadWarning: Superfluous whitespace found in object header b'57' b'0' [pdf.py:1665]\n",
      "PdfReadWarning: Superfluous whitespace found in object header b'60' b'0' [pdf.py:1665]\n",
      "PdfReadWarning: Superfluous whitespace found in object header b'63' b'0' [pdf.py:1665]\n",
      "PdfReadWarning: Superfluous whitespace found in object header b'66' b'0' [pdf.py:1665]\n",
      "PdfReadWarning: Superfluous whitespace found in object header b'69' b'0' [pdf.py:1665]\n",
      "PdfReadWarning: Superfluous whitespace found in object header b'72' b'0' [pdf.py:1665]\n",
      "PdfReadWarning: Superfluous whitespace found in object header b'75' b'0' [pdf.py:1665]\n",
      "PdfReadWarning: Superfluous whitespace found in object header b'78' b'0' [pdf.py:1665]\n",
      "PdfReadWarning: Superfluous whitespace found in object header b'81' b'0' [pdf.py:1665]\n",
      "PdfReadWarning: Superfluous whitespace found in object header b'84' b'0' [pdf.py:1665]\n",
      "PdfReadWarning: Superfluous whitespace found in object header b'87' b'0' [pdf.py:1665]\n",
      "PdfReadWarning: Superfluous whitespace found in object header b'90' b'0' [pdf.py:1665]\n",
      "PdfReadWarning: Superfluous whitespace found in object header b'93' b'0' [pdf.py:1665]\n",
      "PdfReadWarning: Superfluous whitespace found in object header b'96' b'0' [pdf.py:1665]\n",
      "PdfReadWarning: Superfluous whitespace found in object header b'99' b'0' [pdf.py:1665]\n",
      "PdfReadWarning: Superfluous whitespace found in object header b'102' b'0' [pdf.py:1665]\n",
      "PdfReadWarning: Superfluous whitespace found in object header b'105' b'0' [pdf.py:1665]\n",
      "PdfReadWarning: Superfluous whitespace found in object header b'108' b'0' [pdf.py:1665]\n",
      "PdfReadWarning: Xref table not zero-indexed. ID numbers for objects will be corrected. [pdf.py:1736]\n",
      "PdfReadWarning: Superfluous whitespace found in object header b'1' b'0' [pdf.py:1665]\n",
      "PdfReadWarning: Superfluous whitespace found in object header b'2' b'0' [pdf.py:1665]\n",
      "PdfReadWarning: Superfluous whitespace found in object header b'3' b'0' [pdf.py:1665]\n",
      "PdfReadWarning: Superfluous whitespace found in object header b'22' b'0' [pdf.py:1665]\n",
      "PdfReadWarning: Superfluous whitespace found in object header b'25' b'0' [pdf.py:1665]\n",
      "PdfReadWarning: Superfluous whitespace found in object header b'28' b'0' [pdf.py:1665]\n",
      "PdfReadWarning: Superfluous whitespace found in object header b'31' b'0' [pdf.py:1665]\n",
      "PdfReadWarning: Superfluous whitespace found in object header b'34' b'0' [pdf.py:1665]\n",
      "PdfReadWarning: Superfluous whitespace found in object header b'37' b'0' [pdf.py:1665]\n",
      "PdfReadWarning: Superfluous whitespace found in object header b'40' b'0' [pdf.py:1665]\n",
      "PdfReadWarning: Superfluous whitespace found in object header b'43' b'0' [pdf.py:1665]\n",
      "PdfReadWarning: Superfluous whitespace found in object header b'46' b'0' [pdf.py:1665]\n",
      "PdfReadWarning: Superfluous whitespace found in object header b'49' b'0' [pdf.py:1665]\n",
      "PdfReadWarning: Superfluous whitespace found in object header b'52' b'0' [pdf.py:1665]\n",
      "PdfReadWarning: Superfluous whitespace found in object header b'55' b'0' [pdf.py:1665]\n",
      "PdfReadWarning: Superfluous whitespace found in object header b'58' b'0' [pdf.py:1665]\n",
      "PdfReadWarning: Superfluous whitespace found in object header b'61' b'0' [pdf.py:1665]\n",
      "PdfReadWarning: Superfluous whitespace found in object header b'64' b'0' [pdf.py:1665]\n",
      "PdfReadWarning: Superfluous whitespace found in object header b'67' b'0' [pdf.py:1665]\n",
      "PdfReadWarning: Superfluous whitespace found in object header b'70' b'0' [pdf.py:1665]\n",
      "PdfReadWarning: Superfluous whitespace found in object header b'73' b'0' [pdf.py:1665]\n",
      "PdfReadWarning: Superfluous whitespace found in object header b'76' b'0' [pdf.py:1665]\n",
      "PdfReadWarning: Superfluous whitespace found in object header b'79' b'0' [pdf.py:1665]\n",
      "PdfReadWarning: Superfluous whitespace found in object header b'82' b'0' [pdf.py:1665]\n",
      "PdfReadWarning: Superfluous whitespace found in object header b'85' b'0' [pdf.py:1665]\n",
      "PdfReadWarning: Superfluous whitespace found in object header b'88' b'0' [pdf.py:1665]\n",
      "PdfReadWarning: Superfluous whitespace found in object header b'91' b'0' [pdf.py:1665]\n",
      "PdfReadWarning: Superfluous whitespace found in object header b'94' b'0' [pdf.py:1665]\n",
      "PdfReadWarning: Superfluous whitespace found in object header b'97' b'0' [pdf.py:1665]\n",
      "PdfReadWarning: Superfluous whitespace found in object header b'100' b'0' [pdf.py:1665]\n",
      "PdfReadWarning: Superfluous whitespace found in object header b'103' b'0' [pdf.py:1665]\n",
      "PdfReadWarning: Superfluous whitespace found in object header b'106' b'0' [pdf.py:1665]\n",
      "PdfReadWarning: Superfluous whitespace found in object header b'109' b'0' [pdf.py:1665]\n",
      "PdfReadWarning: Superfluous whitespace found in object header b'112' b'0' [pdf.py:1665]\n",
      "PdfReadWarning: Superfluous whitespace found in object header b'115' b'0' [pdf.py:1665]\n",
      "PdfReadWarning: Superfluous whitespace found in object header b'118' b'0' [pdf.py:1665]\n",
      "PdfReadWarning: Superfluous whitespace found in object header b'121' b'0' [pdf.py:1665]\n",
      "PdfReadWarning: Superfluous whitespace found in object header b'124' b'0' [pdf.py:1665]\n",
      "PdfReadWarning: Superfluous whitespace found in object header b'127' b'0' [pdf.py:1665]\n",
      "PdfReadWarning: Superfluous whitespace found in object header b'130' b'0' [pdf.py:1665]\n",
      "PdfReadWarning: Superfluous whitespace found in object header b'133' b'0' [pdf.py:1665]\n",
      "PdfReadWarning: Superfluous whitespace found in object header b'136' b'0' [pdf.py:1665]\n",
      "PdfReadWarning: Superfluous whitespace found in object header b'139' b'0' [pdf.py:1665]\n",
      "PdfReadWarning: Superfluous whitespace found in object header b'142' b'0' [pdf.py:1665]\n",
      "PdfReadWarning: Superfluous whitespace found in object header b'145' b'0' [pdf.py:1665]\n",
      "PdfReadWarning: Superfluous whitespace found in object header b'148' b'0' [pdf.py:1665]\n",
      "PdfReadWarning: Superfluous whitespace found in object header b'151' b'0' [pdf.py:1665]\n",
      "PdfReadWarning: Superfluous whitespace found in object header b'154' b'0' [pdf.py:1665]\n",
      "PdfReadWarning: Superfluous whitespace found in object header b'157' b'0' [pdf.py:1665]\n",
      "PdfReadWarning: Superfluous whitespace found in object header b'160' b'0' [pdf.py:1665]\n",
      "PdfReadWarning: Superfluous whitespace found in object header b'163' b'0' [pdf.py:1665]\n",
      "PdfReadWarning: Superfluous whitespace found in object header b'166' b'0' [pdf.py:1665]\n",
      "PdfReadWarning: Superfluous whitespace found in object header b'169' b'0' [pdf.py:1665]\n",
      "PdfReadWarning: Superfluous whitespace found in object header b'172' b'0' [pdf.py:1665]\n",
      "PdfReadWarning: Superfluous whitespace found in object header b'175' b'0' [pdf.py:1665]\n",
      "PdfReadWarning: Superfluous whitespace found in object header b'178' b'0' [pdf.py:1665]\n",
      "PdfReadWarning: Superfluous whitespace found in object header b'181' b'0' [pdf.py:1665]\n",
      "PdfReadWarning: Superfluous whitespace found in object header b'184' b'0' [pdf.py:1665]\n",
      "PdfReadWarning: Superfluous whitespace found in object header b'187' b'0' [pdf.py:1665]\n",
      "PdfReadWarning: Superfluous whitespace found in object header b'190' b'0' [pdf.py:1665]\n",
      "PdfReadWarning: Superfluous whitespace found in object header b'193' b'0' [pdf.py:1665]\n",
      "PdfReadWarning: Superfluous whitespace found in object header b'196' b'0' [pdf.py:1665]\n",
      "PdfReadWarning: Superfluous whitespace found in object header b'199' b'0' [pdf.py:1665]\n",
      "PdfReadWarning: Superfluous whitespace found in object header b'202' b'0' [pdf.py:1665]\n",
      "PdfReadWarning: Superfluous whitespace found in object header b'205' b'0' [pdf.py:1665]\n",
      "PdfReadWarning: Superfluous whitespace found in object header b'208' b'0' [pdf.py:1665]\n",
      "PdfReadWarning: Xref table not zero-indexed. ID numbers for objects will be corrected. [pdf.py:1736]\n",
      "PdfReadWarning: Xref table not zero-indexed. ID numbers for objects will be corrected. [pdf.py:1736]\n",
      "PdfReadWarning: Xref table not zero-indexed. ID numbers for objects will be corrected. [pdf.py:1736]\n",
      "PdfReadWarning: Xref table not zero-indexed. ID numbers for objects will be corrected. [pdf.py:1736]\n",
      "tornado.application - ERROR - Exception in callback <bound method Worker.trigger_profile of <Worker: 'inproc://10.1.0.125/4597/4', 0, Status.running, stored: 48, running: 1/1, ready: 6957, comm: 0, waiting: 0>>\n",
      "Traceback (most recent call last):\n",
      "  File \"/home/runner/.cache/pypoetry/virtualenvs/consulates-YiFvjhQe-py3.10/lib/python3.10/site-packages/distributed/profile.py\", line 115, in process\n",
      "    d = state[\"children\"][ident]\n",
      "KeyError: 'text_in_bbox;/home/runner/.cache/pypoetry/virtualenvs/consulates-YiFvjhQe-py3.10/lib/python3.10/site-packages/camelot/utils.py;342'\n",
      "\n",
      "During handling of the above exception, another exception occurred:\n",
      "\n",
      "Traceback (most recent call last):\n",
      "  File \"/home/runner/.cache/pypoetry/virtualenvs/consulates-YiFvjhQe-py3.10/lib/python3.10/site-packages/tornado/ioloop.py\", line 905, in _run\n",
      "    return self.callback()\n",
      "  File \"/home/runner/.cache/pypoetry/virtualenvs/consulates-YiFvjhQe-py3.10/lib/python3.10/site-packages/distributed/worker.py\", line 3623, in trigger_profile\n",
      "    state = profile.process(\n",
      "  File \"/home/runner/.cache/pypoetry/virtualenvs/consulates-YiFvjhQe-py3.10/lib/python3.10/site-packages/distributed/profile.py\", line 119, in process\n",
      "    \"description\": info_frame(frame),\n",
      "  File \"/home/runner/.cache/pypoetry/virtualenvs/consulates-YiFvjhQe-py3.10/lib/python3.10/site-packages/distributed/profile.py\", line 72, in info_frame\n",
      "    line = linecache.getline(co.co_filename, frame.f_lineno, frame.f_globals).lstrip()\n",
      "  File \"/opt/hostedtoolcache/Python/3.10.0/x64/lib/python3.10/linecache.py\", line 31, in getline\n",
      "    if 1 <= lineno <= len(lines):\n",
      "TypeError: '<=' not supported between instances of 'int' and 'NoneType'\n",
      "tornado.application - ERROR - Exception in callback <bound method Worker.trigger_profile of <Worker: 'inproc://10.1.0.125/4597/4', 0, Status.running, stored: 861, running: 1/1, ready: 6144, comm: 0, waiting: 0>>\n",
      "Traceback (most recent call last):\n",
      "  File \"/home/runner/.cache/pypoetry/virtualenvs/consulates-YiFvjhQe-py3.10/lib/python3.10/site-packages/distributed/profile.py\", line 115, in process\n",
      "    d = state[\"children\"][ident]\n",
      "KeyError: 'choplist;/home/runner/.cache/pypoetry/virtualenvs/consulates-YiFvjhQe-py3.10/lib/python3.10/site-packages/pdfminer/utils.py;331'\n",
      "\n",
      "During handling of the above exception, another exception occurred:\n",
      "\n",
      "Traceback (most recent call last):\n",
      "  File \"/home/runner/.cache/pypoetry/virtualenvs/consulates-YiFvjhQe-py3.10/lib/python3.10/site-packages/tornado/ioloop.py\", line 905, in _run\n",
      "    return self.callback()\n",
      "  File \"/home/runner/.cache/pypoetry/virtualenvs/consulates-YiFvjhQe-py3.10/lib/python3.10/site-packages/distributed/worker.py\", line 3623, in trigger_profile\n",
      "    state = profile.process(\n",
      "  File \"/home/runner/.cache/pypoetry/virtualenvs/consulates-YiFvjhQe-py3.10/lib/python3.10/site-packages/distributed/profile.py\", line 119, in process\n",
      "    \"description\": info_frame(frame),\n",
      "  File \"/home/runner/.cache/pypoetry/virtualenvs/consulates-YiFvjhQe-py3.10/lib/python3.10/site-packages/distributed/profile.py\", line 72, in info_frame\n",
      "    line = linecache.getline(co.co_filename, frame.f_lineno, frame.f_globals).lstrip()\n",
      "  File \"/opt/hostedtoolcache/Python/3.10.0/x64/lib/python3.10/linecache.py\", line 31, in getline\n",
      "    if 1 <= lineno <= len(lines):\n",
      "TypeError: '<=' not supported between instances of 'int' and 'NoneType'\n",
      "tornado.application - ERROR - Exception in callback <bound method Worker.trigger_profile of <Worker: 'inproc://10.1.0.125/4597/4', 0, Status.running, stored: 891, running: 1/1, ready: 6114, comm: 0, waiting: 0>>\n",
      "Traceback (most recent call last):\n",
      "  File \"/home/runner/.cache/pypoetry/virtualenvs/consulates-YiFvjhQe-py3.10/lib/python3.10/site-packages/distributed/profile.py\", line 115, in process\n",
      "    d = state[\"children\"][ident]\n",
      "KeyError: '_reduce_index;/home/runner/.cache/pypoetry/virtualenvs/consulates-YiFvjhQe-py3.10/lib/python3.10/site-packages/camelot/parsers/lattice.py;164'\n",
      "\n",
      "During handling of the above exception, another exception occurred:\n",
      "\n",
      "Traceback (most recent call last):\n",
      "  File \"/home/runner/.cache/pypoetry/virtualenvs/consulates-YiFvjhQe-py3.10/lib/python3.10/site-packages/tornado/ioloop.py\", line 905, in _run\n",
      "    return self.callback()\n",
      "  File \"/home/runner/.cache/pypoetry/virtualenvs/consulates-YiFvjhQe-py3.10/lib/python3.10/site-packages/distributed/worker.py\", line 3623, in trigger_profile\n",
      "    state = profile.process(\n",
      "  File \"/home/runner/.cache/pypoetry/virtualenvs/consulates-YiFvjhQe-py3.10/lib/python3.10/site-packages/distributed/profile.py\", line 119, in process\n",
      "    \"description\": info_frame(frame),\n",
      "  File \"/home/runner/.cache/pypoetry/virtualenvs/consulates-YiFvjhQe-py3.10/lib/python3.10/site-packages/distributed/profile.py\", line 72, in info_frame\n",
      "    line = linecache.getline(co.co_filename, frame.f_lineno, frame.f_globals).lstrip()\n",
      "  File \"/opt/hostedtoolcache/Python/3.10.0/x64/lib/python3.10/linecache.py\", line 31, in getline\n",
      "    if 1 <= lineno <= len(lines):\n",
      "TypeError: '<=' not supported between instances of 'int' and 'NoneType'\n",
      "tornado.application - ERROR - Exception in callback <bound method Worker.trigger_profile of <Worker: 'inproc://10.1.0.125/4597/4', 0, Status.running, stored: 1347, running: 1/1, ready: 5658, comm: 0, waiting: 0>>\n",
      "Traceback (most recent call last):\n",
      "  File \"/home/runner/.cache/pypoetry/virtualenvs/consulates-YiFvjhQe-py3.10/lib/python3.10/site-packages/distributed/profile.py\", line 115, in process\n",
      "    d = state[\"children\"][ident]\n",
      "KeyError: 'text_in_bbox;/home/runner/.cache/pypoetry/virtualenvs/consulates-YiFvjhQe-py3.10/lib/python3.10/site-packages/camelot/utils.py;342'\n",
      "\n",
      "During handling of the above exception, another exception occurred:\n",
      "\n",
      "Traceback (most recent call last):\n",
      "  File \"/home/runner/.cache/pypoetry/virtualenvs/consulates-YiFvjhQe-py3.10/lib/python3.10/site-packages/tornado/ioloop.py\", line 905, in _run\n",
      "    return self.callback()\n",
      "  File \"/home/runner/.cache/pypoetry/virtualenvs/consulates-YiFvjhQe-py3.10/lib/python3.10/site-packages/distributed/worker.py\", line 3623, in trigger_profile\n",
      "    state = profile.process(\n",
      "  File \"/home/runner/.cache/pypoetry/virtualenvs/consulates-YiFvjhQe-py3.10/lib/python3.10/site-packages/distributed/profile.py\", line 119, in process\n",
      "    \"description\": info_frame(frame),\n",
      "  File \"/home/runner/.cache/pypoetry/virtualenvs/consulates-YiFvjhQe-py3.10/lib/python3.10/site-packages/distributed/profile.py\", line 72, in info_frame\n",
      "    line = linecache.getline(co.co_filename, frame.f_lineno, frame.f_globals).lstrip()\n",
      "  File \"/opt/hostedtoolcache/Python/3.10.0/x64/lib/python3.10/linecache.py\", line 31, in getline\n",
      "    if 1 <= lineno <= len(lines):\n",
      "TypeError: '<=' not supported between instances of 'int' and 'NoneType'\n",
      "tornado.application - ERROR - Exception in callback <bound method Worker.trigger_profile of <Worker: 'inproc://10.1.0.125/4597/4', 0, Status.running, stored: 1466, running: 1/1, ready: 5539, comm: 0, waiting: 0>>\n",
      "Traceback (most recent call last):\n",
      "  File \"/home/runner/.cache/pypoetry/virtualenvs/consulates-YiFvjhQe-py3.10/lib/python3.10/site-packages/distributed/profile.py\", line 115, in process\n",
      "    d = state[\"children\"][ident]\n",
      "KeyError: 'text_in_bbox;/home/runner/.cache/pypoetry/virtualenvs/consulates-YiFvjhQe-py3.10/lib/python3.10/site-packages/camelot/utils.py;342'\n",
      "\n",
      "During handling of the above exception, another exception occurred:\n",
      "\n",
      "Traceback (most recent call last):\n",
      "  File \"/home/runner/.cache/pypoetry/virtualenvs/consulates-YiFvjhQe-py3.10/lib/python3.10/site-packages/tornado/ioloop.py\", line 905, in _run\n",
      "    return self.callback()\n",
      "  File \"/home/runner/.cache/pypoetry/virtualenvs/consulates-YiFvjhQe-py3.10/lib/python3.10/site-packages/distributed/worker.py\", line 3623, in trigger_profile\n",
      "    state = profile.process(\n",
      "  File \"/home/runner/.cache/pypoetry/virtualenvs/consulates-YiFvjhQe-py3.10/lib/python3.10/site-packages/distributed/profile.py\", line 119, in process\n",
      "    \"description\": info_frame(frame),\n",
      "  File \"/home/runner/.cache/pypoetry/virtualenvs/consulates-YiFvjhQe-py3.10/lib/python3.10/site-packages/distributed/profile.py\", line 72, in info_frame\n",
      "    line = linecache.getline(co.co_filename, frame.f_lineno, frame.f_globals).lstrip()\n",
      "  File \"/opt/hostedtoolcache/Python/3.10.0/x64/lib/python3.10/linecache.py\", line 31, in getline\n",
      "    if 1 <= lineno <= len(lines):\n",
      "TypeError: '<=' not supported between instances of 'int' and 'NoneType'\n",
      "tornado.application - ERROR - Exception in callback <bound method Worker.trigger_profile of <Worker: 'inproc://10.1.0.125/4597/4', 0, Status.running, stored: 1782, running: 1/1, ready: 5223, comm: 0, waiting: 0>>\n",
      "Traceback (most recent call last):\n",
      "  File \"/home/runner/.cache/pypoetry/virtualenvs/consulates-YiFvjhQe-py3.10/lib/python3.10/site-packages/distributed/profile.py\", line 115, in process\n",
      "    d = state[\"children\"][ident]\n",
      "KeyError: '_reduce_index;/home/runner/.cache/pypoetry/virtualenvs/consulates-YiFvjhQe-py3.10/lib/python3.10/site-packages/camelot/parsers/lattice.py;164'\n",
      "\n",
      "During handling of the above exception, another exception occurred:\n",
      "\n",
      "Traceback (most recent call last):\n",
      "  File \"/home/runner/.cache/pypoetry/virtualenvs/consulates-YiFvjhQe-py3.10/lib/python3.10/site-packages/tornado/ioloop.py\", line 905, in _run\n",
      "    return self.callback()\n",
      "  File \"/home/runner/.cache/pypoetry/virtualenvs/consulates-YiFvjhQe-py3.10/lib/python3.10/site-packages/distributed/worker.py\", line 3623, in trigger_profile\n",
      "    state = profile.process(\n",
      "  File \"/home/runner/.cache/pypoetry/virtualenvs/consulates-YiFvjhQe-py3.10/lib/python3.10/site-packages/distributed/profile.py\", line 119, in process\n",
      "    \"description\": info_frame(frame),\n",
      "  File \"/home/runner/.cache/pypoetry/virtualenvs/consulates-YiFvjhQe-py3.10/lib/python3.10/site-packages/distributed/profile.py\", line 72, in info_frame\n",
      "    line = linecache.getline(co.co_filename, frame.f_lineno, frame.f_globals).lstrip()\n",
      "  File \"/opt/hostedtoolcache/Python/3.10.0/x64/lib/python3.10/linecache.py\", line 31, in getline\n",
      "    if 1 <= lineno <= len(lines):\n",
      "TypeError: '<=' not supported between instances of 'int' and 'NoneType'\n",
      "tornado.application - ERROR - Exception in callback <bound method Worker.trigger_profile of <Worker: 'inproc://10.1.0.125/4597/4', 0, Status.running, stored: 2202, running: 1/1, ready: 4803, comm: 0, waiting: 0>>\n",
      "Traceback (most recent call last):\n",
      "  File \"/home/runner/.cache/pypoetry/virtualenvs/consulates-YiFvjhQe-py3.10/lib/python3.10/site-packages/distributed/profile.py\", line 115, in process\n",
      "    d = state[\"children\"][ident]\n",
      "KeyError: 'group_textlines;/home/runner/.cache/pypoetry/virtualenvs/consulates-YiFvjhQe-py3.10/lib/python3.10/site-packages/pdfminer/layout.py;788'\n",
      "\n",
      "During handling of the above exception, another exception occurred:\n",
      "\n",
      "Traceback (most recent call last):\n",
      "  File \"/home/runner/.cache/pypoetry/virtualenvs/consulates-YiFvjhQe-py3.10/lib/python3.10/site-packages/tornado/ioloop.py\", line 905, in _run\n",
      "    return self.callback()\n",
      "  File \"/home/runner/.cache/pypoetry/virtualenvs/consulates-YiFvjhQe-py3.10/lib/python3.10/site-packages/distributed/worker.py\", line 3623, in trigger_profile\n",
      "    state = profile.process(\n",
      "  File \"/home/runner/.cache/pypoetry/virtualenvs/consulates-YiFvjhQe-py3.10/lib/python3.10/site-packages/distributed/profile.py\", line 119, in process\n",
      "    \"description\": info_frame(frame),\n",
      "  File \"/home/runner/.cache/pypoetry/virtualenvs/consulates-YiFvjhQe-py3.10/lib/python3.10/site-packages/distributed/profile.py\", line 72, in info_frame\n",
      "    line = linecache.getline(co.co_filename, frame.f_lineno, frame.f_globals).lstrip()\n",
      "  File \"/opt/hostedtoolcache/Python/3.10.0/x64/lib/python3.10/linecache.py\", line 31, in getline\n",
      "    if 1 <= lineno <= len(lines):\n",
      "TypeError: '<=' not supported between instances of 'int' and 'NoneType'\n",
      "tornado.application - ERROR - Exception in callback <bound method Worker.trigger_profile of <Worker: 'inproc://10.1.0.125/4597/4', 0, Status.running, stored: 2255, running: 1/1, ready: 4750, comm: 0, waiting: 0>>\n",
      "Traceback (most recent call last):\n",
      "  File \"/home/runner/.cache/pypoetry/virtualenvs/consulates-YiFvjhQe-py3.10/lib/python3.10/site-packages/distributed/profile.py\", line 115, in process\n",
      "    d = state[\"children\"][ident]\n",
      "KeyError: 'text_in_bbox;/home/runner/.cache/pypoetry/virtualenvs/consulates-YiFvjhQe-py3.10/lib/python3.10/site-packages/camelot/utils.py;342'\n",
      "\n",
      "During handling of the above exception, another exception occurred:\n",
      "\n",
      "Traceback (most recent call last):\n",
      "  File \"/home/runner/.cache/pypoetry/virtualenvs/consulates-YiFvjhQe-py3.10/lib/python3.10/site-packages/tornado/ioloop.py\", line 905, in _run\n",
      "    return self.callback()\n",
      "  File \"/home/runner/.cache/pypoetry/virtualenvs/consulates-YiFvjhQe-py3.10/lib/python3.10/site-packages/distributed/worker.py\", line 3623, in trigger_profile\n",
      "    state = profile.process(\n",
      "  File \"/home/runner/.cache/pypoetry/virtualenvs/consulates-YiFvjhQe-py3.10/lib/python3.10/site-packages/distributed/profile.py\", line 119, in process\n",
      "    \"description\": info_frame(frame),\n",
      "  File \"/home/runner/.cache/pypoetry/virtualenvs/consulates-YiFvjhQe-py3.10/lib/python3.10/site-packages/distributed/profile.py\", line 72, in info_frame\n",
      "    line = linecache.getline(co.co_filename, frame.f_lineno, frame.f_globals).lstrip()\n",
      "  File \"/opt/hostedtoolcache/Python/3.10.0/x64/lib/python3.10/linecache.py\", line 31, in getline\n",
      "    if 1 <= lineno <= len(lines):\n",
      "TypeError: '<=' not supported between instances of 'int' and 'NoneType'\n",
      "tornado.application - ERROR - Exception in callback <bound method Worker.trigger_profile of <Worker: 'inproc://10.1.0.125/4597/4', 0, Status.running, stored: 2314, running: 1/1, ready: 4691, comm: 0, waiting: 0>>\n",
      "Traceback (most recent call last):\n",
      "  File \"/home/runner/.cache/pypoetry/virtualenvs/consulates-YiFvjhQe-py3.10/lib/python3.10/site-packages/distributed/profile.py\", line 115, in process\n",
      "    d = state[\"children\"][ident]\n",
      "KeyError: 'text_in_bbox;/home/runner/.cache/pypoetry/virtualenvs/consulates-YiFvjhQe-py3.10/lib/python3.10/site-packages/camelot/utils.py;342'\n",
      "\n",
      "During handling of the above exception, another exception occurred:\n",
      "\n",
      "Traceback (most recent call last):\n",
      "  File \"/home/runner/.cache/pypoetry/virtualenvs/consulates-YiFvjhQe-py3.10/lib/python3.10/site-packages/tornado/ioloop.py\", line 905, in _run\n",
      "    return self.callback()\n",
      "  File \"/home/runner/.cache/pypoetry/virtualenvs/consulates-YiFvjhQe-py3.10/lib/python3.10/site-packages/distributed/worker.py\", line 3623, in trigger_profile\n",
      "    state = profile.process(\n",
      "  File \"/home/runner/.cache/pypoetry/virtualenvs/consulates-YiFvjhQe-py3.10/lib/python3.10/site-packages/distributed/profile.py\", line 119, in process\n",
      "    \"description\": info_frame(frame),\n",
      "  File \"/home/runner/.cache/pypoetry/virtualenvs/consulates-YiFvjhQe-py3.10/lib/python3.10/site-packages/distributed/profile.py\", line 72, in info_frame\n",
      "    line = linecache.getline(co.co_filename, frame.f_lineno, frame.f_globals).lstrip()\n",
      "  File \"/opt/hostedtoolcache/Python/3.10.0/x64/lib/python3.10/linecache.py\", line 31, in getline\n",
      "    if 1 <= lineno <= len(lines):\n",
      "TypeError: '<=' not supported between instances of 'int' and 'NoneType'\n",
      "tornado.application - ERROR - Exception in callback <bound method Worker.trigger_profile of <Worker: 'inproc://10.1.0.125/4597/4', 0, Status.running, stored: 2474, running: 1/1, ready: 4531, comm: 0, waiting: 0>>\n",
      "Traceback (most recent call last):\n",
      "  File \"/home/runner/.cache/pypoetry/virtualenvs/consulates-YiFvjhQe-py3.10/lib/python3.10/site-packages/distributed/profile.py\", line 115, in process\n",
      "    d = state[\"children\"][ident]\n",
      "KeyError: 'choplist;/home/runner/.cache/pypoetry/virtualenvs/consulates-YiFvjhQe-py3.10/lib/python3.10/site-packages/pdfminer/utils.py;331'\n",
      "\n",
      "During handling of the above exception, another exception occurred:\n",
      "\n",
      "Traceback (most recent call last):\n",
      "  File \"/home/runner/.cache/pypoetry/virtualenvs/consulates-YiFvjhQe-py3.10/lib/python3.10/site-packages/tornado/ioloop.py\", line 905, in _run\n",
      "    return self.callback()\n",
      "  File \"/home/runner/.cache/pypoetry/virtualenvs/consulates-YiFvjhQe-py3.10/lib/python3.10/site-packages/distributed/worker.py\", line 3623, in trigger_profile\n",
      "    state = profile.process(\n",
      "  File \"/home/runner/.cache/pypoetry/virtualenvs/consulates-YiFvjhQe-py3.10/lib/python3.10/site-packages/distributed/profile.py\", line 119, in process\n",
      "    \"description\": info_frame(frame),\n",
      "  File \"/home/runner/.cache/pypoetry/virtualenvs/consulates-YiFvjhQe-py3.10/lib/python3.10/site-packages/distributed/profile.py\", line 72, in info_frame\n",
      "    line = linecache.getline(co.co_filename, frame.f_lineno, frame.f_globals).lstrip()\n",
      "  File \"/opt/hostedtoolcache/Python/3.10.0/x64/lib/python3.10/linecache.py\", line 31, in getline\n",
      "    if 1 <= lineno <= len(lines):\n",
      "TypeError: '<=' not supported between instances of 'int' and 'NoneType'\n",
      "tornado.application - ERROR - Exception in callback <bound method Worker.trigger_profile of <Worker: 'inproc://10.1.0.125/4597/4', 0, Status.running, stored: 2739, running: 1/1, ready: 4266, comm: 0, waiting: 0>>\n",
      "Traceback (most recent call last):\n",
      "  File \"/home/runner/.cache/pypoetry/virtualenvs/consulates-YiFvjhQe-py3.10/lib/python3.10/site-packages/distributed/profile.py\", line 115, in process\n",
      "    d = state[\"children\"][ident]\n",
      "KeyError: 'text_in_bbox;/home/runner/.cache/pypoetry/virtualenvs/consulates-YiFvjhQe-py3.10/lib/python3.10/site-packages/camelot/utils.py;342'\n",
      "\n",
      "During handling of the above exception, another exception occurred:\n",
      "\n",
      "Traceback (most recent call last):\n",
      "  File \"/home/runner/.cache/pypoetry/virtualenvs/consulates-YiFvjhQe-py3.10/lib/python3.10/site-packages/tornado/ioloop.py\", line 905, in _run\n",
      "    return self.callback()\n",
      "  File \"/home/runner/.cache/pypoetry/virtualenvs/consulates-YiFvjhQe-py3.10/lib/python3.10/site-packages/distributed/worker.py\", line 3623, in trigger_profile\n",
      "    state = profile.process(\n",
      "  File \"/home/runner/.cache/pypoetry/virtualenvs/consulates-YiFvjhQe-py3.10/lib/python3.10/site-packages/distributed/profile.py\", line 119, in process\n",
      "    \"description\": info_frame(frame),\n",
      "  File \"/home/runner/.cache/pypoetry/virtualenvs/consulates-YiFvjhQe-py3.10/lib/python3.10/site-packages/distributed/profile.py\", line 72, in info_frame\n",
      "    line = linecache.getline(co.co_filename, frame.f_lineno, frame.f_globals).lstrip()\n",
      "  File \"/opt/hostedtoolcache/Python/3.10.0/x64/lib/python3.10/linecache.py\", line 31, in getline\n",
      "    if 1 <= lineno <= len(lines):\n",
      "TypeError: '<=' not supported between instances of 'int' and 'NoneType'\n",
      "tornado.application - ERROR - Exception in callback <bound method Worker.trigger_profile of <Worker: 'inproc://10.1.0.125/4597/4', 0, Status.running, stored: 2850, running: 1/1, ready: 4155, comm: 0, waiting: 0>>\n",
      "Traceback (most recent call last):\n",
      "  File \"/home/runner/.cache/pypoetry/virtualenvs/consulates-YiFvjhQe-py3.10/lib/python3.10/site-packages/distributed/profile.py\", line 115, in process\n",
      "    d = state[\"children\"][ident]\n",
      "KeyError: 'text_in_bbox;/home/runner/.cache/pypoetry/virtualenvs/consulates-YiFvjhQe-py3.10/lib/python3.10/site-packages/camelot/utils.py;342'\n",
      "\n",
      "During handling of the above exception, another exception occurred:\n",
      "\n",
      "Traceback (most recent call last):\n",
      "  File \"/home/runner/.cache/pypoetry/virtualenvs/consulates-YiFvjhQe-py3.10/lib/python3.10/site-packages/tornado/ioloop.py\", line 905, in _run\n",
      "    return self.callback()\n",
      "  File \"/home/runner/.cache/pypoetry/virtualenvs/consulates-YiFvjhQe-py3.10/lib/python3.10/site-packages/distributed/worker.py\", line 3623, in trigger_profile\n",
      "    state = profile.process(\n",
      "  File \"/home/runner/.cache/pypoetry/virtualenvs/consulates-YiFvjhQe-py3.10/lib/python3.10/site-packages/distributed/profile.py\", line 119, in process\n",
      "    \"description\": info_frame(frame),\n",
      "  File \"/home/runner/.cache/pypoetry/virtualenvs/consulates-YiFvjhQe-py3.10/lib/python3.10/site-packages/distributed/profile.py\", line 72, in info_frame\n",
      "    line = linecache.getline(co.co_filename, frame.f_lineno, frame.f_globals).lstrip()\n",
      "  File \"/opt/hostedtoolcache/Python/3.10.0/x64/lib/python3.10/linecache.py\", line 31, in getline\n",
      "    if 1 <= lineno <= len(lines):\n",
      "TypeError: '<=' not supported between instances of 'int' and 'NoneType'\n",
      "tornado.application - ERROR - Exception in callback <bound method Worker.trigger_profile of <Worker: 'inproc://10.1.0.125/4597/4', 0, Status.running, stored: 2923, running: 1/1, ready: 4082, comm: 0, waiting: 0>>\n",
      "Traceback (most recent call last):\n",
      "  File \"/home/runner/.cache/pypoetry/virtualenvs/consulates-YiFvjhQe-py3.10/lib/python3.10/site-packages/distributed/profile.py\", line 115, in process\n",
      "    d = state[\"children\"][ident]\n",
      "KeyError: 'text_in_bbox;/home/runner/.cache/pypoetry/virtualenvs/consulates-YiFvjhQe-py3.10/lib/python3.10/site-packages/camelot/utils.py;342'\n",
      "\n",
      "During handling of the above exception, another exception occurred:\n",
      "\n",
      "Traceback (most recent call last):\n",
      "  File \"/home/runner/.cache/pypoetry/virtualenvs/consulates-YiFvjhQe-py3.10/lib/python3.10/site-packages/tornado/ioloop.py\", line 905, in _run\n",
      "    return self.callback()\n",
      "  File \"/home/runner/.cache/pypoetry/virtualenvs/consulates-YiFvjhQe-py3.10/lib/python3.10/site-packages/distributed/worker.py\", line 3623, in trigger_profile\n",
      "    state = profile.process(\n",
      "  File \"/home/runner/.cache/pypoetry/virtualenvs/consulates-YiFvjhQe-py3.10/lib/python3.10/site-packages/distributed/profile.py\", line 119, in process\n",
      "    \"description\": info_frame(frame),\n",
      "  File \"/home/runner/.cache/pypoetry/virtualenvs/consulates-YiFvjhQe-py3.10/lib/python3.10/site-packages/distributed/profile.py\", line 72, in info_frame\n",
      "    line = linecache.getline(co.co_filename, frame.f_lineno, frame.f_globals).lstrip()\n",
      "  File \"/opt/hostedtoolcache/Python/3.10.0/x64/lib/python3.10/linecache.py\", line 31, in getline\n",
      "    if 1 <= lineno <= len(lines):\n",
      "TypeError: '<=' not supported between instances of 'int' and 'NoneType'\n",
      "tornado.application - ERROR - Exception in callback <bound method Worker.trigger_profile of <Worker: 'inproc://10.1.0.125/4597/4', 0, Status.running, stored: 3067, running: 1/1, ready: 3938, comm: 0, waiting: 0>>\n",
      "Traceback (most recent call last):\n",
      "  File \"/home/runner/.cache/pypoetry/virtualenvs/consulates-YiFvjhQe-py3.10/lib/python3.10/site-packages/distributed/profile.py\", line 115, in process\n",
      "    d = state[\"children\"][ident]\n",
      "KeyError: 'text_in_bbox;/home/runner/.cache/pypoetry/virtualenvs/consulates-YiFvjhQe-py3.10/lib/python3.10/site-packages/camelot/utils.py;342'\n",
      "\n",
      "During handling of the above exception, another exception occurred:\n",
      "\n",
      "Traceback (most recent call last):\n",
      "  File \"/home/runner/.cache/pypoetry/virtualenvs/consulates-YiFvjhQe-py3.10/lib/python3.10/site-packages/tornado/ioloop.py\", line 905, in _run\n",
      "    return self.callback()\n",
      "  File \"/home/runner/.cache/pypoetry/virtualenvs/consulates-YiFvjhQe-py3.10/lib/python3.10/site-packages/distributed/worker.py\", line 3623, in trigger_profile\n",
      "    state = profile.process(\n",
      "  File \"/home/runner/.cache/pypoetry/virtualenvs/consulates-YiFvjhQe-py3.10/lib/python3.10/site-packages/distributed/profile.py\", line 119, in process\n",
      "    \"description\": info_frame(frame),\n",
      "  File \"/home/runner/.cache/pypoetry/virtualenvs/consulates-YiFvjhQe-py3.10/lib/python3.10/site-packages/distributed/profile.py\", line 72, in info_frame\n",
      "    line = linecache.getline(co.co_filename, frame.f_lineno, frame.f_globals).lstrip()\n",
      "  File \"/opt/hostedtoolcache/Python/3.10.0/x64/lib/python3.10/linecache.py\", line 31, in getline\n",
      "    if 1 <= lineno <= len(lines):\n",
      "TypeError: '<=' not supported between instances of 'int' and 'NoneType'\n",
      "tornado.application - ERROR - Exception in callback <bound method Worker.trigger_profile of <Worker: 'inproc://10.1.0.125/4597/4', 0, Status.running, stored: 3081, running: 1/1, ready: 3924, comm: 0, waiting: 0>>\n",
      "Traceback (most recent call last):\n",
      "  File \"/home/runner/.cache/pypoetry/virtualenvs/consulates-YiFvjhQe-py3.10/lib/python3.10/site-packages/distributed/profile.py\", line 115, in process\n",
      "    d = state[\"children\"][ident]\n",
      "KeyError: 'text_in_bbox;/home/runner/.cache/pypoetry/virtualenvs/consulates-YiFvjhQe-py3.10/lib/python3.10/site-packages/camelot/utils.py;342'\n",
      "\n",
      "During handling of the above exception, another exception occurred:\n",
      "\n",
      "Traceback (most recent call last):\n",
      "  File \"/home/runner/.cache/pypoetry/virtualenvs/consulates-YiFvjhQe-py3.10/lib/python3.10/site-packages/tornado/ioloop.py\", line 905, in _run\n",
      "    return self.callback()\n",
      "  File \"/home/runner/.cache/pypoetry/virtualenvs/consulates-YiFvjhQe-py3.10/lib/python3.10/site-packages/distributed/worker.py\", line 3623, in trigger_profile\n",
      "    state = profile.process(\n",
      "  File \"/home/runner/.cache/pypoetry/virtualenvs/consulates-YiFvjhQe-py3.10/lib/python3.10/site-packages/distributed/profile.py\", line 119, in process\n",
      "    \"description\": info_frame(frame),\n",
      "  File \"/home/runner/.cache/pypoetry/virtualenvs/consulates-YiFvjhQe-py3.10/lib/python3.10/site-packages/distributed/profile.py\", line 72, in info_frame\n",
      "    line = linecache.getline(co.co_filename, frame.f_lineno, frame.f_globals).lstrip()\n",
      "  File \"/opt/hostedtoolcache/Python/3.10.0/x64/lib/python3.10/linecache.py\", line 31, in getline\n",
      "    if 1 <= lineno <= len(lines):\n",
      "TypeError: '<=' not supported between instances of 'int' and 'NoneType'\n",
      "tornado.application - ERROR - Exception in callback <bound method Worker.trigger_profile of <Worker: 'inproc://10.1.0.125/4597/4', 0, Status.running, stored: 3114, running: 1/1, ready: 3891, comm: 0, waiting: 0>>\n",
      "Traceback (most recent call last):\n",
      "  File \"/home/runner/.cache/pypoetry/virtualenvs/consulates-YiFvjhQe-py3.10/lib/python3.10/site-packages/distributed/profile.py\", line 115, in process\n",
      "    d = state[\"children\"][ident]\n",
      "KeyError: 'choplist;/home/runner/.cache/pypoetry/virtualenvs/consulates-YiFvjhQe-py3.10/lib/python3.10/site-packages/pdfminer/utils.py;331'\n",
      "\n",
      "During handling of the above exception, another exception occurred:\n",
      "\n",
      "Traceback (most recent call last):\n",
      "  File \"/home/runner/.cache/pypoetry/virtualenvs/consulates-YiFvjhQe-py3.10/lib/python3.10/site-packages/tornado/ioloop.py\", line 905, in _run\n",
      "    return self.callback()\n",
      "  File \"/home/runner/.cache/pypoetry/virtualenvs/consulates-YiFvjhQe-py3.10/lib/python3.10/site-packages/distributed/worker.py\", line 3623, in trigger_profile\n",
      "    state = profile.process(\n",
      "  File \"/home/runner/.cache/pypoetry/virtualenvs/consulates-YiFvjhQe-py3.10/lib/python3.10/site-packages/distributed/profile.py\", line 119, in process\n",
      "    \"description\": info_frame(frame),\n",
      "  File \"/home/runner/.cache/pypoetry/virtualenvs/consulates-YiFvjhQe-py3.10/lib/python3.10/site-packages/distributed/profile.py\", line 72, in info_frame\n",
      "    line = linecache.getline(co.co_filename, frame.f_lineno, frame.f_globals).lstrip()\n",
      "  File \"/opt/hostedtoolcache/Python/3.10.0/x64/lib/python3.10/linecache.py\", line 31, in getline\n",
      "    if 1 <= lineno <= len(lines):\n",
      "TypeError: '<=' not supported between instances of 'int' and 'NoneType'\n",
      "tornado.application - ERROR - Exception in callback <bound method Worker.trigger_profile of <Worker: 'inproc://10.1.0.125/4597/4', 0, Status.running, stored: 3402, running: 1/1, ready: 3603, comm: 0, waiting: 0>>\n",
      "Traceback (most recent call last):\n",
      "  File \"/home/runner/.cache/pypoetry/virtualenvs/consulates-YiFvjhQe-py3.10/lib/python3.10/site-packages/distributed/profile.py\", line 115, in process\n",
      "    d = state[\"children\"][ident]\n",
      "KeyError: 'text_in_bbox;/home/runner/.cache/pypoetry/virtualenvs/consulates-YiFvjhQe-py3.10/lib/python3.10/site-packages/camelot/utils.py;342'\n",
      "\n",
      "During handling of the above exception, another exception occurred:\n",
      "\n",
      "Traceback (most recent call last):\n",
      "  File \"/home/runner/.cache/pypoetry/virtualenvs/consulates-YiFvjhQe-py3.10/lib/python3.10/site-packages/tornado/ioloop.py\", line 905, in _run\n",
      "    return self.callback()\n",
      "  File \"/home/runner/.cache/pypoetry/virtualenvs/consulates-YiFvjhQe-py3.10/lib/python3.10/site-packages/distributed/worker.py\", line 3623, in trigger_profile\n",
      "    state = profile.process(\n",
      "  File \"/home/runner/.cache/pypoetry/virtualenvs/consulates-YiFvjhQe-py3.10/lib/python3.10/site-packages/distributed/profile.py\", line 119, in process\n",
      "    \"description\": info_frame(frame),\n",
      "  File \"/home/runner/.cache/pypoetry/virtualenvs/consulates-YiFvjhQe-py3.10/lib/python3.10/site-packages/distributed/profile.py\", line 72, in info_frame\n",
      "    line = linecache.getline(co.co_filename, frame.f_lineno, frame.f_globals).lstrip()\n",
      "  File \"/opt/hostedtoolcache/Python/3.10.0/x64/lib/python3.10/linecache.py\", line 31, in getline\n",
      "    if 1 <= lineno <= len(lines):\n",
      "TypeError: '<=' not supported between instances of 'int' and 'NoneType'\n",
      "tornado.application - ERROR - Exception in callback <bound method Worker.trigger_profile of <Worker: 'inproc://10.1.0.125/4597/4', 0, Status.running, stored: 4495, running: 1/1, ready: 2510, comm: 0, waiting: 0>>\n",
      "Traceback (most recent call last):\n",
      "  File \"/home/runner/.cache/pypoetry/virtualenvs/consulates-YiFvjhQe-py3.10/lib/python3.10/site-packages/distributed/profile.py\", line 115, in process\n",
      "    d = state[\"children\"][ident]\n",
      "KeyError: 'text_in_bbox;/home/runner/.cache/pypoetry/virtualenvs/consulates-YiFvjhQe-py3.10/lib/python3.10/site-packages/camelot/utils.py;342'\n",
      "\n",
      "During handling of the above exception, another exception occurred:\n",
      "\n",
      "Traceback (most recent call last):\n",
      "  File \"/home/runner/.cache/pypoetry/virtualenvs/consulates-YiFvjhQe-py3.10/lib/python3.10/site-packages/tornado/ioloop.py\", line 905, in _run\n",
      "    return self.callback()\n",
      "  File \"/home/runner/.cache/pypoetry/virtualenvs/consulates-YiFvjhQe-py3.10/lib/python3.10/site-packages/distributed/worker.py\", line 3623, in trigger_profile\n",
      "    state = profile.process(\n",
      "  File \"/home/runner/.cache/pypoetry/virtualenvs/consulates-YiFvjhQe-py3.10/lib/python3.10/site-packages/distributed/profile.py\", line 119, in process\n",
      "    \"description\": info_frame(frame),\n",
      "  File \"/home/runner/.cache/pypoetry/virtualenvs/consulates-YiFvjhQe-py3.10/lib/python3.10/site-packages/distributed/profile.py\", line 72, in info_frame\n",
      "    line = linecache.getline(co.co_filename, frame.f_lineno, frame.f_globals).lstrip()\n",
      "  File \"/opt/hostedtoolcache/Python/3.10.0/x64/lib/python3.10/linecache.py\", line 31, in getline\n",
      "    if 1 <= lineno <= len(lines):\n",
      "TypeError: '<=' not supported between instances of 'int' and 'NoneType'\n",
      "tornado.application - ERROR - Exception in callback <bound method Worker.trigger_profile of <Worker: 'inproc://10.1.0.125/4597/4', 0, Status.running, stored: 4614, running: 1/1, ready: 2391, comm: 0, waiting: 0>>\n",
      "Traceback (most recent call last):\n",
      "  File \"/home/runner/.cache/pypoetry/virtualenvs/consulates-YiFvjhQe-py3.10/lib/python3.10/site-packages/distributed/profile.py\", line 115, in process\n",
      "    d = state[\"children\"][ident]\n",
      "KeyError: '_reduce_index;/home/runner/.cache/pypoetry/virtualenvs/consulates-YiFvjhQe-py3.10/lib/python3.10/site-packages/camelot/parsers/lattice.py;164'\n",
      "\n",
      "During handling of the above exception, another exception occurred:\n",
      "\n",
      "Traceback (most recent call last):\n",
      "  File \"/home/runner/.cache/pypoetry/virtualenvs/consulates-YiFvjhQe-py3.10/lib/python3.10/site-packages/tornado/ioloop.py\", line 905, in _run\n",
      "    return self.callback()\n",
      "  File \"/home/runner/.cache/pypoetry/virtualenvs/consulates-YiFvjhQe-py3.10/lib/python3.10/site-packages/distributed/worker.py\", line 3623, in trigger_profile\n",
      "    state = profile.process(\n",
      "  File \"/home/runner/.cache/pypoetry/virtualenvs/consulates-YiFvjhQe-py3.10/lib/python3.10/site-packages/distributed/profile.py\", line 119, in process\n",
      "    \"description\": info_frame(frame),\n",
      "  File \"/home/runner/.cache/pypoetry/virtualenvs/consulates-YiFvjhQe-py3.10/lib/python3.10/site-packages/distributed/profile.py\", line 72, in info_frame\n",
      "    line = linecache.getline(co.co_filename, frame.f_lineno, frame.f_globals).lstrip()\n",
      "  File \"/opt/hostedtoolcache/Python/3.10.0/x64/lib/python3.10/linecache.py\", line 31, in getline\n",
      "    if 1 <= lineno <= len(lines):\n",
      "TypeError: '<=' not supported between instances of 'int' and 'NoneType'\n",
      "tornado.application - ERROR - Exception in callback <bound method Worker.trigger_profile of <Worker: 'inproc://10.1.0.125/4597/4', 0, Status.running, stored: 4665, running: 1/1, ready: 2340, comm: 0, waiting: 0>>\n",
      "Traceback (most recent call last):\n",
      "  File \"/home/runner/.cache/pypoetry/virtualenvs/consulates-YiFvjhQe-py3.10/lib/python3.10/site-packages/distributed/profile.py\", line 115, in process\n",
      "    d = state[\"children\"][ident]\n",
      "KeyError: 'text_in_bbox;/home/runner/.cache/pypoetry/virtualenvs/consulates-YiFvjhQe-py3.10/lib/python3.10/site-packages/camelot/utils.py;342'\n",
      "\n",
      "During handling of the above exception, another exception occurred:\n",
      "\n",
      "Traceback (most recent call last):\n",
      "  File \"/home/runner/.cache/pypoetry/virtualenvs/consulates-YiFvjhQe-py3.10/lib/python3.10/site-packages/tornado/ioloop.py\", line 905, in _run\n",
      "    return self.callback()\n",
      "  File \"/home/runner/.cache/pypoetry/virtualenvs/consulates-YiFvjhQe-py3.10/lib/python3.10/site-packages/distributed/worker.py\", line 3623, in trigger_profile\n",
      "    state = profile.process(\n",
      "  File \"/home/runner/.cache/pypoetry/virtualenvs/consulates-YiFvjhQe-py3.10/lib/python3.10/site-packages/distributed/profile.py\", line 119, in process\n",
      "    \"description\": info_frame(frame),\n",
      "  File \"/home/runner/.cache/pypoetry/virtualenvs/consulates-YiFvjhQe-py3.10/lib/python3.10/site-packages/distributed/profile.py\", line 72, in info_frame\n",
      "    line = linecache.getline(co.co_filename, frame.f_lineno, frame.f_globals).lstrip()\n",
      "  File \"/opt/hostedtoolcache/Python/3.10.0/x64/lib/python3.10/linecache.py\", line 31, in getline\n",
      "    if 1 <= lineno <= len(lines):\n",
      "TypeError: '<=' not supported between instances of 'int' and 'NoneType'\n",
      "tornado.application - ERROR - Exception in callback <bound method Worker.trigger_profile of <Worker: 'inproc://10.1.0.125/4597/4', 0, Status.running, stored: 5199, running: 1/1, ready: 1806, comm: 0, waiting: 0>>\n",
      "Traceback (most recent call last):\n",
      "  File \"/home/runner/.cache/pypoetry/virtualenvs/consulates-YiFvjhQe-py3.10/lib/python3.10/site-packages/distributed/profile.py\", line 115, in process\n",
      "    d = state[\"children\"][ident]\n",
      "KeyError: 'choplist;/home/runner/.cache/pypoetry/virtualenvs/consulates-YiFvjhQe-py3.10/lib/python3.10/site-packages/pdfminer/utils.py;331'\n",
      "\n",
      "During handling of the above exception, another exception occurred:\n",
      "\n",
      "Traceback (most recent call last):\n",
      "  File \"/home/runner/.cache/pypoetry/virtualenvs/consulates-YiFvjhQe-py3.10/lib/python3.10/site-packages/tornado/ioloop.py\", line 905, in _run\n",
      "    return self.callback()\n",
      "  File \"/home/runner/.cache/pypoetry/virtualenvs/consulates-YiFvjhQe-py3.10/lib/python3.10/site-packages/distributed/worker.py\", line 3623, in trigger_profile\n",
      "    state = profile.process(\n",
      "  File \"/home/runner/.cache/pypoetry/virtualenvs/consulates-YiFvjhQe-py3.10/lib/python3.10/site-packages/distributed/profile.py\", line 119, in process\n",
      "    \"description\": info_frame(frame),\n",
      "  File \"/home/runner/.cache/pypoetry/virtualenvs/consulates-YiFvjhQe-py3.10/lib/python3.10/site-packages/distributed/profile.py\", line 72, in info_frame\n",
      "    line = linecache.getline(co.co_filename, frame.f_lineno, frame.f_globals).lstrip()\n",
      "  File \"/opt/hostedtoolcache/Python/3.10.0/x64/lib/python3.10/linecache.py\", line 31, in getline\n",
      "    if 1 <= lineno <= len(lines):\n",
      "TypeError: '<=' not supported between instances of 'int' and 'NoneType'\n",
      "tornado.application - ERROR - Exception in callback <bound method Worker.trigger_profile of <Worker: 'inproc://10.1.0.125/4597/4', 0, Status.running, stored: 5573, running: 1/1, ready: 1432, comm: 0, waiting: 0>>\n",
      "Traceback (most recent call last):\n",
      "  File \"/home/runner/.cache/pypoetry/virtualenvs/consulates-YiFvjhQe-py3.10/lib/python3.10/site-packages/distributed/profile.py\", line 115, in process\n",
      "    d = state[\"children\"][ident]\n",
      "KeyError: 'group_textlines;/home/runner/.cache/pypoetry/virtualenvs/consulates-YiFvjhQe-py3.10/lib/python3.10/site-packages/pdfminer/layout.py;788'\n",
      "\n",
      "During handling of the above exception, another exception occurred:\n",
      "\n",
      "Traceback (most recent call last):\n",
      "  File \"/home/runner/.cache/pypoetry/virtualenvs/consulates-YiFvjhQe-py3.10/lib/python3.10/site-packages/tornado/ioloop.py\", line 905, in _run\n",
      "    return self.callback()\n",
      "  File \"/home/runner/.cache/pypoetry/virtualenvs/consulates-YiFvjhQe-py3.10/lib/python3.10/site-packages/distributed/worker.py\", line 3623, in trigger_profile\n",
      "    state = profile.process(\n",
      "  File \"/home/runner/.cache/pypoetry/virtualenvs/consulates-YiFvjhQe-py3.10/lib/python3.10/site-packages/distributed/profile.py\", line 119, in process\n",
      "    \"description\": info_frame(frame),\n",
      "  File \"/home/runner/.cache/pypoetry/virtualenvs/consulates-YiFvjhQe-py3.10/lib/python3.10/site-packages/distributed/profile.py\", line 72, in info_frame\n",
      "    line = linecache.getline(co.co_filename, frame.f_lineno, frame.f_globals).lstrip()\n",
      "  File \"/opt/hostedtoolcache/Python/3.10.0/x64/lib/python3.10/linecache.py\", line 31, in getline\n",
      "    if 1 <= lineno <= len(lines):\n",
      "TypeError: '<=' not supported between instances of 'int' and 'NoneType'\n"
     ]
    }
   ],
   "source": [
    "import camelot\n",
    "import pandas as pd\n",
    "import PyPDF2\n",
    "\n",
    "client.restart()\n",
    "\n",
    "\n",
    "def process_path(path: Path, page_no: int):\n",
    "    parsed = camelot.read_pdf(str(path), pages=str(page_no))\n",
    "    if len(parsed) == 0:\n",
    "        return\n",
    "    table = parsed[0].df\n",
    "    table.columns = [\"Post\", \"Visa Class\", \"Issuances\"]\n",
    "    table[\"Issuances\"] = pd.to_numeric(\n",
    "        table[\"Issuances\"].replace(r\"\\D\", \"\", regex=True),\n",
    "        errors=\"coerce\",\n",
    "        downcast=\"integer\",\n",
    "    )\n",
    "    table = table.replace(\"\", pd.NA).dropna().reset_index(drop=True)\n",
    "    table[\"Post\"] = pd.Series(table[\"Post\"], dtype=\"string\")\n",
    "    table[\"Visa Class\"] = pd.Series(table[\"Visa Class\"], dtype=\"string\")\n",
    "    table[\"Month\"] = pd.Timestamp(\n",
    "        arrow.get(\n",
    "            path.name.replace(\"NIV-\", \"\").replace(\"IV-\", \"\").replace(\".pdf\", \"\")\n",
    "        ).format(\"YYYYMMDD\")\n",
    "    )\n",
    "    table[\"Issuances\"] = table[\"Issuances\"].astype(\"uint16\")\n",
    "    return table\n",
    "\n",
    "\n",
    "futures = []\n",
    "for path in PDFS_DIR.glob(\"*.pdf\"):\n",
    "    page_count = PyPDF2.PdfFileReader(path.open(\"rb\")).getNumPages()\n",
    "    for page_no in range(1, page_count + 1):\n",
    "        futures.append(client.submit(process_path, path, page_no))\n",
    "\n",
    "results = [result for result in client.gather(futures) if result is not None]\n",
    "all_months = pd.concat(results).sort_values(\"Month\").reset_index(drop=True)"
   ]
  },
  {
   "cell_type": "code",
   "execution_count": 6,
   "metadata": {
    "execution": {
     "iopub.execute_input": "2021-11-29T01:25:50.857146Z",
     "iopub.status.busy": "2021-11-29T01:25:50.855444Z",
     "iopub.status.idle": "2021-11-29T01:25:50.881141Z",
     "shell.execute_reply": "2021-11-29T01:25:50.880741Z"
    }
   },
   "outputs": [
    {
     "data": {
      "text/html": [
       "<div class=\"jp-RenderedHTMLCommon jp-RenderedHTML jp-mod-trusted jp-OutputArea-output\">\n",
       "    <div style=\"width: 24px; height: 24px; background-color: #e1e1e1; border: 3px solid #9D9D9D; border-radius: 5px; position: absolute;\">\n",
       "    </div>\n",
       "    <div style=\"margin-left: 48px;\">\n",
       "        <h3 style=\"margin-bottom: 0px; margin-top: 0px;\">LocalCluster</h3>\n",
       "        <p style=\"color: #9D9D9D; margin-bottom: 0px;\">2752f26e</p>\n",
       "        <table style=\"width: 100%; text-align: left;\">\n",
       "            <tr>\n",
       "                <td style=\"text-align: left;\">\n",
       "                    <strong>Dashboard:</strong> <a href=\"http://10.1.0.125:8787/status\" target=\"_blank\">http://10.1.0.125:8787/status</a>\n",
       "                </td>\n",
       "                <td style=\"text-align: left;\">\n",
       "                    <strong>Workers:</strong> 1\n",
       "                </td>\n",
       "            </tr>\n",
       "            <tr>\n",
       "                <td style=\"text-align: left;\">\n",
       "                    <strong>Total threads:</strong> 1\n",
       "                </td>\n",
       "                <td style=\"text-align: left;\">\n",
       "                    <strong>Total memory:</strong> 6.79 GiB\n",
       "                </td>\n",
       "            </tr>\n",
       "            \n",
       "            <tr>\n",
       "    <td style=\"text-align: left;\"><strong>Status:</strong> running</td>\n",
       "    <td style=\"text-align: left;\"><strong>Using processes:</strong> False</td>\n",
       "</tr>\n",
       "\n",
       "            \n",
       "        </table>\n",
       "\n",
       "        <details>\n",
       "            <summary style=\"margin-bottom: 20px;\">\n",
       "                <h3 style=\"display: inline;\">Scheduler Info</h3>\n",
       "            </summary>\n",
       "\n",
       "            <div style=\"\">\n",
       "    <div>\n",
       "        <div style=\"width: 24px; height: 24px; background-color: #FFF7E5; border: 3px solid #FF6132; border-radius: 5px; position: absolute;\"> </div>\n",
       "        <div style=\"margin-left: 48px;\">\n",
       "            <h3 style=\"margin-bottom: 0px;\">Scheduler</h3>\n",
       "            <p style=\"color: #9D9D9D; margin-bottom: 0px;\">Scheduler-38fb1d91-cc58-47ad-b3e1-4daf10782162</p>\n",
       "            <table style=\"width: 100%; text-align: left;\">\n",
       "                <tr>\n",
       "                    <td style=\"text-align: left;\">\n",
       "                        <strong>Comm:</strong> inproc://10.1.0.125/4597/1\n",
       "                    </td>\n",
       "                    <td style=\"text-align: left;\">\n",
       "                        <strong>Workers:</strong> 1\n",
       "                    </td>\n",
       "                </tr>\n",
       "                <tr>\n",
       "                    <td style=\"text-align: left;\">\n",
       "                        <strong>Dashboard:</strong> <a href=\"http://10.1.0.125:8787/status\" target=\"_blank\">http://10.1.0.125:8787/status</a>\n",
       "                    </td>\n",
       "                    <td style=\"text-align: left;\">\n",
       "                        <strong>Total threads:</strong> 1\n",
       "                    </td>\n",
       "                </tr>\n",
       "                <tr>\n",
       "                    <td style=\"text-align: left;\">\n",
       "                        <strong>Started:</strong> 1 hour ago\n",
       "                    </td>\n",
       "                    <td style=\"text-align: left;\">\n",
       "                        <strong>Total memory:</strong> 6.79 GiB\n",
       "                    </td>\n",
       "                </tr>\n",
       "            </table>\n",
       "        </div>\n",
       "    </div>\n",
       "\n",
       "    <details style=\"margin-left: 48px;\">\n",
       "        <summary style=\"margin-bottom: 20px;\">\n",
       "            <h3 style=\"display: inline;\">Workers</h3>\n",
       "        </summary>\n",
       "\n",
       "        \n",
       "        <div style=\"margin-bottom: 20px;\">\n",
       "            <div style=\"width: 24px; height: 24px; background-color: #DBF5FF; border: 3px solid #4CC9FF; border-radius: 5px; position: absolute;\"> </div>\n",
       "            <div style=\"margin-left: 48px;\">\n",
       "            <details>\n",
       "                <summary>\n",
       "                    <h4 style=\"margin-bottom: 0px; display: inline;\">Worker: 0</h4>\n",
       "                </summary>\n",
       "                <table style=\"width: 100%; text-align: left;\">\n",
       "                    <tr>\n",
       "                        <td style=\"text-align: left;\">\n",
       "                            <strong>Comm: </strong> inproc://10.1.0.125/4597/4\n",
       "                        </td>\n",
       "                        <td style=\"text-align: left;\">\n",
       "                            <strong>Total threads: </strong> 1\n",
       "                        </td>\n",
       "                    </tr>\n",
       "                    <tr>\n",
       "                        <td style=\"text-align: left;\">\n",
       "                            <strong>Dashboard: </strong> <a href=\"http://10.1.0.125:44651/status\" target=\"_blank\">http://10.1.0.125:44651/status</a>\n",
       "                        </td>\n",
       "                        <td style=\"text-align: left;\">\n",
       "                            <strong>Memory: </strong> 6.79 GiB\n",
       "                        </td>\n",
       "                    </tr>\n",
       "                    <tr>\n",
       "                        <td style=\"text-align: left;\">\n",
       "                            <strong>Nanny: </strong> None\n",
       "                        </td>\n",
       "                        <td style=\"text-align: left;\"></td>\n",
       "                    </tr>\n",
       "                    <tr>\n",
       "                        <td colspan=\"2\" style=\"text-align: left;\">\n",
       "                            <strong>Local directory: </strong> /home/runner/work/visawhen/visawhen/data/consulates/dask-worker-space/worker-od3hde07\n",
       "                        </td>\n",
       "                    </tr>\n",
       "\n",
       "                    \n",
       "\n",
       "                    \n",
       "\n",
       "                </table>\n",
       "            </details>\n",
       "            </div>\n",
       "        </div>\n",
       "        \n",
       "\n",
       "    </details>\n",
       "</div>\n",
       "\n",
       "        </details>\n",
       "    </div>\n",
       "</div>"
      ],
      "text/plain": [
       "LocalCluster(2752f26e, 'inproc://10.1.0.125/4597/1', workers=1, threads=1, memory=6.79 GiB)"
      ]
     },
     "metadata": {},
     "output_type": "display_data"
    }
   ],
   "source": [
    "# cluster.scale(0)\n",
    "cluster"
   ]
  },
  {
   "cell_type": "code",
   "execution_count": 7,
   "metadata": {
    "execution": {
     "iopub.execute_input": "2021-11-29T01:25:50.885134Z",
     "iopub.status.busy": "2021-11-29T01:25:50.884420Z",
     "iopub.status.idle": "2021-11-29T01:25:50.899834Z",
     "shell.execute_reply": "2021-11-29T01:25:50.899471Z"
    }
   },
   "outputs": [
    {
     "data": {
      "text/html": [
       "<div>\n",
       "<style scoped>\n",
       "    .dataframe tbody tr th:only-of-type {\n",
       "        vertical-align: middle;\n",
       "    }\n",
       "\n",
       "    .dataframe tbody tr th {\n",
       "        vertical-align: top;\n",
       "    }\n",
       "\n",
       "    .dataframe thead th {\n",
       "        text-align: right;\n",
       "    }\n",
       "</style>\n",
       "<table border=\"1\" class=\"dataframe\">\n",
       "  <thead>\n",
       "    <tr style=\"text-align: right;\">\n",
       "      <th></th>\n",
       "      <th>Post</th>\n",
       "      <th>Visa Class</th>\n",
       "      <th>Issuances</th>\n",
       "      <th>Month</th>\n",
       "    </tr>\n",
       "  </thead>\n",
       "  <tbody>\n",
       "    <tr>\n",
       "      <th>56</th>\n",
       "      <td>Colombo</td>\n",
       "      <td>B1/B2</td>\n",
       "      <td>1297</td>\n",
       "      <td>2017-03-01</td>\n",
       "    </tr>\n",
       "    <tr>\n",
       "      <th>103</th>\n",
       "      <td>Doha</td>\n",
       "      <td>B1/B2</td>\n",
       "      <td>1221</td>\n",
       "      <td>2017-03-01</td>\n",
       "    </tr>\n",
       "    <tr>\n",
       "      <th>151</th>\n",
       "      <td>Dhahran</td>\n",
       "      <td>B1/B2</td>\n",
       "      <td>1406</td>\n",
       "      <td>2017-03-01</td>\n",
       "    </tr>\n",
       "    <tr>\n",
       "      <th>169</th>\n",
       "      <td>Casablanca</td>\n",
       "      <td>B1/B2</td>\n",
       "      <td>1048</td>\n",
       "      <td>2017-03-01</td>\n",
       "    </tr>\n",
       "    <tr>\n",
       "      <th>197</th>\n",
       "      <td>Chengdu</td>\n",
       "      <td>B1/B2</td>\n",
       "      <td>13972</td>\n",
       "      <td>2017-03-01</td>\n",
       "    </tr>\n",
       "  </tbody>\n",
       "</table>\n",
       "</div>"
      ],
      "text/plain": [
       "           Post Visa Class  Issuances      Month\n",
       "56      Colombo      B1/B2       1297 2017-03-01\n",
       "103        Doha      B1/B2       1221 2017-03-01\n",
       "151     Dhahran      B1/B2       1406 2017-03-01\n",
       "169  Casablanca      B1/B2       1048 2017-03-01\n",
       "197     Chengdu      B1/B2      13972 2017-03-01"
      ]
     },
     "execution_count": 7,
     "metadata": {},
     "output_type": "execute_result"
    }
   ],
   "source": [
    "all_months[all_months[\"Issuances\"] > 1000].head()"
   ]
  },
  {
   "cell_type": "code",
   "execution_count": 8,
   "metadata": {
    "execution": {
     "iopub.execute_input": "2021-11-29T01:25:50.903331Z",
     "iopub.status.busy": "2021-11-29T01:25:50.902640Z",
     "iopub.status.idle": "2021-11-29T01:25:51.021772Z",
     "shell.execute_reply": "2021-11-29T01:25:51.021385Z"
    }
   },
   "outputs": [],
   "source": [
    "all_months.to_pickle(\"all_months.pkl\")"
   ]
  },
  {
   "cell_type": "code",
   "execution_count": 9,
   "metadata": {
    "execution": {
     "iopub.execute_input": "2021-11-29T01:25:51.050398Z",
     "iopub.status.busy": "2021-11-29T01:25:51.049956Z",
     "iopub.status.idle": "2021-11-29T01:25:51.132052Z",
     "shell.execute_reply": "2021-11-29T01:25:51.132398Z"
    }
   },
   "outputs": [
    {
     "data": {
      "text/html": [
       "<div>\n",
       "<style scoped>\n",
       "    .dataframe tbody tr th:only-of-type {\n",
       "        vertical-align: middle;\n",
       "    }\n",
       "\n",
       "    .dataframe tbody tr th {\n",
       "        vertical-align: top;\n",
       "    }\n",
       "\n",
       "    .dataframe thead th {\n",
       "        text-align: right;\n",
       "    }\n",
       "</style>\n",
       "<table border=\"1\" class=\"dataframe\">\n",
       "  <thead>\n",
       "    <tr style=\"text-align: right;\">\n",
       "      <th></th>\n",
       "      <th>Issuances</th>\n",
       "    </tr>\n",
       "    <tr>\n",
       "      <th>Month</th>\n",
       "      <th></th>\n",
       "    </tr>\n",
       "  </thead>\n",
       "  <tbody>\n",
       "    <tr>\n",
       "      <th>2017-03-01</th>\n",
       "      <td>3</td>\n",
       "    </tr>\n",
       "    <tr>\n",
       "      <th>2017-04-01</th>\n",
       "      <td>2</td>\n",
       "    </tr>\n",
       "    <tr>\n",
       "      <th>2017-05-01</th>\n",
       "      <td>6</td>\n",
       "    </tr>\n",
       "    <tr>\n",
       "      <th>2017-06-01</th>\n",
       "      <td>1</td>\n",
       "    </tr>\n",
       "    <tr>\n",
       "      <th>2017-07-01</th>\n",
       "      <td>1</td>\n",
       "    </tr>\n",
       "    <tr>\n",
       "      <th>2017-08-01</th>\n",
       "      <td>3</td>\n",
       "    </tr>\n",
       "    <tr>\n",
       "      <th>2017-09-01</th>\n",
       "      <td>2</td>\n",
       "    </tr>\n",
       "    <tr>\n",
       "      <th>2017-10-01</th>\n",
       "      <td>3</td>\n",
       "    </tr>\n",
       "    <tr>\n",
       "      <th>2017-11-01</th>\n",
       "      <td>3</td>\n",
       "    </tr>\n",
       "    <tr>\n",
       "      <th>2017-12-01</th>\n",
       "      <td>4</td>\n",
       "    </tr>\n",
       "    <tr>\n",
       "      <th>2018-01-01</th>\n",
       "      <td>8</td>\n",
       "    </tr>\n",
       "    <tr>\n",
       "      <th>2018-02-01</th>\n",
       "      <td>1</td>\n",
       "    </tr>\n",
       "    <tr>\n",
       "      <th>2018-03-01</th>\n",
       "      <td>4</td>\n",
       "    </tr>\n",
       "    <tr>\n",
       "      <th>2018-04-01</th>\n",
       "      <td>5</td>\n",
       "    </tr>\n",
       "    <tr>\n",
       "      <th>2018-05-01</th>\n",
       "      <td>8</td>\n",
       "    </tr>\n",
       "    <tr>\n",
       "      <th>2018-06-01</th>\n",
       "      <td>5</td>\n",
       "    </tr>\n",
       "    <tr>\n",
       "      <th>2018-07-01</th>\n",
       "      <td>4</td>\n",
       "    </tr>\n",
       "    <tr>\n",
       "      <th>2018-08-01</th>\n",
       "      <td>7</td>\n",
       "    </tr>\n",
       "    <tr>\n",
       "      <th>2018-09-01</th>\n",
       "      <td>2</td>\n",
       "    </tr>\n",
       "    <tr>\n",
       "      <th>2018-10-01</th>\n",
       "      <td>4</td>\n",
       "    </tr>\n",
       "    <tr>\n",
       "      <th>2018-11-01</th>\n",
       "      <td>4</td>\n",
       "    </tr>\n",
       "    <tr>\n",
       "      <th>2018-12-01</th>\n",
       "      <td>5</td>\n",
       "    </tr>\n",
       "    <tr>\n",
       "      <th>2019-01-01</th>\n",
       "      <td>5</td>\n",
       "    </tr>\n",
       "    <tr>\n",
       "      <th>2019-02-01</th>\n",
       "      <td>4</td>\n",
       "    </tr>\n",
       "    <tr>\n",
       "      <th>2019-10-01</th>\n",
       "      <td>2</td>\n",
       "    </tr>\n",
       "    <tr>\n",
       "      <th>2019-11-01</th>\n",
       "      <td>1</td>\n",
       "    </tr>\n",
       "    <tr>\n",
       "      <th>2019-12-01</th>\n",
       "      <td>4</td>\n",
       "    </tr>\n",
       "    <tr>\n",
       "      <th>2020-01-01</th>\n",
       "      <td>2</td>\n",
       "    </tr>\n",
       "    <tr>\n",
       "      <th>2020-02-01</th>\n",
       "      <td>2</td>\n",
       "    </tr>\n",
       "    <tr>\n",
       "      <th>2020-03-01</th>\n",
       "      <td>1</td>\n",
       "    </tr>\n",
       "    <tr>\n",
       "      <th>2020-04-01</th>\n",
       "      <td>1</td>\n",
       "    </tr>\n",
       "    <tr>\n",
       "      <th>2020-05-01</th>\n",
       "      <td>1</td>\n",
       "    </tr>\n",
       "    <tr>\n",
       "      <th>2020-06-01</th>\n",
       "      <td>1</td>\n",
       "    </tr>\n",
       "    <tr>\n",
       "      <th>2020-07-01</th>\n",
       "      <td>4</td>\n",
       "    </tr>\n",
       "    <tr>\n",
       "      <th>2020-08-01</th>\n",
       "      <td>3</td>\n",
       "    </tr>\n",
       "    <tr>\n",
       "      <th>2020-09-01</th>\n",
       "      <td>9</td>\n",
       "    </tr>\n",
       "    <tr>\n",
       "      <th>2020-10-01</th>\n",
       "      <td>10</td>\n",
       "    </tr>\n",
       "    <tr>\n",
       "      <th>2020-11-01</th>\n",
       "      <td>9</td>\n",
       "    </tr>\n",
       "    <tr>\n",
       "      <th>2020-12-01</th>\n",
       "      <td>4</td>\n",
       "    </tr>\n",
       "    <tr>\n",
       "      <th>2021-01-01</th>\n",
       "      <td>3</td>\n",
       "    </tr>\n",
       "    <tr>\n",
       "      <th>2021-02-01</th>\n",
       "      <td>6</td>\n",
       "    </tr>\n",
       "    <tr>\n",
       "      <th>2021-03-01</th>\n",
       "      <td>8</td>\n",
       "    </tr>\n",
       "    <tr>\n",
       "      <th>2021-04-01</th>\n",
       "      <td>4</td>\n",
       "    </tr>\n",
       "    <tr>\n",
       "      <th>2021-05-01</th>\n",
       "      <td>2</td>\n",
       "    </tr>\n",
       "    <tr>\n",
       "      <th>2021-06-01</th>\n",
       "      <td>3</td>\n",
       "    </tr>\n",
       "    <tr>\n",
       "      <th>2021-07-01</th>\n",
       "      <td>2</td>\n",
       "    </tr>\n",
       "    <tr>\n",
       "      <th>2021-08-01</th>\n",
       "      <td>2</td>\n",
       "    </tr>\n",
       "    <tr>\n",
       "      <th>2021-09-01</th>\n",
       "      <td>2</td>\n",
       "    </tr>\n",
       "  </tbody>\n",
       "</table>\n",
       "</div>"
      ],
      "text/plain": [
       "            Issuances\n",
       "Month                \n",
       "2017-03-01          3\n",
       "2017-04-01          2\n",
       "2017-05-01          6\n",
       "2017-06-01          1\n",
       "2017-07-01          1\n",
       "2017-08-01          3\n",
       "2017-09-01          2\n",
       "2017-10-01          3\n",
       "2017-11-01          3\n",
       "2017-12-01          4\n",
       "2018-01-01          8\n",
       "2018-02-01          1\n",
       "2018-03-01          4\n",
       "2018-04-01          5\n",
       "2018-05-01          8\n",
       "2018-06-01          5\n",
       "2018-07-01          4\n",
       "2018-08-01          7\n",
       "2018-09-01          2\n",
       "2018-10-01          4\n",
       "2018-11-01          4\n",
       "2018-12-01          5\n",
       "2019-01-01          5\n",
       "2019-02-01          4\n",
       "2019-10-01          2\n",
       "2019-11-01          1\n",
       "2019-12-01          4\n",
       "2020-01-01          2\n",
       "2020-02-01          2\n",
       "2020-03-01          1\n",
       "2020-04-01          1\n",
       "2020-05-01          1\n",
       "2020-06-01          1\n",
       "2020-07-01          4\n",
       "2020-08-01          3\n",
       "2020-09-01          9\n",
       "2020-10-01         10\n",
       "2020-11-01          9\n",
       "2020-12-01          4\n",
       "2021-01-01          3\n",
       "2021-02-01          6\n",
       "2021-03-01          8\n",
       "2021-04-01          4\n",
       "2021-05-01          2\n",
       "2021-06-01          3\n",
       "2021-07-01          2\n",
       "2021-08-01          2\n",
       "2021-09-01          2"
      ]
     },
     "execution_count": 9,
     "metadata": {},
     "output_type": "execute_result"
    }
   ],
   "source": [
    "bud_marriage = (\n",
    "    all_months.loc[all_months[\"Post\"] == \"Budapest\"]\n",
    "    .loc[all_months[\"Visa Class\"].isin([\"CR1\", \"IR1\"])]\n",
    "    .groupby(by=all_months[\"Month\"])\n",
    "    .sum()\n",
    ")\n",
    "bud_marriage"
   ]
  }
 ],
 "metadata": {
  "interpreter": {
   "hash": "eafa1fee82ed09f6a9110518f76de6de71462f56178c4d5fe4b35b7a9241d2b7"
  },
  "kernelspec": {
   "display_name": "Python 3.9.4 64-bit ('.venv': poetry)",
   "name": "python3"
  },
  "language_info": {
   "codemirror_mode": {
    "name": "ipython",
    "version": 3
   },
   "file_extension": ".py",
   "mimetype": "text/x-python",
   "name": "python",
   "nbconvert_exporter": "python",
   "pygments_lexer": "ipython3",
   "version": "3.10.0"
  }
 },
 "nbformat": 4,
 "nbformat_minor": 2
}
