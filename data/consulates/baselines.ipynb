{
 "cells": [
  {
   "cell_type": "code",
   "execution_count": 1,
   "metadata": {},
   "outputs": [],
   "source": [
    "import pandas as pd\n",
    "import numpy as np\n",
    "import sqlite3\n",
    "conn = sqlite3.connect('consulates.sqlite')"
   ]
  },
  {
   "cell_type": "code",
   "execution_count": null,
   "metadata": {},
   "outputs": [],
   "source": []
  },
  {
   "cell_type": "code",
   "execution_count": 2,
   "metadata": {},
   "outputs": [
    {
     "data": {
      "text/plain": [
       "(DatetimeIndex(['2017-03-01', '2017-04-01', '2017-05-01', '2017-06-01',\n",
       "                '2017-07-01', '2017-08-01', '2017-09-01', '2017-10-01',\n",
       "                '2017-11-01', '2017-12-01', '2018-01-01', '2018-02-01',\n",
       "                '2018-03-01', '2018-04-01', '2018-05-01', '2018-06-01',\n",
       "                '2018-07-01', '2018-08-01', '2018-09-01', '2018-10-01',\n",
       "                '2018-11-01', '2018-12-01', '2019-01-01', '2019-02-01',\n",
       "                '2019-03-01', '2019-04-01', '2019-05-01', '2019-06-01',\n",
       "                '2019-07-01', '2019-08-01', '2019-09-01', '2019-10-01',\n",
       "                '2019-11-01', '2019-12-01', '2020-01-01', '2020-02-01'],\n",
       "               dtype='datetime64[ns]', name='Month', freq='MS'),\n",
       " DatetimeIndex(['2020-03-01', '2020-04-01', '2020-05-01', '2020-06-01',\n",
       "                '2020-07-01', '2020-08-01', '2020-09-01', '2020-10-01',\n",
       "                '2020-11-01', '2020-12-01', '2021-01-01', '2021-02-01',\n",
       "                '2021-03-01', '2021-04-01'],\n",
       "               dtype='datetime64[ns]', name='Month', freq='MS'))"
      ]
     },
     "execution_count": 2,
     "metadata": {},
     "output_type": "execute_result"
    }
   ],
   "source": [
    "df = pd.read_pickle(\"all_months.pkl\")\n",
    "DATA_START_DATE = df[\"Month\"].min()\n",
    "DATA_END_DATE = df[\"Month\"].max()\n",
    "COVID_START_DATE = pd.Timestamp(\"20200301\")\n",
    "NORMAL_MONTHS = pd.date_range(start=DATA_START_DATE, end=COVID_START_DATE, freq=\"MS\", name=\"Month\", closed=\"left\")\n",
    "COVID_MONTHS = pd.date_range(start=COVID_START_DATE, end=DATA_END_DATE, freq=\"MS\", name=\"Month\")\n",
    "NORMAL_MONTHS, COVID_MONTHS"
   ]
  },
  {
   "cell_type": "code",
   "execution_count": 9,
   "metadata": {},
   "outputs": [
    {
     "data": {
      "text/html": [
       "<div>\n",
       "<style scoped>\n",
       "    .dataframe tbody tr th:only-of-type {\n",
       "        vertical-align: middle;\n",
       "    }\n",
       "\n",
       "    .dataframe tbody tr th {\n",
       "        vertical-align: top;\n",
       "    }\n",
       "\n",
       "    .dataframe thead th {\n",
       "        text-align: right;\n",
       "    }\n",
       "</style>\n",
       "<table border=\"1\" class=\"dataframe\">\n",
       "  <thead>\n",
       "    <tr style=\"text-align: right;\">\n",
       "      <th></th>\n",
       "      <th>Post</th>\n",
       "      <th>Visa Class</th>\n",
       "      <th>Month</th>\n",
       "      <th>Issuances</th>\n",
       "    </tr>\n",
       "  </thead>\n",
       "  <tbody>\n",
       "    <tr>\n",
       "      <th>0</th>\n",
       "      <td>Monrovia</td>\n",
       "      <td>G4</td>\n",
       "      <td>2017-03-01</td>\n",
       "      <td>7</td>\n",
       "    </tr>\n",
       "    <tr>\n",
       "      <th>1</th>\n",
       "      <td>Brussels</td>\n",
       "      <td>E11</td>\n",
       "      <td>2017-03-01</td>\n",
       "      <td>1</td>\n",
       "    </tr>\n",
       "    <tr>\n",
       "      <th>2</th>\n",
       "      <td>Brussels</td>\n",
       "      <td>DV3</td>\n",
       "      <td>2017-03-01</td>\n",
       "      <td>1</td>\n",
       "    </tr>\n",
       "    <tr>\n",
       "      <th>3</th>\n",
       "      <td>Brussels</td>\n",
       "      <td>DV2</td>\n",
       "      <td>2017-03-01</td>\n",
       "      <td>1</td>\n",
       "    </tr>\n",
       "    <tr>\n",
       "      <th>4</th>\n",
       "      <td>Brussels</td>\n",
       "      <td>DV1</td>\n",
       "      <td>2017-03-01</td>\n",
       "      <td>2</td>\n",
       "    </tr>\n",
       "    <tr>\n",
       "      <th>...</th>\n",
       "      <td>...</td>\n",
       "      <td>...</td>\n",
       "      <td>...</td>\n",
       "      <td>...</td>\n",
       "    </tr>\n",
       "    <tr>\n",
       "      <th>265787</th>\n",
       "      <td>Kuala Lumpur</td>\n",
       "      <td>H1B</td>\n",
       "      <td>2021-04-01</td>\n",
       "      <td>18</td>\n",
       "    </tr>\n",
       "    <tr>\n",
       "      <th>265788</th>\n",
       "      <td>Kuala Lumpur</td>\n",
       "      <td>H3</td>\n",
       "      <td>2021-04-01</td>\n",
       "      <td>11</td>\n",
       "    </tr>\n",
       "    <tr>\n",
       "      <th>265789</th>\n",
       "      <td>Kuala Lumpur</td>\n",
       "      <td>H4</td>\n",
       "      <td>2021-04-01</td>\n",
       "      <td>17</td>\n",
       "    </tr>\n",
       "    <tr>\n",
       "      <th>265790</th>\n",
       "      <td>Kuala Lumpur</td>\n",
       "      <td>J1</td>\n",
       "      <td>2021-04-01</td>\n",
       "      <td>6</td>\n",
       "    </tr>\n",
       "    <tr>\n",
       "      <th>265791</th>\n",
       "      <td>Kolkata</td>\n",
       "      <td>H4</td>\n",
       "      <td>2021-04-01</td>\n",
       "      <td>302</td>\n",
       "    </tr>\n",
       "  </tbody>\n",
       "</table>\n",
       "<p>265792 rows × 4 columns</p>\n",
       "</div>"
      ],
      "text/plain": [
       "                Post Visa Class      Month  Issuances\n",
       "0           Monrovia         G4 2017-03-01          7\n",
       "1           Brussels        E11 2017-03-01          1\n",
       "2           Brussels        DV3 2017-03-01          1\n",
       "3           Brussels        DV2 2017-03-01          1\n",
       "4           Brussels        DV1 2017-03-01          2\n",
       "...              ...        ...        ...        ...\n",
       "265787  Kuala Lumpur        H1B 2021-04-01         18\n",
       "265788  Kuala Lumpur         H3 2021-04-01         11\n",
       "265789  Kuala Lumpur         H4 2021-04-01         17\n",
       "265790  Kuala Lumpur         J1 2021-04-01          6\n",
       "265791       Kolkata         H4 2021-04-01        302\n",
       "\n",
       "[265792 rows x 4 columns]"
      ]
     },
     "execution_count": 9,
     "metadata": {},
     "output_type": "execute_result"
    }
   ],
   "source": [
    "df[\"Visa Class\"] = df[\"Visa Class\"].replace(\n",
    "    to_replace={\n",
    "        \"B1\": \"B1/B2\",\n",
    "        \"B2\": \"B1/B2\",\n",
    "\n",
    "        \"BBBCC\": \"BBBCC/BBBCV\",\n",
    "        \"BBBCV\": \"BBBCC/BBBCV\",\n",
    "\n",
    "        # conditionals based on https://travel.state.gov/content/dam/visas/Statistics/Immigrant-Statistics/MonthlyIVIssuances/Immigrant%20Visa%20Symbols.pdf\n",
    "        \"CR1\": \"CR1/IR1\",\n",
    "        \"CR2\": \"CR2/IR2\",\n",
    "        \"IR1\": \"CR1/IR1\",\n",
    "        \"IR2\": \"CR2/IR2\",\n",
    "\n",
    "        \"CX1\": \"CX1/FX1\",\n",
    "        \"CX2\": \"CX2/FX2\",\n",
    "        \"CX3\": \"CX3/FX3\",\n",
    "        \"FX1\": \"CX1/FX1\",\n",
    "        \"FX2\": \"CX2/FX2\",\n",
    "        \"FX3\": \"CX3/FX3\",\n",
    "        \"FX1\": \"CX1/FX1\",\n",
    "\n",
    "        \"C21\": \"C21/F21\",\n",
    "        \"C22\": \"C22/F22\",\n",
    "        \"C23\": \"C23/F23\",\n",
    "        \"C24\": \"C24/F24\",\n",
    "        \"C25\": \"C25/F25\",\n",
    "        \"F21\": \"C21/F21\",\n",
    "        \"F22\": \"C22/F22\",\n",
    "        \"F23\": \"C23/F23\",\n",
    "        \"F24\": \"C24/F24\",\n",
    "        \"F25\": \"C25/F25\",\n",
    "\n",
    "        \"C31\": \"C31/F31\",\n",
    "        \"C32\": \"C32/F32\",\n",
    "        \"C33\": \"C33/F33\",\n",
    "        \"F31\": \"C31/F31\",\n",
    "        \"F32\": \"C32/F32\",\n",
    "        \"F33\": \"C33/F33\",\n",
    "\n",
    "        \"CW1\": \"CW1/IW1\",\n",
    "        \"CW2\": \"CW2/IW2\",\n",
    "        \"IW1\": \"CW1/IW1\",\n",
    "        \"IW2\": \"CW2/IW2\",\n",
    "\n",
    "        \"AM\": \"AM1\",\n",
    "        \"BX\": \"BX1\",\n",
    "        \"C2A\": \"C2\",\n",
    "        \"CX\": \"C21/F21\",\n",
    "        \"DV\": \"DV1\",\n",
    "        \"E4\": \"SE1\",\n",
    "        \"EW\": \"EW3\",\n",
    "        \"F2A\": \"C21/F21\",\n",
    "        \"F2B\": \"C24/F24\",\n",
    "        \"F3\": \"C31/F31\",\n",
    "        \"F4\": \"F41\",\n",
    "        \"FX\": \"C21/F21\",\n",
    "        \"I5\": \"I51\",\n",
    "        \"IW\": \"CW1/IW1\",\n",
    "        \"SD\": \"SD1\",\n",
    "        \"SE\": \"SE1\",\n",
    "        \"SI\": \"SI1\",\n",
    "        \"SM\": \"SM1\",\n",
    "        \"SQ\": \"SQ1\",\n",
    "        \"SR\": \"SR1\",\n",
    "        \"SU\": \"U1\",\n",
    "    }\n",
    ")\n",
    "df[\"Post\"] = df[\"Post\"].replace(\n",
    "    to_replace={\n",
    "        \"AIT Taipei\": \"Taipei\",\n",
    "        \"Dar Es Salaam\": \"Dar es Salaam\",\n",
    "        \"Mumbai (Bombay)\": \"Mumbai\",\n",
    "        \"Guatemala\": \"Guatemala City\",\n",
    "        \"Panama\": \"Panama City\",\n",
    "        \"Kuwait\": \"Kuwait City\",\n",
    "        \"Port Au Prince\": \"Port-au-Prince\",\n",
    "        \"Port Of Spain\": \"Port of Spain\",\n",
    "        \"Rio De Janeiro\": \"Rio de Janeiro\",\n",
    "        \"Tijuana Tpf\": \"Tijuana\",\n",
    "        \"Chennai ( Madras)\": \"Chennai\",\n",
    "        \"Chennai (Madras)\": \"Chennai\",\n",
    "    }\n",
    ")\n",
    "df = df.groupby([\"Post\", \"Visa Class\", \"Month\"], as_index=False, sort=False)[\n",
    "    \"Issuances\"\n",
    "].sum()\n",
    "df\n"
   ]
  },
  {
   "cell_type": "code",
   "execution_count": 10,
   "metadata": {},
   "outputs": [
    {
     "name": "stderr",
     "output_type": "stream",
     "text": [
      "/Users/underyx/.local/pipx/venvs/jupyter/lib/python3.9/site-packages/pandas/core/generic.py:2779: UserWarning: The spaces in these column names will not be changed. In pandas versions < 0.14, spaces were converted to underscores.\n",
      "  sql.to_sql(\n"
     ]
    }
   ],
   "source": [
    "import re\n",
    "\n",
    "def slugify(text: str) -> str:\n",
    "    text = text.strip().lower()\n",
    "    text = re.sub(r\"[\\s_]\", \"-\", text)\n",
    "    text = re.sub(r\"[^\\w-]\", \"\", text)\n",
    "    return text\n",
    "\n",
    "df[\"Post Slug\"] = df[\"Post\"].apply(slugify)\n",
    "df[\"Visa Class Slug\"] = df[\"Visa Class\"].apply(slugify)\n",
    "\n",
    "post_slugs = pd.DataFrame(df[[\"Post Slug\", \"Post\"]].drop_duplicates().set_index(\"Post Slug\"))\n",
    "post_slugs.to_sql(\"post_slugs\", conn, if_exists=\"replace\")\n",
    "\n",
    "visa_slugs = pd.DataFrame(df[[\"Visa Class Slug\", \"Visa Class\"]].drop_duplicates().set_index(\"Visa Class Slug\"))\n",
    "\n",
    "visa_descriptions_sheet_url = \"https://docs.google.com/spreadsheets/d/1GLtqb3PVXFriG7lanunfYJrpUE7_e0_L-PEN2spBQbY/export?format=csv\"\n",
    "\n",
    "visa_descriptions = pd.read_csv(visa_descriptions_sheet_url).set_index(\"Visa Class Slug\")\n",
    "\n",
    "visa_slugs = visa_slugs.join(visa_descriptions, on=\"Visa Class Slug\")\n",
    "visa_slugs.to_sql(\"visa_slugs\", conn, if_exists=\"replace\")"
   ]
  },
  {
   "cell_type": "code",
   "execution_count": 11,
   "metadata": {
    "tags": []
   },
   "outputs": [
    {
     "data": {
      "text/html": [
       "<div>\n",
       "<style scoped>\n",
       "    .dataframe tbody tr th:only-of-type {\n",
       "        vertical-align: middle;\n",
       "    }\n",
       "\n",
       "    .dataframe tbody tr th {\n",
       "        vertical-align: top;\n",
       "    }\n",
       "\n",
       "    .dataframe thead th {\n",
       "        text-align: right;\n",
       "    }\n",
       "</style>\n",
       "<table border=\"1\" class=\"dataframe\">\n",
       "  <thead>\n",
       "    <tr style=\"text-align: right;\">\n",
       "      <th></th>\n",
       "      <th></th>\n",
       "      <th>Issuances</th>\n",
       "    </tr>\n",
       "    <tr>\n",
       "      <th>Post Slug</th>\n",
       "      <th>Visa Class Slug</th>\n",
       "      <th></th>\n",
       "    </tr>\n",
       "  </thead>\n",
       "  <tbody>\n",
       "    <tr>\n",
       "      <th>monrovia</th>\n",
       "      <th>g4</th>\n",
       "      <td>2.638889</td>\n",
       "    </tr>\n",
       "    <tr>\n",
       "      <th rowspan=\"4\" valign=\"top\">brussels</th>\n",
       "      <th>e11</th>\n",
       "      <td>0.222222</td>\n",
       "    </tr>\n",
       "    <tr>\n",
       "      <th>dv3</th>\n",
       "      <td>0.777778</td>\n",
       "    </tr>\n",
       "    <tr>\n",
       "      <th>dv2</th>\n",
       "      <td>0.666667</td>\n",
       "    </tr>\n",
       "    <tr>\n",
       "      <th>dv1</th>\n",
       "      <td>1.805556</td>\n",
       "    </tr>\n",
       "    <tr>\n",
       "      <th>...</th>\n",
       "      <th>...</th>\n",
       "      <td>...</td>\n",
       "    </tr>\n",
       "    <tr>\n",
       "      <th>tbilisi</th>\n",
       "      <th>sd1</th>\n",
       "      <td>0.000000</td>\n",
       "    </tr>\n",
       "    <tr>\n",
       "      <th>monterrey</th>\n",
       "      <th>e3r</th>\n",
       "      <td>0.000000</td>\n",
       "    </tr>\n",
       "    <tr>\n",
       "      <th>jerusalem</th>\n",
       "      <th>a1</th>\n",
       "      <td>0.000000</td>\n",
       "    </tr>\n",
       "    <tr>\n",
       "      <th>islamabad</th>\n",
       "      <th>h1b1</th>\n",
       "      <td>0.000000</td>\n",
       "    </tr>\n",
       "    <tr>\n",
       "      <th>la-paz</th>\n",
       "      <th>g3</th>\n",
       "      <td>0.000000</td>\n",
       "    </tr>\n",
       "  </tbody>\n",
       "</table>\n",
       "<p>14141 rows × 1 columns</p>\n",
       "</div>"
      ],
      "text/plain": [
       "                           Issuances\n",
       "Post Slug Visa Class Slug           \n",
       "monrovia  g4                2.638889\n",
       "brussels  e11               0.222222\n",
       "          dv3               0.777778\n",
       "          dv2               0.666667\n",
       "          dv1               1.805556\n",
       "...                              ...\n",
       "tbilisi   sd1               0.000000\n",
       "monterrey e3r               0.000000\n",
       "jerusalem a1                0.000000\n",
       "islamabad h1b1              0.000000\n",
       "la-paz    g3                0.000000\n",
       "\n",
       "[14141 rows x 1 columns]"
      ]
     },
     "execution_count": 11,
     "metadata": {},
     "output_type": "execute_result"
    }
   ],
   "source": [
    "def get_baseline(df: pd.DataFrame) -> pd.DataFrame:\n",
    "    df = df.set_index(\"Month\")\n",
    "    return df[[\"Issuances\"]].reindex(index=NORMAL_MONTHS, fill_value=0).mean()\n",
    "\n",
    "baselines = df.groupby([\"Post Slug\", \"Visa Class Slug\"], sort=False).apply(get_baseline)\n",
    "baselines"
   ]
  },
  {
   "cell_type": "code",
   "execution_count": 12,
   "metadata": {},
   "outputs": [
    {
     "data": {
      "text/html": [
       "<div>\n",
       "<style scoped>\n",
       "    .dataframe tbody tr th:only-of-type {\n",
       "        vertical-align: middle;\n",
       "    }\n",
       "\n",
       "    .dataframe tbody tr th {\n",
       "        vertical-align: top;\n",
       "    }\n",
       "\n",
       "    .dataframe thead th {\n",
       "        text-align: right;\n",
       "    }\n",
       "</style>\n",
       "<table border=\"1\" class=\"dataframe\">\n",
       "  <thead>\n",
       "    <tr style=\"text-align: right;\">\n",
       "      <th></th>\n",
       "      <th>Post</th>\n",
       "      <th>Visa Class</th>\n",
       "      <th>Month</th>\n",
       "      <th>Issuances</th>\n",
       "      <th>Post Slug</th>\n",
       "      <th>Visa Class Slug</th>\n",
       "    </tr>\n",
       "  </thead>\n",
       "  <tbody>\n",
       "  </tbody>\n",
       "</table>\n",
       "</div>"
      ],
      "text/plain": [
       "Empty DataFrame\n",
       "Columns: [Post, Visa Class, Month, Issuances, Post Slug, Visa Class Slug]\n",
       "Index: []"
      ]
     },
     "execution_count": 12,
     "metadata": {},
     "output_type": "execute_result"
    }
   ],
   "source": [
    "df.loc[df[\"Post Slug\"] == \"guayaquil\"].loc[df[\"Visa Class Slug\"] == \"f3\"]"
   ]
  },
  {
   "cell_type": "code",
   "execution_count": 13,
   "metadata": {},
   "outputs": [
    {
     "data": {
      "text/plain": [
       "Issuances    3.361111\n",
       "Name: (budapest, cr1ir1), dtype: float64"
      ]
     },
     "execution_count": 13,
     "metadata": {},
     "output_type": "execute_result"
    }
   ],
   "source": [
    "baselines.loc[(\"budapest\", \"cr1ir1\")]"
   ]
  },
  {
   "cell_type": "code",
   "execution_count": 14,
   "metadata": {},
   "outputs": [
    {
     "name": "stderr",
     "output_type": "stream",
     "text": [
      "/Users/underyx/.local/pipx/venvs/jupyter/lib/python3.9/site-packages/pandas/core/generic.py:2779: UserWarning: The spaces in these column names will not be changed. In pandas versions < 0.14, spaces were converted to underscores.\n",
      "  sql.to_sql(\n"
     ]
    }
   ],
   "source": [
    "baselines.to_pickle(\"baselines.pkl\")\n",
    "baselines.to_sql(\"baselines\", conn, if_exists=\"replace\")"
   ]
  },
  {
   "cell_type": "code",
   "execution_count": 15,
   "metadata": {
    "tags": []
   },
   "outputs": [],
   "source": [
    "def get_backlog(df: pd.DataFrame) -> pd.DataFrame:\n",
    "    df = df.reset_index()\n",
    "    key = tuple(df.loc[0, [\"Post Slug\", \"Visa Class Slug\"]])\n",
    "    baseline = baselines.loc[key][0]\n",
    "\n",
    "    df = df.set_index(\"Month\")\n",
    "\n",
    "    normal_months = df[[\"Issuances\"]].reindex(index=NORMAL_MONTHS, fill_value=0)\n",
    "\n",
    "    covid_months = df[[\"Issuances\"]].reindex(index=COVID_MONTHS, fill_value=0)\n",
    "    covid_months[\"Actual Progress\"] = covid_months[\"Issuances\"].cumsum()\n",
    "    covid_months[\"Expected Progress\"] = np.linspace(baseline, baseline * len(covid_months), num=len(covid_months))\n",
    "    covid_months[\"Backlog\"] = covid_months[\"Actual Progress\"] - covid_months[\"Expected Progress\"]\n",
    "    covid_months[\"Months Ahead\"] = covid_months[\"Backlog\"] / baseline\n",
    "    covid_months = covid_months.drop(columns=[\"Actual Progress\", \"Expected Progress\"])\n",
    "\n",
    "    return pd.concat([normal_months, covid_months])[[\"Issuances\", \"Backlog\", \"Months Ahead\"]]\n",
    "\n",
    "backlogs = df.groupby([\"Post Slug\", \"Visa Class Slug\"], sort=False).apply(get_backlog)"
   ]
  },
  {
   "cell_type": "code",
   "execution_count": null,
   "metadata": {},
   "outputs": [],
   "source": [
    "backlogs.to_pickle(\"backlogs.pkl\")"
   ]
  },
  {
   "cell_type": "code",
   "execution_count": null,
   "metadata": {},
   "outputs": [],
   "source": [
    "backlogs.to_sql(\"backlogs\", conn, if_exists=\"replace\")"
   ]
  },
  {
   "cell_type": "code",
   "execution_count": null,
   "metadata": {},
   "outputs": [],
   "source": []
  },
  {
   "cell_type": "code",
   "execution_count": null,
   "metadata": {},
   "outputs": [],
   "source": []
  }
 ],
 "metadata": {
  "interpreter": {
   "hash": "bd8599e3dcf3b8804764bb75a1c74f8dbe8b1194d00972676913eeca55b52a06"
  },
  "kernelspec": {
   "display_name": "pipx",
   "language": "python",
   "name": "pipx"
  },
  "language_info": {
   "codemirror_mode": {
    "name": "ipython",
    "version": 3
   },
   "file_extension": ".py",
   "mimetype": "text/x-python",
   "name": "python",
   "nbconvert_exporter": "python",
   "pygments_lexer": "ipython3",
   "version": "3.9.4"
  },
  "orig_nbformat": 4
 },
 "nbformat": 4,
 "nbformat_minor": 2
}