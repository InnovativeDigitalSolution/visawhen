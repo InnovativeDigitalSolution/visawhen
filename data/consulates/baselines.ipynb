{
 "cells": [
  {
   "cell_type": "code",
   "execution_count": 1,
   "metadata": {},
   "outputs": [],
   "source": [
    "import pandas as pd\n",
    "import numpy as np\n",
    "import sqlite3\n",
    "conn = sqlite3.connect('consulates.sqlite')"
   ]
  },
  {
   "cell_type": "code",
   "execution_count": 2,
   "metadata": {},
   "outputs": [
    {
     "data": {
      "text/plain": [
       "(DatetimeIndex(['2017-03-01', '2017-04-01', '2017-05-01', '2017-06-01',\n",
       "                '2017-07-01', '2017-08-01', '2017-09-01', '2017-10-01',\n",
       "                '2017-11-01', '2017-12-01', '2018-01-01', '2018-02-01',\n",
       "                '2018-03-01', '2018-04-01', '2018-05-01', '2018-06-01',\n",
       "                '2018-07-01', '2018-08-01', '2018-09-01', '2018-10-01',\n",
       "                '2018-11-01', '2018-12-01', '2019-01-01', '2019-02-01',\n",
       "                '2019-03-01', '2019-04-01', '2019-05-01', '2019-06-01',\n",
       "                '2019-07-01', '2019-08-01', '2019-09-01', '2019-10-01',\n",
       "                '2019-11-01', '2019-12-01', '2020-01-01', '2020-02-01'],\n",
       "               dtype='datetime64[ns]', name='Month', freq='MS'),\n",
       " DatetimeIndex(['2020-03-01', '2020-04-01', '2020-05-01', '2020-06-01',\n",
       "                '2020-07-01', '2020-08-01', '2020-09-01', '2020-10-01',\n",
       "                '2020-11-01', '2020-12-01', '2021-01-01', '2021-02-01',\n",
       "                '2021-03-01', '2021-04-01'],\n",
       "               dtype='datetime64[ns]', name='Month', freq='MS'))"
      ]
     },
     "execution_count": 2,
     "metadata": {},
     "output_type": "execute_result"
    }
   ],
   "source": [
    "df = pd.read_pickle(\"all_months.pkl\")\n",
    "DATA_START_DATE = df[\"Month\"].min()\n",
    "DATA_END_DATE = df[\"Month\"].max()\n",
    "COVID_START_DATE = pd.Timestamp(\"20200301\")\n",
    "NORMAL_MONTHS = pd.date_range(start=DATA_START_DATE, end=COVID_START_DATE, freq=\"MS\", name=\"Month\", closed=\"left\")\n",
    "COVID_MONTHS = pd.date_range(start=COVID_START_DATE, end=DATA_END_DATE, freq=\"MS\", name=\"Month\")\n",
    "NORMAL_MONTHS, COVID_MONTHS"
   ]
  },
  {
   "cell_type": "code",
   "execution_count": 3,
   "metadata": {},
   "outputs": [
    {
     "data": {
      "text/html": [
       "<div>\n",
       "<style scoped>\n",
       "    .dataframe tbody tr th:only-of-type {\n",
       "        vertical-align: middle;\n",
       "    }\n",
       "\n",
       "    .dataframe tbody tr th {\n",
       "        vertical-align: top;\n",
       "    }\n",
       "\n",
       "    .dataframe thead th {\n",
       "        text-align: right;\n",
       "    }\n",
       "</style>\n",
       "<table border=\"1\" class=\"dataframe\">\n",
       "  <thead>\n",
       "    <tr style=\"text-align: right;\">\n",
       "      <th></th>\n",
       "      <th>Post</th>\n",
       "      <th>Visa Class</th>\n",
       "      <th>Month</th>\n",
       "      <th>Issuances</th>\n",
       "    </tr>\n",
       "  </thead>\n",
       "  <tbody>\n",
       "    <tr>\n",
       "      <th>0</th>\n",
       "      <td>Mumbai</td>\n",
       "      <td>E22</td>\n",
       "      <td>2017-03-01</td>\n",
       "      <td>3</td>\n",
       "    </tr>\n",
       "    <tr>\n",
       "      <th>1</th>\n",
       "      <td>Islamabad</td>\n",
       "      <td>DV1</td>\n",
       "      <td>2017-03-01</td>\n",
       "      <td>1</td>\n",
       "    </tr>\n",
       "    <tr>\n",
       "      <th>2</th>\n",
       "      <td>Islamabad</td>\n",
       "      <td>E11</td>\n",
       "      <td>2017-03-01</td>\n",
       "      <td>1</td>\n",
       "    </tr>\n",
       "    <tr>\n",
       "      <th>3</th>\n",
       "      <td>Islamabad</td>\n",
       "      <td>E14</td>\n",
       "      <td>2017-03-01</td>\n",
       "      <td>1</td>\n",
       "    </tr>\n",
       "    <tr>\n",
       "      <th>4</th>\n",
       "      <td>Islamabad</td>\n",
       "      <td>E15</td>\n",
       "      <td>2017-03-01</td>\n",
       "      <td>2</td>\n",
       "    </tr>\n",
       "    <tr>\n",
       "      <th>...</th>\n",
       "      <td>...</td>\n",
       "      <td>...</td>\n",
       "      <td>...</td>\n",
       "      <td>...</td>\n",
       "    </tr>\n",
       "    <tr>\n",
       "      <th>87647</th>\n",
       "      <td>Ho Chi Minh City</td>\n",
       "      <td>F1</td>\n",
       "      <td>2021-04-01</td>\n",
       "      <td>59</td>\n",
       "    </tr>\n",
       "    <tr>\n",
       "      <th>87648</th>\n",
       "      <td>Ho Chi Minh City</td>\n",
       "      <td>EW</td>\n",
       "      <td>2021-04-01</td>\n",
       "      <td>5</td>\n",
       "    </tr>\n",
       "    <tr>\n",
       "      <th>87649</th>\n",
       "      <td>Ho Chi Minh City</td>\n",
       "      <td>E3</td>\n",
       "      <td>2021-04-01</td>\n",
       "      <td>6</td>\n",
       "    </tr>\n",
       "    <tr>\n",
       "      <th>87650</th>\n",
       "      <td>Ho Chi Minh City</td>\n",
       "      <td>FX</td>\n",
       "      <td>2021-04-01</td>\n",
       "      <td>207</td>\n",
       "    </tr>\n",
       "    <tr>\n",
       "      <th>87651</th>\n",
       "      <td>Almaty</td>\n",
       "      <td>FX</td>\n",
       "      <td>2021-04-01</td>\n",
       "      <td>3</td>\n",
       "    </tr>\n",
       "  </tbody>\n",
       "</table>\n",
       "<p>87652 rows × 4 columns</p>\n",
       "</div>"
      ],
      "text/plain": [
       "                   Post Visa Class      Month  Issuances\n",
       "0                Mumbai        E22 2017-03-01          3\n",
       "1             Islamabad        DV1 2017-03-01          1\n",
       "2             Islamabad        E11 2017-03-01          1\n",
       "3             Islamabad        E14 2017-03-01          1\n",
       "4             Islamabad        E15 2017-03-01          2\n",
       "...                 ...        ...        ...        ...\n",
       "87647  Ho Chi Minh City         F1 2021-04-01         59\n",
       "87648  Ho Chi Minh City         EW 2021-04-01          5\n",
       "87649  Ho Chi Minh City         E3 2021-04-01          6\n",
       "87650  Ho Chi Minh City         FX 2021-04-01        207\n",
       "87651            Almaty         FX 2021-04-01          3\n",
       "\n",
       "[87652 rows x 4 columns]"
      ]
     },
     "execution_count": 3,
     "metadata": {},
     "output_type": "execute_result"
    }
   ],
   "source": [
    "df[\"Visa Class\"] = df[\"Visa Class\"].replace(to_replace=[\"CR1\", \"IR1\"], value=\"CR1/IR1\")\n",
    "df[\"Visa Class\"] = df[\"Visa Class\"].replace(to_replace=[\"CR2\", \"IR2\"], value=\"CR2/IR2\")\n",
    "df = df.groupby([\"Post\", \"Visa Class\", \"Month\"], as_index=False, sort=False)[\"Issuances\"].sum()\n",
    "df"
   ]
  },
  {
   "cell_type": "code",
   "execution_count": 4,
   "metadata": {},
   "outputs": [
    {
     "name": "stderr",
     "output_type": "stream",
     "text": [
      "/Users/underyx/.local/pipx/venvs/jupyter/lib/python3.9/site-packages/pandas/core/generic.py:2779: UserWarning: The spaces in these column names will not be changed. In pandas versions < 0.14, spaces were converted to underscores.\n",
      "  sql.to_sql(\n"
     ]
    }
   ],
   "source": [
    "import re\n",
    "\n",
    "def slugify(text: str) -> str:\n",
    "    text = text.strip().lower()\n",
    "    text = re.sub(r\"\\s\", \"_\", text)\n",
    "    text = re.sub(r\"\\W\", \"\", text)\n",
    "    text = text.replace(\"_\", \"-\")\n",
    "    return text\n",
    "\n",
    "df[\"Post Slug\"] = df[\"Post\"].apply(slugify)\n",
    "df[\"Visa Class Slug\"] = df[\"Visa Class\"].apply(slugify)\n",
    "\n",
    "post_slugs = pd.DataFrame(df[[\"Post Slug\", \"Post\"]].drop_duplicates().set_index(\"Post Slug\"))\n",
    "post_slugs.to_sql(\"post_slugs\", conn, if_exists=\"replace\")\n",
    "\n",
    "visa_slugs = pd.DataFrame(df[[\"Visa Class Slug\", \"Visa Class\"]].drop_duplicates().set_index(\"Visa Class Slug\"))\n",
    "visa_slugs.to_sql(\"visa_slugs\", conn, if_exists=\"replace\")"
   ]
  },
  {
   "cell_type": "code",
   "execution_count": 5,
   "metadata": {
    "tags": []
   },
   "outputs": [
    {
     "data": {
      "text/html": [
       "<div>\n",
       "<style scoped>\n",
       "    .dataframe tbody tr th:only-of-type {\n",
       "        vertical-align: middle;\n",
       "    }\n",
       "\n",
       "    .dataframe tbody tr th {\n",
       "        vertical-align: top;\n",
       "    }\n",
       "\n",
       "    .dataframe thead th {\n",
       "        text-align: right;\n",
       "    }\n",
       "</style>\n",
       "<table border=\"1\" class=\"dataframe\">\n",
       "  <thead>\n",
       "    <tr style=\"text-align: right;\">\n",
       "      <th></th>\n",
       "      <th></th>\n",
       "      <th>Issuances</th>\n",
       "    </tr>\n",
       "    <tr>\n",
       "      <th>Post Slug</th>\n",
       "      <th>Visa Class Slug</th>\n",
       "      <th></th>\n",
       "    </tr>\n",
       "  </thead>\n",
       "  <tbody>\n",
       "    <tr>\n",
       "      <th>mumbai</th>\n",
       "      <th>e22</th>\n",
       "      <td>1.861111</td>\n",
       "    </tr>\n",
       "    <tr>\n",
       "      <th rowspan=\"4\" valign=\"top\">islamabad</th>\n",
       "      <th>dv1</th>\n",
       "      <td>0.361111</td>\n",
       "    </tr>\n",
       "    <tr>\n",
       "      <th>e11</th>\n",
       "      <td>0.305556</td>\n",
       "    </tr>\n",
       "    <tr>\n",
       "      <th>e14</th>\n",
       "      <td>0.361111</td>\n",
       "    </tr>\n",
       "    <tr>\n",
       "      <th>e15</th>\n",
       "      <td>0.861111</td>\n",
       "    </tr>\n",
       "    <tr>\n",
       "      <th>...</th>\n",
       "      <th>...</th>\n",
       "      <td>...</td>\n",
       "    </tr>\n",
       "    <tr>\n",
       "      <th>guayaquil</th>\n",
       "      <th>f3</th>\n",
       "      <td>0.000000</td>\n",
       "    </tr>\n",
       "    <tr>\n",
       "      <th rowspan=\"4\" valign=\"top\">ho-chi-minh-city</th>\n",
       "      <th>am</th>\n",
       "      <td>0.000000</td>\n",
       "    </tr>\n",
       "    <tr>\n",
       "      <th>c2a</th>\n",
       "      <td>0.000000</td>\n",
       "    </tr>\n",
       "    <tr>\n",
       "      <th>f2a</th>\n",
       "      <td>0.000000</td>\n",
       "    </tr>\n",
       "    <tr>\n",
       "      <th>e3</th>\n",
       "      <td>0.000000</td>\n",
       "    </tr>\n",
       "  </tbody>\n",
       "</table>\n",
       "<p>6674 rows × 1 columns</p>\n",
       "</div>"
      ],
      "text/plain": [
       "                                  Issuances\n",
       "Post Slug        Visa Class Slug           \n",
       "mumbai           e22               1.861111\n",
       "islamabad        dv1               0.361111\n",
       "                 e11               0.305556\n",
       "                 e14               0.361111\n",
       "                 e15               0.861111\n",
       "...                                     ...\n",
       "guayaquil        f3                0.000000\n",
       "ho-chi-minh-city am                0.000000\n",
       "                 c2a               0.000000\n",
       "                 f2a               0.000000\n",
       "                 e3                0.000000\n",
       "\n",
       "[6674 rows x 1 columns]"
      ]
     },
     "execution_count": 5,
     "metadata": {},
     "output_type": "execute_result"
    }
   ],
   "source": [
    "def get_baseline(df: pd.DataFrame) -> pd.DataFrame:\n",
    "    df = df.set_index(\"Month\")\n",
    "    return df[[\"Issuances\"]].reindex(index=NORMAL_MONTHS, fill_value=0).mean()\n",
    "\n",
    "baselines = df.groupby([\"Post Slug\", \"Visa Class Slug\"], sort=False).apply(get_baseline)\n",
    "baselines"
   ]
  },
  {
   "cell_type": "code",
   "execution_count": 6,
   "metadata": {},
   "outputs": [
    {
     "data": {
      "text/html": [
       "<div>\n",
       "<style scoped>\n",
       "    .dataframe tbody tr th:only-of-type {\n",
       "        vertical-align: middle;\n",
       "    }\n",
       "\n",
       "    .dataframe tbody tr th {\n",
       "        vertical-align: top;\n",
       "    }\n",
       "\n",
       "    .dataframe thead th {\n",
       "        text-align: right;\n",
       "    }\n",
       "</style>\n",
       "<table border=\"1\" class=\"dataframe\">\n",
       "  <thead>\n",
       "    <tr style=\"text-align: right;\">\n",
       "      <th></th>\n",
       "      <th>Post</th>\n",
       "      <th>Visa Class</th>\n",
       "      <th>Month</th>\n",
       "      <th>Issuances</th>\n",
       "      <th>Post Slug</th>\n",
       "      <th>Visa Class Slug</th>\n",
       "    </tr>\n",
       "  </thead>\n",
       "  <tbody>\n",
       "    <tr>\n",
       "      <th>87628</th>\n",
       "      <td>Guayaquil</td>\n",
       "      <td>F3</td>\n",
       "      <td>2021-04-01</td>\n",
       "      <td>9</td>\n",
       "      <td>guayaquil</td>\n",
       "      <td>f3</td>\n",
       "    </tr>\n",
       "  </tbody>\n",
       "</table>\n",
       "</div>"
      ],
      "text/plain": [
       "            Post Visa Class      Month  Issuances  Post Slug Visa Class Slug\n",
       "87628  Guayaquil         F3 2021-04-01          9  guayaquil              f3"
      ]
     },
     "execution_count": 6,
     "metadata": {},
     "output_type": "execute_result"
    }
   ],
   "source": [
    "df.loc[df[\"Post Slug\"] == \"guayaquil\"].loc[df[\"Visa Class Slug\"] == \"f3\"]"
   ]
  },
  {
   "cell_type": "code",
   "execution_count": 7,
   "metadata": {},
   "outputs": [
    {
     "data": {
      "text/plain": [
       "Issuances    3.361111\n",
       "Name: (budapest, cr1ir1), dtype: float64"
      ]
     },
     "execution_count": 7,
     "metadata": {},
     "output_type": "execute_result"
    }
   ],
   "source": [
    "baselines.loc[(\"budapest\", \"cr1ir1\")]"
   ]
  },
  {
   "cell_type": "code",
   "execution_count": 8,
   "metadata": {},
   "outputs": [
    {
     "name": "stderr",
     "output_type": "stream",
     "text": [
      "/Users/underyx/.local/pipx/venvs/jupyter/lib/python3.9/site-packages/pandas/core/generic.py:2779: UserWarning: The spaces in these column names will not be changed. In pandas versions < 0.14, spaces were converted to underscores.\n",
      "  sql.to_sql(\n"
     ]
    }
   ],
   "source": [
    "baselines.to_pickle(\"baselines.pkl\")\n",
    "baselines.to_sql(\"baselines\", conn, if_exists=\"replace\")"
   ]
  },
  {
   "cell_type": "code",
   "execution_count": 9,
   "metadata": {
    "tags": []
   },
   "outputs": [],
   "source": [
    "def get_backlog(df: pd.DataFrame) -> pd.DataFrame:\n",
    "    df = df.reset_index()\n",
    "    key = tuple(df.loc[0, [\"Post Slug\", \"Visa Class Slug\"]])\n",
    "    baseline = baselines.loc[key][0]\n",
    "\n",
    "    df = df.set_index(\"Month\")\n",
    "\n",
    "    normal_months = df[[\"Issuances\"]].reindex(index=NORMAL_MONTHS, fill_value=0)\n",
    "\n",
    "    covid_months = df[[\"Issuances\"]].reindex(index=COVID_MONTHS, fill_value=0)\n",
    "    covid_months[\"Actual Progress\"] = covid_months[\"Issuances\"].cumsum()\n",
    "    covid_months[\"Expected Progress\"] = np.linspace(baseline, baseline * len(covid_months), num=len(covid_months))\n",
    "    covid_months[\"Backlog\"] = covid_months[\"Actual Progress\"] - covid_months[\"Expected Progress\"]\n",
    "    covid_months[\"Months Ahead\"] = covid_months[\"Backlog\"] / baseline\n",
    "    covid_months = covid_months.drop(columns=[\"Actual Progress\", \"Expected Progress\"])\n",
    "\n",
    "    return pd.concat([normal_months, covid_months])[[\"Issuances\", \"Backlog\", \"Months Ahead\"]]\n",
    "\n",
    "backlogs = df.groupby([\"Post Slug\", \"Visa Class Slug\"], sort=False).apply(get_backlog)"
   ]
  },
  {
   "cell_type": "code",
   "execution_count": null,
   "metadata": {},
   "outputs": [],
   "source": [
    "backlogs.to_pickle(\"backlogs.pkl\")"
   ]
  },
  {
   "cell_type": "code",
   "execution_count": null,
   "metadata": {},
   "outputs": [],
   "source": [
    "backlogs.to_sql(\"backlogs\", conn, if_exists=\"replace\")"
   ]
  },
  {
   "cell_type": "code",
   "execution_count": null,
   "metadata": {},
   "outputs": [],
   "source": []
  }
 ],
 "metadata": {
  "interpreter": {
   "hash": "bd8599e3dcf3b8804764bb75a1c74f8dbe8b1194d00972676913eeca55b52a06"
  },
  "kernelspec": {
   "display_name": "Python 3.9.4 64-bit",
   "name": "python3"
  },
  "language_info": {
   "codemirror_mode": {
    "name": "ipython",
    "version": 3
   },
   "file_extension": ".py",
   "mimetype": "text/x-python",
   "name": "python",
   "nbconvert_exporter": "python",
   "pygments_lexer": "ipython3",
   "version": "3.9.4"
  },
  "orig_nbformat": 4
 },
 "nbformat": 4,
 "nbformat_minor": 2
}