{
 "cells": [
  {
   "cell_type": "code",
   "execution_count": 1,
   "metadata": {},
   "outputs": [],
   "source": [
    "import pandas as pd\n",
    "import numpy as np\n",
    "import sqlite3\n",
    "conn = sqlite3.connect('consulates.sqlite')"
   ]
  },
  {
   "cell_type": "code",
   "execution_count": 2,
   "metadata": {},
   "outputs": [
    {
     "data": {
      "text/plain": [
       "(DatetimeIndex(['2017-03-01', '2017-04-01', '2017-05-01', '2017-06-01',\n",
       "                '2017-07-01', '2017-08-01', '2017-09-01', '2017-10-01',\n",
       "                '2017-11-01', '2017-12-01', '2018-01-01', '2018-02-01',\n",
       "                '2018-03-01', '2018-04-01', '2018-05-01', '2018-06-01',\n",
       "                '2018-07-01', '2018-08-01', '2018-09-01', '2018-10-01',\n",
       "                '2018-11-01', '2018-12-01', '2019-01-01', '2019-02-01',\n",
       "                '2019-03-01', '2019-04-01', '2019-05-01', '2019-06-01',\n",
       "                '2019-07-01', '2019-08-01', '2019-09-01', '2019-10-01',\n",
       "                '2019-11-01', '2019-12-01', '2020-01-01', '2020-02-01'],\n",
       "               dtype='datetime64[ns]', name='Month', freq='MS'),\n",
       " DatetimeIndex(['2020-03-01', '2020-04-01', '2020-05-01', '2020-06-01',\n",
       "                '2020-07-01', '2020-08-01', '2020-09-01', '2020-10-01',\n",
       "                '2020-11-01', '2020-12-01', '2021-01-01', '2021-02-01',\n",
       "                '2021-03-01', '2021-04-01'],\n",
       "               dtype='datetime64[ns]', name='Month', freq='MS'))"
      ]
     },
     "execution_count": 2,
     "metadata": {},
     "output_type": "execute_result"
    }
   ],
   "source": [
    "df = pd.read_pickle(\"all_months.pkl\")\n",
    "DATA_START_DATE = df[\"Month\"].min()\n",
    "DATA_END_DATE = df[\"Month\"].max()\n",
    "COVID_START_DATE = pd.Timestamp(\"20200301\")\n",
    "NORMAL_MONTHS = pd.date_range(start=DATA_START_DATE, end=COVID_START_DATE, freq=\"MS\", name=\"Month\", closed=\"left\")\n",
    "COVID_MONTHS = pd.date_range(start=COVID_START_DATE, end=DATA_END_DATE, freq=\"MS\", name=\"Month\")\n",
    "NORMAL_MONTHS, COVID_MONTHS"
   ]
  },
  {
   "cell_type": "code",
   "execution_count": 3,
   "metadata": {},
   "outputs": [
    {
     "data": {
      "text/html": [
       "<div>\n",
       "<style scoped>\n",
       "    .dataframe tbody tr th:only-of-type {\n",
       "        vertical-align: middle;\n",
       "    }\n",
       "\n",
       "    .dataframe tbody tr th {\n",
       "        vertical-align: top;\n",
       "    }\n",
       "\n",
       "    .dataframe thead th {\n",
       "        text-align: right;\n",
       "    }\n",
       "</style>\n",
       "<table border=\"1\" class=\"dataframe\">\n",
       "  <thead>\n",
       "    <tr style=\"text-align: right;\">\n",
       "      <th></th>\n",
       "      <th>Post</th>\n",
       "      <th>Visa Class</th>\n",
       "      <th>Month</th>\n",
       "      <th>Issuances</th>\n",
       "    </tr>\n",
       "  </thead>\n",
       "  <tbody>\n",
       "    <tr>\n",
       "      <th>0</th>\n",
       "      <td>Dublin</td>\n",
       "      <td>H4</td>\n",
       "      <td>2017-03-01</td>\n",
       "      <td>1</td>\n",
       "    </tr>\n",
       "    <tr>\n",
       "      <th>1</th>\n",
       "      <td>Warsaw</td>\n",
       "      <td>K1</td>\n",
       "      <td>2017-03-01</td>\n",
       "      <td>10</td>\n",
       "    </tr>\n",
       "    <tr>\n",
       "      <th>2</th>\n",
       "      <td>Warsaw</td>\n",
       "      <td>J2</td>\n",
       "      <td>2017-03-01</td>\n",
       "      <td>6</td>\n",
       "    </tr>\n",
       "    <tr>\n",
       "      <th>3</th>\n",
       "      <td>Warsaw</td>\n",
       "      <td>J1</td>\n",
       "      <td>2017-03-01</td>\n",
       "      <td>477</td>\n",
       "    </tr>\n",
       "    <tr>\n",
       "      <th>4</th>\n",
       "      <td>Warsaw</td>\n",
       "      <td>I</td>\n",
       "      <td>2017-03-01</td>\n",
       "      <td>15</td>\n",
       "    </tr>\n",
       "    <tr>\n",
       "      <th>...</th>\n",
       "      <td>...</td>\n",
       "      <td>...</td>\n",
       "      <td>...</td>\n",
       "      <td>...</td>\n",
       "    </tr>\n",
       "    <tr>\n",
       "      <th>272039</th>\n",
       "      <td>Bogota</td>\n",
       "      <td>I5</td>\n",
       "      <td>2021-04-01</td>\n",
       "      <td>4</td>\n",
       "    </tr>\n",
       "    <tr>\n",
       "      <th>272040</th>\n",
       "      <td>Bogota</td>\n",
       "      <td>FX</td>\n",
       "      <td>2021-04-01</td>\n",
       "      <td>22</td>\n",
       "    </tr>\n",
       "    <tr>\n",
       "      <th>272041</th>\n",
       "      <td>Bogota</td>\n",
       "      <td>F4</td>\n",
       "      <td>2021-04-01</td>\n",
       "      <td>9</td>\n",
       "    </tr>\n",
       "    <tr>\n",
       "      <th>272042</th>\n",
       "      <td>Bogota</td>\n",
       "      <td>F3</td>\n",
       "      <td>2021-04-01</td>\n",
       "      <td>13</td>\n",
       "    </tr>\n",
       "    <tr>\n",
       "      <th>272043</th>\n",
       "      <td>Tokyo</td>\n",
       "      <td>O1</td>\n",
       "      <td>2021-04-01</td>\n",
       "      <td>17</td>\n",
       "    </tr>\n",
       "  </tbody>\n",
       "</table>\n",
       "<p>272044 rows × 4 columns</p>\n",
       "</div>"
      ],
      "text/plain": [
       "          Post Visa Class      Month  Issuances\n",
       "0       Dublin         H4 2017-03-01          1\n",
       "1       Warsaw         K1 2017-03-01         10\n",
       "2       Warsaw         J2 2017-03-01          6\n",
       "3       Warsaw         J1 2017-03-01        477\n",
       "4       Warsaw          I 2017-03-01         15\n",
       "...        ...        ...        ...        ...\n",
       "272039  Bogota         I5 2021-04-01          4\n",
       "272040  Bogota         FX 2021-04-01         22\n",
       "272041  Bogota         F4 2021-04-01          9\n",
       "272042  Bogota         F3 2021-04-01         13\n",
       "272043   Tokyo         O1 2021-04-01         17\n",
       "\n",
       "[272044 rows x 4 columns]"
      ]
     },
     "execution_count": 3,
     "metadata": {},
     "output_type": "execute_result"
    }
   ],
   "source": [
    "df[\"Visa Class\"] = df[\"Visa Class\"].replace(to_replace=[\"CR1\", \"IR1\"], value=\"CR1/IR1\")\n",
    "df[\"Visa Class\"] = df[\"Visa Class\"].replace(to_replace=[\"CR2\", \"IR2\"], value=\"CR2/IR2\")\n",
    "df[\"Post\"] = df[\"Post\"].replace(to_replace={\"AIT Taipei\": \"Taipei\", \"Dar Es Salaam\": \"Dar es Salaam\", \"Guatemala\": \"Guatemala City\", \"Panama\": \"Panama City\", \"Kuwait\": \"Kuwait City\", \"Port Of Spain\": \"Port of Spain\", \"Rio De Janeiro\": \"Rio de Janeiro\"})\n",
    "df = df.groupby([\"Post\", \"Visa Class\", \"Month\"], as_index=False, sort=False)[\"Issuances\"].sum()\n",
    "df"
   ]
  },
  {
   "cell_type": "code",
   "execution_count": 4,
   "metadata": {},
   "outputs": [
    {
     "name": "stderr",
     "output_type": "stream",
     "text": [
      "/Users/underyx/.local/pipx/venvs/jupyter/lib/python3.9/site-packages/pandas/core/generic.py:2779: UserWarning: The spaces in these column names will not be changed. In pandas versions < 0.14, spaces were converted to underscores.\n",
      "  sql.to_sql(\n"
     ]
    }
   ],
   "source": [
    "import re\n",
    "\n",
    "def slugify(text: str) -> str:\n",
    "    text = text.strip().lower()\n",
    "    text = re.sub(r\"[\\s_]\", \"-\", text)\n",
    "    text = re.sub(r\"[^\\w-]\", \"\", text)\n",
    "    return text\n",
    "\n",
    "df[\"Post Slug\"] = df[\"Post\"].apply(slugify)\n",
    "df[\"Visa Class Slug\"] = df[\"Visa Class\"].apply(slugify)\n",
    "\n",
    "post_slugs = pd.DataFrame(df[[\"Post Slug\", \"Post\"]].drop_duplicates().set_index(\"Post Slug\"))\n",
    "post_slugs.to_sql(\"post_slugs\", conn, if_exists=\"replace\")\n",
    "\n",
    "visa_slugs = pd.DataFrame(df[[\"Visa Class Slug\", \"Visa Class\"]].drop_duplicates().set_index(\"Visa Class Slug\"))\n",
    "visa_slugs.to_sql(\"visa_slugs\", conn, if_exists=\"replace\")"
   ]
  },
  {
   "cell_type": "code",
   "execution_count": 5,
   "metadata": {
    "tags": []
   },
   "outputs": [
    {
     "data": {
      "text/html": [
       "<div>\n",
       "<style scoped>\n",
       "    .dataframe tbody tr th:only-of-type {\n",
       "        vertical-align: middle;\n",
       "    }\n",
       "\n",
       "    .dataframe tbody tr th {\n",
       "        vertical-align: top;\n",
       "    }\n",
       "\n",
       "    .dataframe thead th {\n",
       "        text-align: right;\n",
       "    }\n",
       "</style>\n",
       "<table border=\"1\" class=\"dataframe\">\n",
       "  <thead>\n",
       "    <tr style=\"text-align: right;\">\n",
       "      <th></th>\n",
       "      <th></th>\n",
       "      <th>Issuances</th>\n",
       "    </tr>\n",
       "    <tr>\n",
       "      <th>Post Slug</th>\n",
       "      <th>Visa Class Slug</th>\n",
       "      <th></th>\n",
       "    </tr>\n",
       "  </thead>\n",
       "  <tbody>\n",
       "    <tr>\n",
       "      <th>dublin</th>\n",
       "      <th>h4</th>\n",
       "      <td>8.583333</td>\n",
       "    </tr>\n",
       "    <tr>\n",
       "      <th rowspan=\"4\" valign=\"top\">warsaw</th>\n",
       "      <th>k1</th>\n",
       "      <td>16.111111</td>\n",
       "    </tr>\n",
       "    <tr>\n",
       "      <th>j2</th>\n",
       "      <td>13.666667</td>\n",
       "    </tr>\n",
       "    <tr>\n",
       "      <th>j1</th>\n",
       "      <td>232.722222</td>\n",
       "    </tr>\n",
       "    <tr>\n",
       "      <th>i</th>\n",
       "      <td>11.833333</td>\n",
       "    </tr>\n",
       "    <tr>\n",
       "      <th>...</th>\n",
       "      <th>...</th>\n",
       "      <td>...</td>\n",
       "    </tr>\n",
       "    <tr>\n",
       "      <th rowspan=\"2\" valign=\"top\">bridgetown</th>\n",
       "      <th>f4</th>\n",
       "      <td>0.000000</td>\n",
       "    </tr>\n",
       "    <tr>\n",
       "      <th>f2b</th>\n",
       "      <td>0.000000</td>\n",
       "    </tr>\n",
       "    <tr>\n",
       "      <th>bogota</th>\n",
       "      <th>f2a</th>\n",
       "      <td>0.000000</td>\n",
       "    </tr>\n",
       "    <tr>\n",
       "      <th>bratislava</th>\n",
       "      <th>fx</th>\n",
       "      <td>0.000000</td>\n",
       "    </tr>\n",
       "    <tr>\n",
       "      <th>bogota</th>\n",
       "      <th>i5</th>\n",
       "      <td>0.000000</td>\n",
       "    </tr>\n",
       "  </tbody>\n",
       "</table>\n",
       "<p>15314 rows × 1 columns</p>\n",
       "</div>"
      ],
      "text/plain": [
       "                             Issuances\n",
       "Post Slug  Visa Class Slug            \n",
       "dublin     h4                 8.583333\n",
       "warsaw     k1                16.111111\n",
       "           j2                13.666667\n",
       "           j1               232.722222\n",
       "           i                 11.833333\n",
       "...                                ...\n",
       "bridgetown f4                 0.000000\n",
       "           f2b                0.000000\n",
       "bogota     f2a                0.000000\n",
       "bratislava fx                 0.000000\n",
       "bogota     i5                 0.000000\n",
       "\n",
       "[15314 rows x 1 columns]"
      ]
     },
     "execution_count": 5,
     "metadata": {},
     "output_type": "execute_result"
    }
   ],
   "source": [
    "def get_baseline(df: pd.DataFrame) -> pd.DataFrame:\n",
    "    df = df.set_index(\"Month\")\n",
    "    return df[[\"Issuances\"]].reindex(index=NORMAL_MONTHS, fill_value=0).mean()\n",
    "\n",
    "baselines = df.groupby([\"Post Slug\", \"Visa Class Slug\"], sort=False).apply(get_baseline)\n",
    "baselines"
   ]
  },
  {
   "cell_type": "code",
   "execution_count": 6,
   "metadata": {},
   "outputs": [
    {
     "data": {
      "text/html": [
       "<div>\n",
       "<style scoped>\n",
       "    .dataframe tbody tr th:only-of-type {\n",
       "        vertical-align: middle;\n",
       "    }\n",
       "\n",
       "    .dataframe tbody tr th {\n",
       "        vertical-align: top;\n",
       "    }\n",
       "\n",
       "    .dataframe thead th {\n",
       "        text-align: right;\n",
       "    }\n",
       "</style>\n",
       "<table border=\"1\" class=\"dataframe\">\n",
       "  <thead>\n",
       "    <tr style=\"text-align: right;\">\n",
       "      <th></th>\n",
       "      <th>Post</th>\n",
       "      <th>Visa Class</th>\n",
       "      <th>Month</th>\n",
       "      <th>Issuances</th>\n",
       "      <th>Post Slug</th>\n",
       "      <th>Visa Class Slug</th>\n",
       "    </tr>\n",
       "  </thead>\n",
       "  <tbody>\n",
       "    <tr>\n",
       "      <th>270344</th>\n",
       "      <td>Guayaquil</td>\n",
       "      <td>F3</td>\n",
       "      <td>2021-04-01</td>\n",
       "      <td>9</td>\n",
       "      <td>guayaquil</td>\n",
       "      <td>f3</td>\n",
       "    </tr>\n",
       "  </tbody>\n",
       "</table>\n",
       "</div>"
      ],
      "text/plain": [
       "             Post Visa Class      Month  Issuances  Post Slug Visa Class Slug\n",
       "270344  Guayaquil         F3 2021-04-01          9  guayaquil              f3"
      ]
     },
     "execution_count": 6,
     "metadata": {},
     "output_type": "execute_result"
    }
   ],
   "source": [
    "df.loc[df[\"Post Slug\"] == \"guayaquil\"].loc[df[\"Visa Class Slug\"] == \"f3\"]"
   ]
  },
  {
   "cell_type": "code",
   "execution_count": 7,
   "metadata": {},
   "outputs": [
    {
     "data": {
      "text/plain": [
       "Issuances    3.361111\n",
       "Name: (budapest, cr1ir1), dtype: float64"
      ]
     },
     "execution_count": 7,
     "metadata": {},
     "output_type": "execute_result"
    }
   ],
   "source": [
    "baselines.loc[(\"budapest\", \"cr1ir1\")]"
   ]
  },
  {
   "cell_type": "code",
   "execution_count": 8,
   "metadata": {},
   "outputs": [
    {
     "name": "stderr",
     "output_type": "stream",
     "text": [
      "/Users/underyx/.local/pipx/venvs/jupyter/lib/python3.9/site-packages/pandas/core/generic.py:2779: UserWarning: The spaces in these column names will not be changed. In pandas versions < 0.14, spaces were converted to underscores.\n",
      "  sql.to_sql(\n"
     ]
    }
   ],
   "source": [
    "baselines.to_pickle(\"baselines.pkl\")\n",
    "baselines.to_sql(\"baselines\", conn, if_exists=\"replace\")"
   ]
  },
  {
   "cell_type": "code",
   "execution_count": 9,
   "metadata": {
    "tags": []
   },
   "outputs": [],
   "source": [
    "def get_backlog(df: pd.DataFrame) -> pd.DataFrame:\n",
    "    df = df.reset_index()\n",
    "    key = tuple(df.loc[0, [\"Post Slug\", \"Visa Class Slug\"]])\n",
    "    baseline = baselines.loc[key][0]\n",
    "\n",
    "    df = df.set_index(\"Month\")\n",
    "\n",
    "    normal_months = df[[\"Issuances\"]].reindex(index=NORMAL_MONTHS, fill_value=0)\n",
    "\n",
    "    covid_months = df[[\"Issuances\"]].reindex(index=COVID_MONTHS, fill_value=0)\n",
    "    covid_months[\"Actual Progress\"] = covid_months[\"Issuances\"].cumsum()\n",
    "    covid_months[\"Expected Progress\"] = np.linspace(baseline, baseline * len(covid_months), num=len(covid_months))\n",
    "    covid_months[\"Backlog\"] = covid_months[\"Actual Progress\"] - covid_months[\"Expected Progress\"]\n",
    "    covid_months[\"Months Ahead\"] = covid_months[\"Backlog\"] / baseline\n",
    "    covid_months = covid_months.drop(columns=[\"Actual Progress\", \"Expected Progress\"])\n",
    "\n",
    "    return pd.concat([normal_months, covid_months])[[\"Issuances\", \"Backlog\", \"Months Ahead\"]]\n",
    "\n",
    "backlogs = df.groupby([\"Post Slug\", \"Visa Class Slug\"], sort=False).apply(get_backlog)"
   ]
  },
  {
   "cell_type": "code",
   "execution_count": null,
   "metadata": {},
   "outputs": [],
   "source": [
    "backlogs.to_pickle(\"backlogs.pkl\")"
   ]
  },
  {
   "cell_type": "code",
   "execution_count": null,
   "metadata": {},
   "outputs": [],
   "source": [
    "backlogs.to_sql(\"backlogs\", conn, if_exists=\"replace\")"
   ]
  },
  {
   "cell_type": "code",
   "execution_count": null,
   "metadata": {},
   "outputs": [],
   "source": []
  },
  {
   "cell_type": "code",
   "execution_count": null,
   "metadata": {},
   "outputs": [],
   "source": []
  }
 ],
 "metadata": {
  "interpreter": {
   "hash": "bd8599e3dcf3b8804764bb75a1c74f8dbe8b1194d00972676913eeca55b52a06"
  },
  "kernelspec": {
   "display_name": "Python 3.9.4 64-bit ('jupyter': venv)",
   "name": "pipx"
  },
  "language_info": {
   "codemirror_mode": {
    "name": "ipython",
    "version": 3
   },
   "file_extension": ".py",
   "mimetype": "text/x-python",
   "name": "python",
   "nbconvert_exporter": "python",
   "pygments_lexer": "ipython3",
   "version": "3.9.4"
  },
  "orig_nbformat": 4
 },
 "nbformat": 4,
 "nbformat_minor": 2
}